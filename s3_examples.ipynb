{
  "nbformat": 4,
  "nbformat_minor": 0,
  "metadata": {
    "colab": {
      "name": "s3_examples.ipynb",
      "provenance": []
    },
    "kernelspec": {
      "name": "python3",
      "display_name": "Python 3"
    }
  },
  "cells": [
    {
      "cell_type": "markdown",
      "metadata": {
        "id": "CvvT_YSVH28D",
        "colab_type": "text"
      },
      "source": [
        "### Dependencies"
      ]
    },
    {
      "cell_type": "code",
      "metadata": {
        "id": "rXI_a5QuDwHa",
        "colab_type": "code",
        "colab": {
          "base_uri": "https://localhost:8080/",
          "height": 1000
        },
        "outputId": "be167d20-8fc0-4b43-b167-416d156415a6"
      },
      "source": [
        "!curl -sL https://ibm.biz/idt-installer | bash\n",
        "!ibmcloud plugin install cloud-object-storage"
      ],
      "execution_count": 1,
      "outputs": [
        {
          "output_type": "stream",
          "text": [
            "\u001b[0;36m[main]\u001b[0m --==[ \u001b[1;32mIBM Cloud Developer Tools for Linux/MacOS - Installer, v1.2.3\u001b[0m ]==--\n",
            "\u001b[0;36m[install]\u001b[0m Starting Update...\n",
            "\u001b[0;36m[install_deps_with_apt_get]\u001b[0m Checking for and updating 'apt-get' support on Linux\n",
            "Hit:1 https://cloud.r-project.org/bin/linux/ubuntu bionic-cran35/ InRelease\n",
            "Ign:2 https://developer.download.nvidia.com/compute/cuda/repos/ubuntu1804/x86_64  InRelease\n",
            "Ign:3 https://developer.download.nvidia.com/compute/machine-learning/repos/ubuntu1804/x86_64  InRelease\n",
            "Hit:4 https://developer.download.nvidia.com/compute/cuda/repos/ubuntu1804/x86_64  Release\n",
            "Hit:5 https://developer.download.nvidia.com/compute/machine-learning/repos/ubuntu1804/x86_64  Release\n",
            "Hit:6 http://security.ubuntu.com/ubuntu bionic-security InRelease\n",
            "Get:7 http://ppa.launchpad.net/git-core/ppa/ubuntu bionic InRelease [20.7 kB]\n",
            "Hit:8 http://archive.ubuntu.com/ubuntu bionic InRelease\n",
            "Hit:10 http://archive.ubuntu.com/ubuntu bionic-updates InRelease\n",
            "Hit:12 http://archive.ubuntu.com/ubuntu bionic-backports InRelease\n",
            "Hit:13 http://ppa.launchpad.net/graphics-drivers/ppa/ubuntu bionic InRelease\n",
            "Hit:14 http://ppa.launchpad.net/marutter/c2d4u3.5/ubuntu bionic InRelease\n",
            "Get:15 http://ppa.launchpad.net/git-core/ppa/ubuntu bionic/main amd64 Packages [3,176 B]\n",
            "Fetched 23.9 kB in 2s (13.7 kB/s)\n",
            "Reading package lists... Done\n",
            "Hit:1 https://cloud.r-project.org/bin/linux/ubuntu bionic-cran35/ InRelease\n",
            "Ign:2 https://developer.download.nvidia.com/compute/cuda/repos/ubuntu1804/x86_64  InRelease\n",
            "Ign:3 https://developer.download.nvidia.com/compute/machine-learning/repos/ubuntu1804/x86_64  InRelease\n",
            "Hit:4 https://developer.download.nvidia.com/compute/cuda/repos/ubuntu1804/x86_64  Release\n",
            "Hit:5 https://developer.download.nvidia.com/compute/machine-learning/repos/ubuntu1804/x86_64  Release\n",
            "Hit:6 http://archive.ubuntu.com/ubuntu bionic InRelease\n",
            "Hit:7 http://security.ubuntu.com/ubuntu bionic-security InRelease\n",
            "Hit:8 http://ppa.launchpad.net/git-core/ppa/ubuntu bionic InRelease\n",
            "Hit:9 http://archive.ubuntu.com/ubuntu bionic-updates InRelease\n",
            "Hit:11 http://archive.ubuntu.com/ubuntu bionic-backports InRelease\n",
            "Hit:13 http://ppa.launchpad.net/graphics-drivers/ppa/ubuntu bionic InRelease\n",
            "Hit:14 http://ppa.launchpad.net/marutter/c2d4u3.5/ubuntu bionic InRelease\n",
            "Reading package lists... Done\n",
            "\u001b[0;36m[install_deps_with_apt_get]\u001b[0m Installing/updating external dependency: curl\n",
            "\u001b[0;36m[install_deps_with_apt_get]\u001b[0m Installing/updating external dependency: git\n",
            "\u001b[0;36m[install_docker]\u001b[0m Installing/updating external dependency: docker\n",
            "# Executing docker install script, commit: 442e66405c304fa92af8aadaa1d9b31bf4b0ad94\n",
            "+ sh -c apt-get update -qq >/dev/null\n",
            "+ sh -c DEBIAN_FRONTEND=noninteractive apt-get install -y -qq apt-transport-https ca-certificates curl >/dev/null\n",
            "+ sh -c curl -fsSL \"https://download.docker.com/linux/ubuntu/gpg\" | apt-key add -qq - >/dev/null\n",
            "Warning: apt-key output should not be parsed (stdout is not a terminal)\n",
            "+ sh -c echo \"deb [arch=amd64] https://download.docker.com/linux/ubuntu bionic stable\" > /etc/apt/sources.list.d/docker.list\n",
            "+ sh -c apt-get update -qq >/dev/null\n",
            "+ [ -n  ]\n",
            "+ sh -c apt-get install -y -qq --no-install-recommends docker-ce >/dev/null\n",
            "If you would like to use Docker as a non-root user, you should now consider\n",
            "adding your user to the \"docker\" group with something like:\n",
            "\n",
            "  sudo usermod -aG docker your-user\n",
            "\n",
            "Remember that you will have to log out and back in for this to take effect!\n",
            "\n",
            "WARNING: Adding a user to the \"docker\" group will grant the ability to run\n",
            "         containers which can be used to obtain root privileges on the\n",
            "         docker host.\n",
            "         Refer to https://docs.docker.com/engine/security/security/#docker-daemon-attack-surface\n",
            "         for more information.\n",
            "\u001b[0;36m[install_docker]\u001b[0m If you want to run docker without sudo run: \"sudo groupadd docker && sudo usermod -aG docker $USER\"\n",
            "\u001b[0;36m[install_docker]\u001b[0m Please review any setup requirements for 'docker' from: https://docs.docker.com/engine/installation/\n",
            "Client: Docker Engine - Community\n",
            " Version:           19.03.8\n",
            " API version:       1.40\n",
            " Go version:        go1.12.17\n",
            " Git commit:        afacb8b7f0\n",
            " Built:             Wed Mar 11 01:25:46 2020\n",
            " OS/Arch:           linux/amd64\n",
            " Experimental:      false\n",
            "Cannot connect to the Docker daemon at unix:///var/run/docker.sock. Is the docker daemon running?\n",
            "\u001b[0;36m[install_deps_with_apt_get]\u001b[0m Installing/updating external dependency: kubectl\n",
            "  % Total    % Received % Xferd  Average Speed   Time    Time     Time  Current\n",
            "                                 Dload  Upload   Total   Spent    Left  Speed\n",
            "100   278  100   278    0     0    544      0 --:--:-- --:--:-- --:--:--   544\n",
            "######################################################################## 100.0%\n",
            "\u001b[0;36m[install_deps_with_apt_get]\u001b[0m Please review any setup requirements for 'kubectl' from: https://kubernetes.io/docs/tasks/tools/install-kubectl/\n",
            "\u001b[0;36m[install_deps_with_apt_get]\u001b[0m Installing/updating external dependency: helm\n",
            "Downloading https://get.helm.sh/helm-v2.16.4-linux-amd64.tar.gz\n",
            "Preparing to install helm and tiller into /usr/local/bin\n",
            "helm installed into /usr/local/bin/helm\n",
            "tiller installed into /usr/local/bin/tiller\n",
            "Run 'helm init' to configure helm.\n",
            "\u001b[0;36m[install_deps_with_apt_get]\u001b[0m Please review any setup requirements for 'helm' from: https://github.com/kubernetes/helm/blob/master/docs/install.md\n",
            "\u001b[0;36m[install_ibmcloud]\u001b[0m Installing IBM Cloud 'ibmcloud' CLI for platform 'Linux'...\n",
            "\u001b[0;36m[install_ibmcloud]\u001b[0m Downloading and installing IBM Cloud 'ibmcloud' CLI from: https://clis.cloud.ibm.com/install/linux\n",
            "Current platform is linux64. Downloading corresponding IBM Cloud CLI...\n",
            "  % Total    % Received % Xferd  Average Speed   Time    Time     Time  Current\n",
            "                                 Dload  Upload   Total   Spent    Left  Speed\n",
            "100   120    0   120    0     0    446      0 --:--:-- --:--:-- --:--:--   446\n",
            "100 19.4M  100 19.4M    0     0  7596k      0  0:00:02  0:00:02 --:--:-- 11.0M\n",
            "Download complete. Executing installer...\n",
            "  % Total    % Received % Xferd  Average Speed   Time    Time     Time  Current\n",
            "                                 Dload  Upload   Total   Spent    Left  Speed\n",
            "100    40    0    40    0     0    118      0 --:--:-- --:--:-- --:--:--   118\n",
            "Bluemix_CLI/\n",
            "Bluemix_CLI/bin/\n",
            "Bluemix_CLI/bin/cfcli/\n",
            "Bluemix_CLI/bin/cfcli/cf\n",
            "Bluemix_CLI/bin/ibmcloud\n",
            "Bluemix_CLI/bin/ibmcloud-analytics\n",
            "Bluemix_CLI/bin/NOTICE\n",
            "Bluemix_CLI/bin/LICENSE\n",
            "Bluemix_CLI/autocomplete/\n",
            "Bluemix_CLI/autocomplete/bash_autocomplete\n",
            "Bluemix_CLI/autocomplete/zsh_autocomplete\n",
            "Bluemix_CLI/install\n",
            "Bluemix_CLI/uninstall\n",
            "Bluemix_CLI/install_bluemix_cli\n",
            "Copying files ...\n",
            "The installation completed successfully.\n",
            "To get started, open a terminal window and enter \"ibmcloud help\". Refer to \"http://ibm.biz/cli-auto-completion\" if you want to enable auto-completion for zsh or bash.\n",
            "\n",
            "IBM Cloud CLI has a plug-in framework to extend its capability. To install the recommended plug-ins and dependencies, run the install script from \"http://ibm.biz/install-idt\". For additional plug-in details, see \"http://ibm.biz/install-cli-plugin\".\n",
            "\n",
            "IBM Cloud CLI automatically collects data for usage analysis and user experience improvement. To disable the collecting, run \"ibmcloud config --usage-stats-collect false\"\n",
            "\n",
            "To uninstall, run \"/usr/local/ibmcloud/uninstall\"\n",
            "Install complete.\n",
            "\u001b[0;36m[install_ibmcloud]\u001b[0m IBM Cloud 'ibmcloud' CLI install finished.\n",
            "\u001b[0;36m[install_ibmcloud]\u001b[0m Running 'ibmcloud --version'...\n",
            "ibmcloud version 0.22.1+66bb68d-2020-02-18T08:26:00+00:00\n",
            "\u001b[0;36m[install_plugins]\u001b[0m Installing/updating IBM Cloud CLI plugins...\n",
            "\u001b[0;36m[install_plugins]\u001b[0m Checking status of plugin: cloud-functions\n",
            "\u001b[0;36m[install_plugins]\u001b[0m Installing plugin 'cloud-functions'\n",
            "Looking up '\u001b[36;1mcloud-functions\u001b[0m' from repository '\u001b[36;1mIBM Cloud\u001b[0m'...\n",
            "Plug-in '\u001b[36;1mcloud-functions/wsk/functions/fn\u001b[0m \u001b[36;1m1.0.38\u001b[0m' found in repository '\u001b[36;1mIBM Cloud\u001b[0m'\n",
            "Attempting to download the binary file...\n",
            " 13.10 MiB / 13.10 MiB  100.00% 1s\n",
            "13735265 bytes downloaded\n",
            "Installing binary...\n",
            "\u001b[32;1mOK\u001b[0m\n",
            "Plug-in '\u001b[36;1mcloud-functions 1.0.38\u001b[0m' was successfully installed into /root/.bluemix/plugins/cloud-functions. Use '\u001b[33;1mibmcloud plugin show cloud-functions\u001b[0m' to show its details.\n",
            "\u001b[0;36m[install_plugins]\u001b[0m Checking status of plugin: cloud-object-storage\n",
            "\u001b[0;36m[install_plugins]\u001b[0m Installing plugin 'cloud-object-storage'\n",
            "Looking up '\u001b[36;1mcloud-object-storage\u001b[0m' from repository '\u001b[36;1mIBM Cloud\u001b[0m'...\n",
            "Plug-in '\u001b[36;1mcloud-object-storage\u001b[0m \u001b[36;1m1.1.2\u001b[0m' found in repository '\u001b[36;1mIBM Cloud\u001b[0m'\n",
            "Attempting to download the binary file...\n",
            " 13.44 MiB / 13.44 MiB  100.00% 1s\n",
            "14094720 bytes downloaded\n",
            "Installing binary...\n",
            "\u001b[32;1mOK\u001b[0m\n",
            "Plug-in '\u001b[36;1mcloud-object-storage 1.1.2\u001b[0m' was successfully installed into /root/.bluemix/plugins/cloud-object-storage. Use '\u001b[33;1mibmcloud plugin show cloud-object-storage\u001b[0m' to show its details.\n",
            "\u001b[0;36m[install_plugins]\u001b[0m Checking status of plugin: container-registry\n",
            "\u001b[0;36m[install_plugins]\u001b[0m Installing plugin 'container-registry'\n",
            "Looking up '\u001b[36;1mcontainer-registry\u001b[0m' from repository '\u001b[36;1mIBM Cloud\u001b[0m'...\n",
            "Plug-in '\u001b[36;1mcontainer-registry\u001b[0m \u001b[36;1m0.1.454\u001b[0m' found in repository '\u001b[36;1mIBM Cloud\u001b[0m'\n",
            "Attempting to download the binary file...\n",
            " 26.61 MiB / 26.61 MiB  100.00% 2s\n",
            "27898432 bytes downloaded\n",
            "Installing binary...\n",
            "\u001b[32;1mOK\u001b[0m\n",
            "Plug-in '\u001b[36;1mcontainer-registry 0.1.454\u001b[0m' was successfully installed into /root/.bluemix/plugins/container-registry. Use '\u001b[33;1mibmcloud plugin show container-registry\u001b[0m' to show its details.\n",
            "\u001b[0;36m[install_plugins]\u001b[0m Checking status of plugin: container-service\n",
            "\u001b[0;36m[install_plugins]\u001b[0m Installing plugin 'container-service'\n",
            "Looking up '\u001b[36;1mcontainer-service\u001b[0m' from repository '\u001b[36;1mIBM Cloud\u001b[0m'...\n",
            "Plug-in '\u001b[36;1mcontainer-service/kubernetes-service\u001b[0m \u001b[36;1m1.0.0\u001b[0m' found in repository '\u001b[36;1mIBM Cloud\u001b[0m'\n",
            "Attempting to download the binary file...\n",
            " 21.23 MiB / 21.23 MiB  100.00% 1s\n",
            "22261760 bytes downloaded\n",
            "Installing binary...\n",
            "\u001b[32;1mOK\u001b[0m\n",
            "Plug-in '\u001b[36;1mcontainer-service 1.0.0\u001b[0m' was successfully installed into /root/.bluemix/plugins/container-service. Use '\u001b[33;1mibmcloud plugin show container-service\u001b[0m' to show its details.\n",
            "\u001b[0;36m[install_plugins]\u001b[0m Checking status of plugin: dev\n",
            "\u001b[0;36m[install_plugins]\u001b[0m Installing plugin 'dev'\n",
            "Looking up '\u001b[36;1mdev\u001b[0m' from repository '\u001b[36;1mIBM Cloud\u001b[0m'...\n",
            "Plug-in '\u001b[36;1mdev\u001b[0m \u001b[36;1m2.4.6\u001b[0m' found in repository '\u001b[36;1mIBM Cloud\u001b[0m'\n",
            "Attempting to download the binary file...\n",
            " 27.61 MiB / 27.61 MiB  100.00% 2s\n",
            "28952394 bytes downloaded\n",
            "Installing binary...\n",
            "\u001b[32;1mOK\u001b[0m\n",
            "Plug-in '\u001b[36;1mdev 2.4.6\u001b[0m' was successfully installed into /root/.bluemix/plugins/dev. Use '\u001b[33;1mibmcloud plugin show dev\u001b[0m' to show its details.\n",
            "\u001b[0;36m[install_plugins]\u001b[0m Running 'ibmcloud plugin list'...\n",
            "Listing installed plug-ins...\n",
            "\n",
            "\u001b[1mPlugin Name\u001b[0m                            \u001b[1mVersion\u001b[0m   \u001b[1mStatus\u001b[0m   \n",
            "\u001b[36;1mcontainer-service/kubernetes-service\u001b[0m   1.0.0        \n",
            "\u001b[36;1mdev\u001b[0m                                    2.4.6        \n",
            "\u001b[36;1mcloud-functions/wsk/functions/fn\u001b[0m       1.0.38       \n",
            "\u001b[36;1mcloud-object-storage\u001b[0m                   1.1.2        \n",
            "\u001b[36;1mcontainer-registry\u001b[0m                     0.1.454      \n",
            "\n",
            "\u001b[0;36m[install_plugins]\u001b[0m Finished installing/updating plugins\n",
            "\u001b[0;36m[env_setup]\u001b[0m \u001b[1;33mWARN\u001b[0m: Please restart your shell to enable 'ic' alias for ibmcloud!\n",
            "\u001b[0;36m[install]\u001b[0m Install finished.\n",
            "\u001b[0;36m[main]\u001b[0m --==[ \u001b[1;32mTotal time: 78 seconds\u001b[0m ]==--\n",
            "Looking up '\u001b[36;1mcloud-object-storage\u001b[0m' from repository '\u001b[36;1mIBM Cloud\u001b[0m'...\n",
            "Plug-in '\u001b[36;1mcloud-object-storage\u001b[0m \u001b[36;1m1.1.2\u001b[0m' found in repository '\u001b[36;1mIBM Cloud\u001b[0m'\n",
            "Plug-in '\u001b[36;1mcloud-object-storage 1.1.2\u001b[0m' was already installed. Do you want to re-install it or not? [y/N] \u001b[36;1m>\u001b[0m y\n",
            "Attempting to download the binary file...\n",
            " 13.44 MiB / 13.44 MiB  100.00% 1s\n",
            "14094720 bytes downloaded\n",
            "Installing binary...\n",
            "\u001b[32;1mOK\u001b[0m\n",
            "Plug-in '\u001b[36;1mcloud-object-storage 1.1.2\u001b[0m' was successfully installed into /root/.bluemix/plugins/cloud-object-storage. Use '\u001b[33;1mibmcloud plugin show cloud-object-storage\u001b[0m' to show its details.\n"
          ],
          "name": "stdout"
        }
      ]
    },
    {
      "cell_type": "code",
      "metadata": {
        "id": "n6uXMjl4FzBR",
        "colab_type": "code",
        "colab": {
          "base_uri": "https://localhost:8080/",
          "height": 564
        },
        "outputId": "9e82945f-e032-4103-ca71-2df2b88e77a6"
      },
      "source": [
        "pip install ibm-cos-sdk==2.0.1"
      ],
      "execution_count": 3,
      "outputs": [
        {
          "output_type": "stream",
          "text": [
            "Collecting ibm-cos-sdk==2.0.1\n",
            "\u001b[?25l  Downloading https://files.pythonhosted.org/packages/f2/b6/01d723b26bff1c92bbce674531f93d14dbbddbf7570dd58e16dae69589ec/ibm-cos-sdk-2.0.1.tar.gz (46kB)\n",
            "\u001b[K     |████████████████████████████████| 51kB 2.6MB/s \n",
            "\u001b[?25hCollecting ibm-cos-sdk-core==2.*,>=2.0.0\n",
            "\u001b[?25l  Downloading https://files.pythonhosted.org/packages/ea/c1/c823507c472bf88dbd045445df6850744111d34fd218c6ea3b9c9bde2cfe/ibm-cos-sdk-core-2.6.0.tar.gz (763kB)\n",
            "\u001b[K     |████████████████████████████████| 768kB 13.3MB/s \n",
            "\u001b[?25hCollecting ibm-cos-sdk-s3transfer==2.*,>=2.0.0\n",
            "\u001b[?25l  Downloading https://files.pythonhosted.org/packages/6f/92/682a28b99777a3fdc65e6d5641ed7e1ca470d0eab3bb2826cc30c6b60e21/ibm-cos-sdk-s3transfer-2.6.0.tar.gz (221kB)\n",
            "\u001b[K     |████████████████████████████████| 225kB 45.8MB/s \n",
            "\u001b[?25hRequirement already satisfied: jmespath<1.0.0,>=0.7.1 in /usr/local/lib/python3.6/dist-packages (from ibm-cos-sdk-core==2.*,>=2.0.0->ibm-cos-sdk==2.0.1) (0.9.5)\n",
            "Requirement already satisfied: docutils<0.16,>=0.10 in /usr/local/lib/python3.6/dist-packages (from ibm-cos-sdk-core==2.*,>=2.0.0->ibm-cos-sdk==2.0.1) (0.15.2)\n",
            "Requirement already satisfied: requests<2.23,>=2.18 in /usr/local/lib/python3.6/dist-packages (from ibm-cos-sdk-core==2.*,>=2.0.0->ibm-cos-sdk==2.0.1) (2.21.0)\n",
            "Requirement already satisfied: python-dateutil<3.0.0,>=2.1 in /usr/local/lib/python3.6/dist-packages (from ibm-cos-sdk-core==2.*,>=2.0.0->ibm-cos-sdk==2.0.1) (2.8.1)\n",
            "Requirement already satisfied: certifi>=2017.4.17 in /usr/local/lib/python3.6/dist-packages (from requests<2.23,>=2.18->ibm-cos-sdk-core==2.*,>=2.0.0->ibm-cos-sdk==2.0.1) (2019.11.28)\n",
            "Requirement already satisfied: chardet<3.1.0,>=3.0.2 in /usr/local/lib/python3.6/dist-packages (from requests<2.23,>=2.18->ibm-cos-sdk-core==2.*,>=2.0.0->ibm-cos-sdk==2.0.1) (3.0.4)\n",
            "Requirement already satisfied: urllib3<1.25,>=1.21.1 in /usr/local/lib/python3.6/dist-packages (from requests<2.23,>=2.18->ibm-cos-sdk-core==2.*,>=2.0.0->ibm-cos-sdk==2.0.1) (1.24.3)\n",
            "Requirement already satisfied: idna<2.9,>=2.5 in /usr/local/lib/python3.6/dist-packages (from requests<2.23,>=2.18->ibm-cos-sdk-core==2.*,>=2.0.0->ibm-cos-sdk==2.0.1) (2.8)\n",
            "Requirement already satisfied: six>=1.5 in /usr/local/lib/python3.6/dist-packages (from python-dateutil<3.0.0,>=2.1->ibm-cos-sdk-core==2.*,>=2.0.0->ibm-cos-sdk==2.0.1) (1.12.0)\n",
            "Building wheels for collected packages: ibm-cos-sdk, ibm-cos-sdk-core, ibm-cos-sdk-s3transfer\n",
            "  Building wheel for ibm-cos-sdk (setup.py) ... \u001b[?25l\u001b[?25hdone\n",
            "  Created wheel for ibm-cos-sdk: filename=ibm_cos_sdk-2.0.1-py2.py3-none-any.whl size=67696 sha256=b5b462d3bfba4fe1296d8de316acc1ec9e0fee93625121b6c9e2eb9345c7729a\n",
            "  Stored in directory: /root/.cache/pip/wheels/df/8f/d3/27a98712fa7eaf01c5a76b446ca53f249346dea7c686de0e4e\n",
            "  Building wheel for ibm-cos-sdk-core (setup.py) ... \u001b[?25l\u001b[?25hdone\n",
            "  Created wheel for ibm-cos-sdk-core: filename=ibm_cos_sdk_core-2.6.0-py2.py3-none-any.whl size=446393 sha256=d1a57d24a92eab5859060e63060c6b32000ee5ec686b366e6248b4be6a19e028\n",
            "  Stored in directory: /root/.cache/pip/wheels/75/93/e6/23071b2c037147a0993d34b64a03e51abca84435fc9cd6a278\n",
            "  Building wheel for ibm-cos-sdk-s3transfer (setup.py) ... \u001b[?25l\u001b[?25hdone\n",
            "  Created wheel for ibm-cos-sdk-s3transfer: filename=ibm_cos_sdk_s3transfer-2.6.0-py2.py3-none-any.whl size=89244 sha256=799dce8485f37545ee49b9da36e7dcc8b0c4ad554064a2378d251759356a4f81\n",
            "  Stored in directory: /root/.cache/pip/wheels/23/d9/d7/43fd95b014eed89466154d8373bf4cffbb3d972de7841e213c\n",
            "Successfully built ibm-cos-sdk ibm-cos-sdk-core ibm-cos-sdk-s3transfer\n",
            "Installing collected packages: ibm-cos-sdk-core, ibm-cos-sdk-s3transfer, ibm-cos-sdk\n",
            "Successfully installed ibm-cos-sdk-2.0.1 ibm-cos-sdk-core-2.6.0 ibm-cos-sdk-s3transfer-2.6.0\n"
          ],
          "name": "stdout"
        }
      ]
    },
    {
      "cell_type": "markdown",
      "metadata": {
        "id": "4Tfb6B2ZH8oX",
        "colab_type": "text"
      },
      "source": [
        "### Create client"
      ]
    },
    {
      "cell_type": "code",
      "metadata": {
        "id": "rY34OAspEkir",
        "colab_type": "code",
        "colab": {}
      },
      "source": [
        "import ibm_boto3\n",
        "from ibm_botocore.client import Config, ClientError\n",
        "\n",
        "# Constants for IBM COS values\n",
        "#COS_ENDPOINT = \"\"\n",
        "#COS_API_KEY_ID = \"\"\n",
        "#COS_AUTH_ENDPOINT = \"https://iam.cloud.ibm.com/identity/token\"\n",
        "#COS_RESOURCE_CRN = \"\"\n",
        "\n",
        "# Create resource\n",
        "cos = ibm_boto3.resource(\"s3\",\n",
        "    ibm_api_key_id=COS_API_KEY_ID,\n",
        "    ibm_service_instance_id=COS_RESOURCE_CRN,\n",
        "    ibm_auth_endpoint=COS_AUTH_ENDPOINT,\n",
        "    config=Config(signature_version=\"oauth\"),\n",
        "    endpoint_url=COS_ENDPOINT\n",
        ")"
      ],
      "execution_count": 0,
      "outputs": []
    },
    {
      "cell_type": "markdown",
      "metadata": {
        "id": "TFq1QWRDIBbs",
        "colab_type": "text"
      },
      "source": [
        "### Upload File"
      ]
    },
    {
      "cell_type": "code",
      "metadata": {
        "id": "grA9EybbEm5m",
        "colab_type": "code",
        "colab": {
          "base_uri": "https://localhost:8080/",
          "height": 221
        },
        "outputId": "25f900ec-c300-46ba-bf0f-a65c6875a47b"
      },
      "source": [
        "file_text = \"test\"\n",
        "bucket_name = \"cv-audio\"\n",
        "item_name = \"test.txt\"\n",
        "cos.Object(bucket_name, item_name).put(Body=file_text)"
      ],
      "execution_count": 5,
      "outputs": [
        {
          "output_type": "execute_result",
          "data": {
            "text/plain": [
              "{'ETag': '\"098f6bcd4621d373cade4e832627b4f6\"',\n",
              " 'ResponseMetadata': {'HTTPHeaders': {'content-length': '0',\n",
              "   'date': 'Tue, 24 Mar 2020 05:50:39 GMT',\n",
              "   'etag': '\"098f6bcd4621d373cade4e832627b4f6\"',\n",
              "   'server': 'Cleversafe/3.14.9.67',\n",
              "   'x-amz-request-id': '5ead1966-5e4a-46fa-b24e-6cfb398efe45',\n",
              "   'x-clv-request-id': '5ead1966-5e4a-46fa-b24e-6cfb398efe45',\n",
              "   'x-clv-s3-version': '2.5'},\n",
              "  'HTTPStatusCode': 200,\n",
              "  'HostId': '',\n",
              "  'RequestId': '5ead1966-5e4a-46fa-b24e-6cfb398efe45',\n",
              "  'RetryAttempts': 0}}"
            ]
          },
          "metadata": {
            "tags": []
          },
          "execution_count": 5
        }
      ]
    },
    {
      "cell_type": "markdown",
      "metadata": {
        "id": "XcPruIyOIB0X",
        "colab_type": "text"
      },
      "source": [
        "### Retrieve File"
      ]
    },
    {
      "cell_type": "code",
      "metadata": {
        "id": "tXeA1IVVGbjM",
        "colab_type": "code",
        "colab": {
          "base_uri": "https://localhost:8080/",
          "height": 34
        },
        "outputId": "50a479cd-2ab9-49d0-f423-99a51cebad91"
      },
      "source": [
        "bucket_name = 'cv-audio'\n",
        "item_name = 'test.txt'\n",
        "try:\n",
        "    file = cos.Object(bucket_name, item_name).get()\n",
        "    print(\"File Contents: {0}\".format(file[\"Body\"].read()))\n",
        "except ClientError as be:\n",
        "    print(\"CLIENT ERROR: {0}\\n\".format(be))\n",
        "except Exception as e:\n",
        "    print(\"Unable to retrieve file contents: {0}\".format(e))"
      ],
      "execution_count": 6,
      "outputs": [
        {
          "output_type": "stream",
          "text": [
            "File Contents: b'test'\n"
          ],
          "name": "stdout"
        }
      ]
    }
  ]
}