{
 "cells": [
  {
   "cell_type": "markdown",
   "metadata": {
    "colab_type": "text",
    "id": "SebxTmpBlunC"
   },
   "source": [
    "### Housekeeping"
   ]
  },
  {
   "cell_type": "code",
   "execution_count": 1,
   "metadata": {
    "colab": {
     "base_uri": "https://localhost:8080/",
     "height": 101
    },
    "colab_type": "code",
    "id": "osx9AxwglunD",
    "outputId": "60f02d14-0a3e-4765-c2ef-d55385f96d36"
   },
   "outputs": [
    {
     "name": "stdout",
     "output_type": "stream",
     "text": [
      "Python version\n",
      "3.5.3 (default, Sep 27 2018, 17:25:39) \n",
      "[GCC 6.3.0 20170516]\n",
      "Version info.\n",
      "sys.version_info(major=3, minor=5, micro=3, releaselevel='final', serial=0)\n"
     ]
    }
   ],
   "source": [
    "import sys\n",
    "print(\"Python version\")\n",
    "print (sys.version)\n",
    "print(\"Version info.\")\n",
    "print (sys.version_info)"
   ]
  },
  {
   "cell_type": "code",
   "execution_count": 48,
   "metadata": {
    "colab": {
     "base_uri": "https://localhost:8080/",
     "height": 50
    },
    "colab_type": "code",
    "id": "3zEjn_SxlunH",
    "outputId": "a77b9422-af1d-4f40-ef7a-ac70f425cb49"
   },
   "outputs": [
    {
     "name": "stdout",
     "output_type": "stream",
     "text": [
      "1.15.2\n",
      "False\n"
     ]
    }
   ],
   "source": [
    "import os\n",
    "import pandas as pd\n",
    "import random\n",
    "import numpy as np\n",
    "import librosa\n",
    "import glob\n",
    "from tqdm.notebook import tqdm\n",
    "import matplotlib.pyplot as plt\n",
    "import pickle\n",
    "import datetime as datetime\n",
    "import itertools\n",
    "from collections import defaultdict\n",
    "import random\n",
    "from sklearn.metrics import accuracy_score, roc_curve, auc, precision_recall_curve, precision_score, average_precision_score\n",
    "\n",
    "import ibm_boto3\n",
    "from ibm_botocore.client import Config, ClientError\n",
    "\n",
    "import tensorflow as tf\n",
    "from tensorflow import keras\n",
    "from tensorflow.keras import layers, models, Input, optimizers, metrics, regularizers\n",
    "from tensorflow.keras import backend as K\n",
    "\n",
    "SEED = 101\n",
    "random.seed(SEED)\n",
    "\n",
    "print(tf.__version__)\n",
    "print(tf.test.is_gpu_available())"
   ]
  },
  {
   "cell_type": "markdown",
   "metadata": {
    "colab_type": "text",
    "id": "-uYe847ulunK"
   },
   "source": [
    "### Loading files from bucket"
   ]
  },
  {
   "cell_type": "code",
   "execution_count": 3,
   "metadata": {
    "colab": {},
    "colab_type": "code",
    "id": "hPf66yBilunK"
   },
   "outputs": [],
   "source": [
    "DATA_PATH = '/home/csanc/'\n",
    "BUCKET_NAME = 'cv-audio'\n",
    "\n",
    "DATASET_PICKLE = 'mfcc/dataset.npz'\n",
    "\n",
    "TEST_CLIPS = DATA_PATH + 'test-clips/'\n",
    "BEST_MODEL_FILE = 'EN-TF1-Full-20200408-194433'\n",
    "\n",
    "DATASET_SPLITS = 1"
   ]
  },
  {
   "cell_type": "code",
   "execution_count": 4,
   "metadata": {
    "colab": {
     "base_uri": "https://localhost:8080/",
     "height": 101
    },
    "colab_type": "code",
    "id": "jSA-fRLBmrJs",
    "outputId": "3748c0a8-1286-491c-8ccf-36d9b4dcccf0"
   },
   "outputs": [
    {
     "data": {
      "text/plain": [
       "['cuda-repo-ubuntu1604-10-1-local-10.1.168-418.67_1.0-1_amd64.deb',\n",
       " 'OneShot_Speech_Carlos_EN-TF1-Full.ipynb',\n",
       " 'nohup.out',\n",
       " '.gnupg',\n",
       " 'dataset.npz',\n",
       " '.viminfo',\n",
       " 'cuda-repo-ubuntu1604-10-1-local-10.1.105-418.39_1.0-1_amd64.deb',\n",
       " '.profile',\n",
       " '.bash_history',\n",
       " '.bashrc',\n",
       " '.ssh',\n",
       " '.ipynb_checkpoints',\n",
       " '.cache']"
      ]
     },
     "execution_count": 4,
     "metadata": {},
     "output_type": "execute_result"
    }
   ],
   "source": [
    "os.listdir(DATA_PATH)"
   ]
  },
  {
   "cell_type": "code",
   "execution_count": 67,
   "metadata": {
    "colab": {},
    "colab_type": "code",
    "id": "C2w5GwCalunN"
   },
   "outputs": [],
   "source": [
    "# Constants for IBM S3 values\n",
    "COS_ENDPOINT = 'https://s3.us-south.cloud-object-storage.appdomain.cloud'\n",
    "COS_API_KEY_ID = 'LKRr_5OhOyBgvHG6WH2wm9F_2bHC2sn1vV4eaCYdgpsm'\n",
    "COS_AUTH_ENDPOINT = 'https://iam.cloud.ibm.com/identity/token'\n",
    "COS_RESOURCE_CRN = 'crn:v1:bluemix:public:cloud-object-storage:global:a/ea337a3eba2f43c6b813f319db505255:0f9730a8-f2b8-42ce-b276-f9e13877a5f0::'\n",
    "\n",
    "# Create resource\n",
    "cos = ibm_boto3.resource(\"s3\",\n",
    "    ibm_api_key_id=COS_API_KEY_ID,\n",
    "    ibm_service_instance_id=COS_RESOURCE_CRN,\n",
    "    ibm_auth_endpoint=COS_AUTH_ENDPOINT,\n",
    "    config=Config(signature_version=\"oauth\"),\n",
    "    endpoint_url=COS_ENDPOINT\n",
    ")"
   ]
  },
  {
   "cell_type": "code",
   "execution_count": 17,
   "metadata": {},
   "outputs": [],
   "source": [
    "bucket = cos.Bucket(BUCKET_NAME)\n",
    "obj = bucket.Object(DATASET_PICKLE)\n",
    "\n",
    "with open(DATA_PATH + DATASET_PICKLE, 'wb') as data:\n",
    "    obj.download_fileobj(data)"
   ]
  },
  {
   "cell_type": "markdown",
   "metadata": {
    "colab_type": "text",
    "id": "j0_nBVWKlunV"
   },
   "source": [
    "### Save files to the bucket"
   ]
  },
  {
   "cell_type": "code",
   "execution_count": 68,
   "metadata": {
    "colab": {},
    "colab_type": "code",
    "id": "iyziWqUolunW"
   },
   "outputs": [],
   "source": [
    "# Create resource\n",
    "cos = ibm_boto3.client(\n",
    "    service_name=\"s3\",\n",
    "    ibm_api_key_id=COS_API_KEY_ID,\n",
    "    ibm_service_instance_id=COS_RESOURCE_CRN,\n",
    "    ibm_auth_endpoint=COS_AUTH_ENDPOINT,\n",
    "    config=Config(signature_version=\"oauth\"),\n",
    "    endpoint_url=COS_ENDPOINT\n",
    ")"
   ]
  },
  {
   "cell_type": "code",
   "execution_count": 70,
   "metadata": {},
   "outputs": [],
   "source": [
    "with open(DATA_PATH + 'checkpoints/model_en_full.tgz', 'rb') as data:\n",
    "    cos.upload_fileobj(data, BUCKET_NAME, 'model_en_full.tgz')"
   ]
  },
  {
   "cell_type": "code",
   "execution_count": 71,
   "metadata": {
    "colab": {},
    "colab_type": "code",
    "id": "Vf-z0VkllunZ",
    "outputId": "934740f4-a952-4234-ab7c-b287eef9547a"
   },
   "outputs": [
    {
     "name": "stdout",
     "output_type": "stream",
     "text": [
      "Item: EN-TF1-20200405-024254.tgz (50895219 bytes).\n",
      "Item: dataset.npz (8414671607 bytes).\n",
      "Item: dev-clips-wav.tgz (372144992 bytes).\n",
      "Item: dev-clips.tgz (729032372 bytes).\n",
      "Item: dev.tsv (3555470 bytes).\n",
      "Item: en-clips.tgz (41357019402 bytes).\n",
      "Item: mfcc.bin (499906808 bytes).\n",
      "Item: model-EN-20200329-133052.tgz (152577527 bytes).\n",
      "Item: model_en_full.tgz (129735130 bytes).\n",
      "Item: test-clips.tgz (992056 bytes).\n",
      "Item: test.tsv (3401154 bytes).\n",
      "Item: test.txt (4 bytes).\n",
      "Item: train.tsv (55941783 bytes).\n"
     ]
    }
   ],
   "source": [
    "cos = ibm_boto3.resource(\"s3\",\n",
    "    ibm_api_key_id=COS_API_KEY_ID,\n",
    "    ibm_service_instance_id=COS_RESOURCE_CRN,\n",
    "    ibm_auth_endpoint=COS_AUTH_ENDPOINT,\n",
    "    config=Config(signature_version=\"oauth\"),\n",
    "    endpoint_url=COS_ENDPOINT\n",
    ")\n",
    "\n",
    "for file in cos.Bucket(BUCKET_NAME).objects.all():\n",
    "    print(\"Item: {0} ({1} bytes).\".format(file.key, file.size))"
   ]
  },
  {
   "cell_type": "markdown",
   "metadata": {},
   "source": [
    "### Loading MP3 files"
   ]
  },
  {
   "cell_type": "code",
   "execution_count": 8,
   "metadata": {},
   "outputs": [],
   "source": [
    "def get_clip(file_name, max_pad_len=400):\n",
    "    wave, sr = librosa.load(file_name, mono=True)\n",
    "    wave = wave[::3]\n",
    "    mfcc = librosa.feature.mfcc(wave, sr=sr) \n",
    "\n",
    "    pad_width = max_pad_len - mfcc.shape[1]\n",
    "    \n",
    "    if (pad_width < 0): \n",
    "        pad_width = 0\n",
    "        mfcc = mfcc[:, 0:max_pad_len]\n",
    "    \n",
    "    mfcc = np.pad(mfcc, pad_width=((0, 0), (0, pad_width)), mode='constant')\n",
    "    return mfcc.astype(np.float32)"
   ]
  },
  {
   "cell_type": "markdown",
   "metadata": {
    "colab_type": "text",
    "id": "CM8xe3grluqS"
   },
   "source": [
    "### Create Model"
   ]
  },
  {
   "cell_type": "code",
   "execution_count": 17,
   "metadata": {},
   "outputs": [
    {
     "data": {
      "text/plain": [
       "'/home/csanc/mfcc/dataset.npz'"
      ]
     },
     "execution_count": 17,
     "metadata": {},
     "output_type": "execute_result"
    }
   ],
   "source": [
    "DATA_PATH + DATASET_PICKLE"
   ]
  },
  {
   "cell_type": "code",
   "execution_count": 18,
   "metadata": {},
   "outputs": [],
   "source": [
    "dataset = np.load(DATA_PATH + DATASET_PICKLE)"
   ]
  },
  {
   "cell_type": "code",
   "execution_count": 19,
   "metadata": {},
   "outputs": [
    {
     "data": {
      "text/plain": [
       "((671745, 20, 400, 1), (671745, 20, 400, 1), (671745,))"
      ]
     },
     "execution_count": 19,
     "metadata": {},
     "output_type": "execute_result"
    }
   ],
   "source": [
    "left = dataset['left']\n",
    "right = dataset['right']\n",
    "labels = dataset['labels']\n",
    "left.shape, right.shape, labels.shape"
   ]
  },
  {
   "cell_type": "code",
   "execution_count": 20,
   "metadata": {},
   "outputs": [],
   "source": [
    "del(dataset)"
   ]
  },
  {
   "cell_type": "code",
   "execution_count": 21,
   "metadata": {},
   "outputs": [
    {
     "data": {
      "text/plain": [
       "(671745, 470221)"
      ]
     },
     "execution_count": 21,
     "metadata": {},
     "output_type": "execute_result"
    }
   ],
   "source": [
    "dataset_size = left.shape[0]\n",
    "train_size = int(dataset_size*0.7)\n",
    "dataset_size, train_size"
   ]
  },
  {
   "cell_type": "code",
   "execution_count": 12,
   "metadata": {
    "colab": {},
    "colab_type": "code",
    "id": "j5PCpQZ4luqU"
   },
   "outputs": [],
   "source": [
    "def get_siamese_model():\n",
    "  \n",
    "    # Define the tensors for the two input images\n",
    "    left_input = Input((20, 400, 1))\n",
    "    right_input = Input((20, 400, 1))\n",
    "    \n",
    "    # Convolutional Neural Network\n",
    "    model = models.Sequential()    \n",
    "    model.add(layers.Conv2D(\n",
    "        32, \n",
    "        (10,10), \n",
    "        padding = 'same',\n",
    "        activation='relu', \n",
    "        input_shape=(20, 400, 1), \n",
    "        kernel_regularizer=regularizers.l2(2e-4)))\n",
    "    model.add(layers.MaxPooling2D())\n",
    "    \n",
    "    model.add(layers.Conv2D(\n",
    "        64, \n",
    "        (7,7),  \n",
    "        padding = 'same',\n",
    "        activation='relu',\n",
    "        kernel_regularizer=regularizers.l2(2e-4)))    \n",
    "    model.add(layers.MaxPooling2D())\n",
    "    \n",
    "    model.add(layers.Conv2D(\n",
    "        64, \n",
    "        (4,4), \n",
    "        padding = 'same', \n",
    "        activation='relu', \n",
    "        kernel_regularizer=regularizers.l2(2e-4)))\n",
    "    model.add(layers.MaxPooling2D())\n",
    "    \n",
    "    model.add(layers.Conv2D(\n",
    "        128, \n",
    "        (4,4),  \n",
    "        padding = 'same',\n",
    "        activation='relu', \n",
    "        kernel_regularizer=regularizers.l2(2e-4)))\n",
    "    \n",
    "    model.add(layers.Flatten())\n",
    "    \n",
    "    model.add(layers.Dense(\n",
    "        1024, \n",
    "        activation='sigmoid',\n",
    "        kernel_regularizer=regularizers.l2(1e-3)))\n",
    "    \n",
    "    # Generate the encodings (feature vectors) for the two images\n",
    "    encoded_l = model(left_input)\n",
    "    encoded_r = model(right_input)\n",
    "    \n",
    "    # Add a customized layer to compute the absolute difference between the encodings\n",
    "    L1_layer = layers.Lambda(lambda tensors:K.abs(tensors[0] - tensors[1]))\n",
    "    L1_distance = L1_layer([encoded_l, encoded_r])\n",
    "    \n",
    "    # Add a dense layer with a sigmoid unit to generate the similarity score\n",
    "    prediction = layers.Dense(1, activation='sigmoid')(L1_distance)\n",
    "    \n",
    "    # Connect the inputs with the outputs\n",
    "    siamese_net = models.Model(inputs=[left_input, right_input],outputs=prediction)\n",
    "    \n",
    "    # return the model\n",
    "    return siamese_net"
   ]
  },
  {
   "cell_type": "markdown",
   "metadata": {
    "colab_type": "text",
    "id": "WDKwqmGaluqZ"
   },
   "source": [
    "### Training"
   ]
  },
  {
   "cell_type": "code",
   "execution_count": 5,
   "metadata": {
    "colab": {
     "base_uri": "https://localhost:8080/",
     "height": 507
    },
    "colab_type": "code",
    "id": "c4gHhZOoluqZ",
    "outputId": "0eab4686-c517-4f10-81cf-4dbfa4f6cf58"
   },
   "outputs": [
    {
     "name": "stdout",
     "output_type": "stream",
     "text": [
      "WARNING:tensorflow:From /usr/local/lib/python3.5/dist-packages/tensorflow_core/python/ops/resource_variable_ops.py:1630: calling BaseResourceVariable.__init__ (from tensorflow.python.ops.resource_variable_ops) with constraint is deprecated and will be removed in a future version.\n",
      "Instructions for updating:\n",
      "If using Keras pass *_constraint arguments to layers.\n",
      "Model: \"model\"\n",
      "__________________________________________________________________________________________________\n",
      "Layer (type)                    Output Shape         Param #     Connected to                     \n",
      "==================================================================================================\n",
      "input_1 (InputLayer)            [(None, 20, 400, 1)] 0                                            \n",
      "__________________________________________________________________________________________________\n",
      "input_2 (InputLayer)            [(None, 20, 400, 1)] 0                                            \n",
      "__________________________________________________________________________________________________\n",
      "sequential (Sequential)         (None, 1024)         13408672    input_1[0][0]                    \n",
      "                                                                 input_2[0][0]                    \n",
      "__________________________________________________________________________________________________\n",
      "lambda (Lambda)                 (None, 1024)         0           sequential[1][0]                 \n",
      "                                                                 sequential[2][0]                 \n",
      "__________________________________________________________________________________________________\n",
      "dense_1 (Dense)                 (None, 1)            1025        lambda[0][0]                     \n",
      "==================================================================================================\n",
      "Total params: 13,409,697\n",
      "Trainable params: 13,409,697\n",
      "Non-trainable params: 0\n",
      "__________________________________________________________________________________________________\n"
     ]
    }
   ],
   "source": [
    "model = get_siamese_model()\n",
    "model.summary()"
   ]
  },
  {
   "cell_type": "code",
   "execution_count": 12,
   "metadata": {
    "colab": {
     "base_uri": "https://localhost:8080/",
     "height": 154
    },
    "colab_type": "code",
    "id": "cYAkHySyluqc",
    "outputId": "52d50670-b628-4751-ee22-1fce72ae7717"
   },
   "outputs": [
    {
     "name": "stdout",
     "output_type": "stream",
     "text": [
      "WARNING:tensorflow:From /usr/local/lib/python3.6/dist-packages/tensorflow_core/python/ops/nn_impl.py:183: where (from tensorflow.python.ops.array_ops) is deprecated and will be removed in a future version.\n",
      "Instructions for updating:\n",
      "Use tf.where in 2.0, which has the same broadcast rule as np.where\n"
     ]
    }
   ],
   "source": [
    "LR = 1e-4\n",
    "model.compile(loss=\"binary_crossentropy\", optimizer = optimizers.Adam(lr = LR))"
   ]
  },
  {
   "cell_type": "code",
   "execution_count": 13,
   "metadata": {
    "colab": {},
    "colab_type": "code",
    "id": "OQUO5DcVluqf"
   },
   "outputs": [],
   "source": [
    "now = datetime.datetime.now().strftime(\"%Y%m%d-%H%M%S\")\n",
    "\n",
    "#log_dir = DATA_PATH + 'logs/EN-TF1-' + now\n",
    "#tensorboard_callback = keras.callbacks.TensorBoard(log_dir=log_dir, histogram_freq=1)\n",
    "\n",
    "checkpoint_path = DATA_PATH + 'checkpoints/EN-TF1-Full-' + now\n",
    "checkpoints_callback = keras.callbacks.ModelCheckpoint(\n",
    "    filepath = checkpoint_path,\n",
    "    save_weights_only=True,\n",
    "    save_best_only = True,\n",
    "    verbose=1)"
   ]
  },
  {
   "cell_type": "code",
   "execution_count": 14,
   "metadata": {
    "colab": {
     "base_uri": "https://localhost:8080/",
     "height": 50
    },
    "colab_type": "code",
    "id": "4CLjoBCtluqi",
    "outputId": "de6a2423-296c-4362-d692-cff2491e23ce"
   },
   "outputs": [
    {
     "name": "stdout",
     "output_type": "stream",
     "text": [
      "/workspace/data/checkpoints/EN-TF1-Full-20200408-194433\n"
     ]
    }
   ],
   "source": [
    "print(checkpoint_path)\n",
    "#print(log_dir)"
   ]
  },
  {
   "cell_type": "code",
   "execution_count": null,
   "metadata": {
    "colab": {},
    "colab_type": "code",
    "id": "U3fe8RNLlup8"
   },
   "outputs": [],
   "source": [
    "#left_train, left_val, right_train, right_val, labels_train, labels_val\n",
    "#left[0:train_size]\n",
    "#left[train_size:dataset_size]\n",
    "\n",
    "#right[0:train_size]\n",
    "#right[train_size:dataset_size]\n",
    "\n",
    "#labels[0:train_size]\n",
    "#labels[train_size:dataset_size]"
   ]
  },
  {
   "cell_type": "code",
   "execution_count": 15,
   "metadata": {
    "colab": {
     "base_uri": "https://localhost:8080/",
     "height": 101
    },
    "colab_type": "code",
    "id": "4zYFUUAaluql",
    "outputId": "5a0f5fd4-0e1d-49dc-9bdb-7456fac15037"
   },
   "outputs": [
    {
     "name": "stdout",
     "output_type": "stream",
     "text": [
      "Train on 470221 samples, validate on 201524 samples\n",
      "Epoch 1/200\n",
      "470016/470221 [============================>.] - ETA: 0s - loss: 0.4887\n",
      "Epoch 00001: val_loss improved from inf to 0.23372, saving model to /workspace/data/checkpoints/EN-TF1-Full-20200408-194433\n",
      "470221/470221 [==============================] - 301s 641us/sample - loss: 0.4885 - val_loss: 0.2337\n",
      "Epoch 2/200\n",
      "470016/470221 [============================>.] - ETA: 0s - loss: 0.1908\n",
      "Epoch 00002: val_loss improved from 0.23372 to 0.16572, saving model to /workspace/data/checkpoints/EN-TF1-Full-20200408-194433\n",
      "470221/470221 [==============================] - 185s 394us/sample - loss: 0.1907 - val_loss: 0.1657\n",
      "Epoch 3/200\n",
      "470016/470221 [============================>.] - ETA: 0s - loss: 0.1445\n",
      "Epoch 00003: val_loss improved from 0.16572 to 0.13763, saving model to /workspace/data/checkpoints/EN-TF1-Full-20200408-194433\n",
      "470221/470221 [==============================] - 178s 378us/sample - loss: 0.1445 - val_loss: 0.1376\n",
      "Epoch 4/200\n",
      "470016/470221 [============================>.] - ETA: 0s - loss: 0.1226\n",
      "Epoch 00004: val_loss improved from 0.13763 to 0.12864, saving model to /workspace/data/checkpoints/EN-TF1-Full-20200408-194433\n",
      "470221/470221 [==============================] - 177s 376us/sample - loss: 0.1226 - val_loss: 0.1286\n",
      "Epoch 5/200\n",
      "470016/470221 [============================>.] - ETA: 0s - loss: 0.1091\n",
      "Epoch 00005: val_loss improved from 0.12864 to 0.12180, saving model to /workspace/data/checkpoints/EN-TF1-Full-20200408-194433\n",
      "470221/470221 [==============================] - 175s 373us/sample - loss: 0.1091 - val_loss: 0.1218\n",
      "Epoch 6/200\n",
      "470016/470221 [============================>.] - ETA: 0s - loss: 0.0986\n",
      "Epoch 00006: val_loss improved from 0.12180 to 0.11454, saving model to /workspace/data/checkpoints/EN-TF1-Full-20200408-194433\n",
      "470221/470221 [==============================] - 175s 373us/sample - loss: 0.0986 - val_loss: 0.1145\n",
      "Epoch 7/200\n",
      "470016/470221 [============================>.] - ETA: 0s - loss: 0.0898\n",
      "Epoch 00007: val_loss improved from 0.11454 to 0.11258, saving model to /workspace/data/checkpoints/EN-TF1-Full-20200408-194433\n",
      "470221/470221 [==============================] - 175s 372us/sample - loss: 0.0898 - val_loss: 0.1126\n",
      "Epoch 8/200\n",
      "470016/470221 [============================>.] - ETA: 0s - loss: 0.0829\n",
      "Epoch 00008: val_loss improved from 0.11258 to 0.11059, saving model to /workspace/data/checkpoints/EN-TF1-Full-20200408-194433\n",
      "470221/470221 [==============================] - 176s 373us/sample - loss: 0.0829 - val_loss: 0.1106\n",
      "Epoch 9/200\n",
      "470016/470221 [============================>.] - ETA: 0s - loss: 0.0774\n",
      "Epoch 00009: val_loss improved from 0.11059 to 0.10229, saving model to /workspace/data/checkpoints/EN-TF1-Full-20200408-194433\n",
      "470221/470221 [==============================] - 176s 374us/sample - loss: 0.0774 - val_loss: 0.1023\n",
      "Epoch 10/200\n",
      "470016/470221 [============================>.] - ETA: 0s - loss: 0.0726\n",
      "Epoch 00010: val_loss improved from 0.10229 to 0.10140, saving model to /workspace/data/checkpoints/EN-TF1-Full-20200408-194433\n",
      "470221/470221 [==============================] - 175s 373us/sample - loss: 0.0726 - val_loss: 0.1014\n",
      "Epoch 11/200\n",
      "470016/470221 [============================>.] - ETA: 0s - loss: 0.0692\n",
      "Epoch 00011: val_loss improved from 0.10140 to 0.09985, saving model to /workspace/data/checkpoints/EN-TF1-Full-20200408-194433\n",
      "470221/470221 [==============================] - 176s 375us/sample - loss: 0.0692 - val_loss: 0.0999\n",
      "Epoch 12/200\n",
      "470016/470221 [============================>.] - ETA: 0s - loss: 0.0666\n",
      "Epoch 00012: val_loss improved from 0.09985 to 0.09952, saving model to /workspace/data/checkpoints/EN-TF1-Full-20200408-194433\n",
      "470221/470221 [==============================] - 175s 373us/sample - loss: 0.0666 - val_loss: 0.0995\n",
      "Epoch 13/200\n",
      "470016/470221 [============================>.] - ETA: 0s - loss: 0.0637\n",
      "Epoch 00013: val_loss improved from 0.09952 to 0.09941, saving model to /workspace/data/checkpoints/EN-TF1-Full-20200408-194433\n",
      "470221/470221 [==============================] - 176s 375us/sample - loss: 0.0637 - val_loss: 0.0994\n",
      "Epoch 14/200\n",
      "470016/470221 [============================>.] - ETA: 0s - loss: 0.0621\n",
      "Epoch 00014: val_loss improved from 0.09941 to 0.09886, saving model to /workspace/data/checkpoints/EN-TF1-Full-20200408-194433\n",
      "470221/470221 [==============================] - 183s 388us/sample - loss: 0.0621 - val_loss: 0.0989\n",
      "Epoch 15/200\n",
      "470016/470221 [============================>.] - ETA: 0s - loss: 0.0608\n",
      "Epoch 00015: val_loss improved from 0.09886 to 0.09419, saving model to /workspace/data/checkpoints/EN-TF1-Full-20200408-194433\n",
      "470221/470221 [==============================] - 173s 368us/sample - loss: 0.0608 - val_loss: 0.0942\n",
      "Epoch 16/200\n",
      "470016/470221 [============================>.] - ETA: 0s - loss: 0.0582\n",
      "Epoch 00016: val_loss improved from 0.09419 to 0.09278, saving model to /workspace/data/checkpoints/EN-TF1-Full-20200408-194433\n",
      "470221/470221 [==============================] - 173s 367us/sample - loss: 0.0582 - val_loss: 0.0928\n",
      "Epoch 17/200\n",
      "470016/470221 [============================>.] - ETA: 0s - loss: 0.0570\n",
      "Epoch 00017: val_loss did not improve from 0.09278\n",
      "470221/470221 [==============================] - 172s 365us/sample - loss: 0.0570 - val_loss: 0.0941\n",
      "Epoch 18/200\n",
      "470016/470221 [============================>.] - ETA: 0s - loss: 0.0567\n",
      "Epoch 00018: val_loss improved from 0.09278 to 0.09271, saving model to /workspace/data/checkpoints/EN-TF1-Full-20200408-194433\n",
      "470221/470221 [==============================] - 174s 370us/sample - loss: 0.0567 - val_loss: 0.0927\n",
      "Epoch 19/200\n",
      "470016/470221 [============================>.] - ETA: 0s - loss: 0.0547\n",
      "Epoch 00019: val_loss improved from 0.09271 to 0.08914, saving model to /workspace/data/checkpoints/EN-TF1-Full-20200408-194433\n",
      "470221/470221 [==============================] - 176s 374us/sample - loss: 0.0547 - val_loss: 0.0891\n",
      "Epoch 20/200\n",
      "470016/470221 [============================>.] - ETA: 0s - loss: 0.0539\n",
      "Epoch 00020: val_loss did not improve from 0.08914\n",
      "470221/470221 [==============================] - 173s 368us/sample - loss: 0.0539 - val_loss: 0.0917\n",
      "Epoch 21/200\n",
      "470016/470221 [============================>.] - ETA: 0s - loss: 0.0539\n",
      "Epoch 00021: val_loss did not improve from 0.08914\n",
      "470221/470221 [==============================] - 174s 370us/sample - loss: 0.0539 - val_loss: 0.0921\n",
      "Epoch 22/200\n",
      "470016/470221 [============================>.] - ETA: 0s - loss: 0.0521\n",
      "Epoch 00022: val_loss did not improve from 0.08914\n",
      "470221/470221 [==============================] - 174s 369us/sample - loss: 0.0521 - val_loss: 0.0906\n",
      "Epoch 23/200\n",
      "470016/470221 [============================>.] - ETA: 0s - loss: 0.0499\n",
      "Epoch 00023: val_loss did not improve from 0.08914\n",
      "470221/470221 [==============================] - 175s 372us/sample - loss: 0.0499 - val_loss: 0.0912\n",
      "Epoch 24/200\n",
      "470016/470221 [============================>.] - ETA: 0s - loss: 0.0523\n",
      "Epoch 00024: val_loss did not improve from 0.08914\n",
      "470221/470221 [==============================] - 174s 369us/sample - loss: 0.0523 - val_loss: 0.0892\n",
      "Epoch 25/200\n",
      "470016/470221 [============================>.] - ETA: 0s - loss: 0.0497\n",
      "Epoch 00025: val_loss improved from 0.08914 to 0.08608, saving model to /workspace/data/checkpoints/EN-TF1-Full-20200408-194433\n",
      "470221/470221 [==============================] - 174s 370us/sample - loss: 0.0497 - val_loss: 0.0861\n",
      "Epoch 26/200\n",
      "470016/470221 [============================>.] - ETA: 0s - loss: 0.0488\n",
      "Epoch 00026: val_loss improved from 0.08608 to 0.08403, saving model to /workspace/data/checkpoints/EN-TF1-Full-20200408-194433\n",
      "470221/470221 [==============================] - 175s 373us/sample - loss: 0.0488 - val_loss: 0.0840\n",
      "Epoch 27/200\n",
      "470016/470221 [============================>.] - ETA: 0s - loss: 0.0493\n",
      "Epoch 00027: val_loss did not improve from 0.08403\n",
      "470221/470221 [==============================] - 174s 369us/sample - loss: 0.0494 - val_loss: 0.0863\n",
      "Epoch 28/200\n",
      "470016/470221 [============================>.] - ETA: 0s - loss: 0.0482\n",
      "Epoch 00028: val_loss did not improve from 0.08403\n",
      "470221/470221 [==============================] - 172s 366us/sample - loss: 0.0482 - val_loss: 0.0880\n",
      "Epoch 29/200\n",
      "470016/470221 [============================>.] - ETA: 0s - loss: 0.0476\n",
      "Epoch 00029: val_loss did not improve from 0.08403\n",
      "470221/470221 [==============================] - 174s 369us/sample - loss: 0.0476 - val_loss: 0.0859\n",
      "Epoch 30/200\n",
      "470016/470221 [============================>.] - ETA: 0s - loss: 0.0474\n",
      "Epoch 00030: val_loss improved from 0.08403 to 0.08380, saving model to /workspace/data/checkpoints/EN-TF1-Full-20200408-194433\n",
      "470221/470221 [==============================] - 177s 375us/sample - loss: 0.0474 - val_loss: 0.0838\n",
      "Epoch 31/200\n",
      "470016/470221 [============================>.] - ETA: 0s - loss: 0.0462\n",
      "Epoch 00031: val_loss did not improve from 0.08380\n",
      "470221/470221 [==============================] - 176s 374us/sample - loss: 0.0462 - val_loss: 0.0838\n",
      "Epoch 32/200\n",
      "470016/470221 [============================>.] - ETA: 0s - loss: 0.0466\n",
      "Epoch 00032: val_loss improved from 0.08380 to 0.08128, saving model to /workspace/data/checkpoints/EN-TF1-Full-20200408-194433\n",
      "470221/470221 [==============================] - 176s 375us/sample - loss: 0.0466 - val_loss: 0.0813\n",
      "Epoch 33/200\n",
      "470016/470221 [============================>.] - ETA: 0s - loss: 0.0439\n",
      "Epoch 00033: val_loss did not improve from 0.08128\n",
      "470221/470221 [==============================] - 176s 374us/sample - loss: 0.0439 - val_loss: 0.0841\n",
      "Epoch 34/200\n",
      "470016/470221 [============================>.] - ETA: 0s - loss: 0.0456\n",
      "Epoch 00034: val_loss did not improve from 0.08128\n",
      "470221/470221 [==============================] - 176s 374us/sample - loss: 0.0456 - val_loss: 0.0835\n",
      "Epoch 35/200\n",
      "470016/470221 [============================>.] - ETA: 0s - loss: 0.0446\n",
      "Epoch 00035: val_loss improved from 0.08128 to 0.07860, saving model to /workspace/data/checkpoints/EN-TF1-Full-20200408-194433\n",
      "470221/470221 [==============================] - 174s 371us/sample - loss: 0.0446 - val_loss: 0.0786\n",
      "Epoch 36/200\n",
      "470016/470221 [============================>.] - ETA: 0s - loss: 0.0442\n",
      "Epoch 00036: val_loss did not improve from 0.07860\n",
      "470221/470221 [==============================] - 174s 370us/sample - loss: 0.0442 - val_loss: 0.0828\n",
      "Epoch 37/200\n",
      "470016/470221 [============================>.] - ETA: 0s - loss: 0.0441\n",
      "Epoch 00037: val_loss did not improve from 0.07860\n",
      "470221/470221 [==============================] - 172s 367us/sample - loss: 0.0441 - val_loss: 0.0811\n",
      "Epoch 38/200\n",
      "470016/470221 [============================>.] - ETA: 0s - loss: 0.0442\n",
      "Epoch 00038: val_loss did not improve from 0.07860\n",
      "470221/470221 [==============================] - 172s 367us/sample - loss: 0.0442 - val_loss: 0.0817\n",
      "Epoch 39/200\n",
      "470016/470221 [============================>.] - ETA: 0s - loss: 0.0436\n",
      "Epoch 00039: val_loss did not improve from 0.07860\n",
      "470221/470221 [==============================] - 175s 372us/sample - loss: 0.0436 - val_loss: 0.0809\n",
      "Epoch 40/200\n",
      "470016/470221 [============================>.] - ETA: 0s - loss: 0.0424\n",
      "Epoch 00040: val_loss did not improve from 0.07860\n",
      "470221/470221 [==============================] - 175s 372us/sample - loss: 0.0424 - val_loss: 0.0796\n",
      "Epoch 41/200\n",
      "470016/470221 [============================>.] - ETA: 0s - loss: 0.0432\n",
      "Epoch 00041: val_loss did not improve from 0.07860\n",
      "470221/470221 [==============================] - 175s 372us/sample - loss: 0.0432 - val_loss: 0.0808\n",
      "Epoch 42/200\n",
      "470016/470221 [============================>.] - ETA: 0s - loss: 0.0410\n",
      "Epoch 00042: val_loss did not improve from 0.07860\n",
      "470221/470221 [==============================] - 175s 371us/sample - loss: 0.0410 - val_loss: 0.0811\n",
      "Epoch 43/200\n",
      "470016/470221 [============================>.] - ETA: 0s - loss: 0.0430\n",
      "Epoch 00043: val_loss did not improve from 0.07860\n",
      "470221/470221 [==============================] - 175s 371us/sample - loss: 0.0430 - val_loss: 0.0815\n",
      "Epoch 44/200\n",
      "470016/470221 [============================>.] - ETA: 0s - loss: 0.0393\n",
      "Epoch 00044: val_loss improved from 0.07860 to 0.07841, saving model to /workspace/data/checkpoints/EN-TF1-Full-20200408-194433\n",
      "470221/470221 [==============================] - 175s 373us/sample - loss: 0.0393 - val_loss: 0.0784\n",
      "Epoch 45/200\n",
      "470016/470221 [============================>.] - ETA: 0s - loss: 0.0417\n",
      "Epoch 00045: val_loss did not improve from 0.07841\n",
      "470221/470221 [==============================] - 172s 367us/sample - loss: 0.0417 - val_loss: 0.0809\n",
      "Epoch 46/200\n",
      "470016/470221 [============================>.] - ETA: 0s - loss: 0.0419\n",
      "Epoch 00046: val_loss improved from 0.07841 to 0.07748, saving model to /workspace/data/checkpoints/EN-TF1-Full-20200408-194433\n",
      "470221/470221 [==============================] - 174s 369us/sample - loss: 0.0419 - val_loss: 0.0775\n",
      "Epoch 47/200\n",
      "470016/470221 [============================>.] - ETA: 0s - loss: 0.0400\n",
      "Epoch 00047: val_loss did not improve from 0.07748\n",
      "470221/470221 [==============================] - 173s 367us/sample - loss: 0.0400 - val_loss: 0.0782\n",
      "Epoch 48/200\n",
      "470016/470221 [============================>.] - ETA: 0s - loss: 0.0401\n",
      "Epoch 00048: val_loss did not improve from 0.07748\n",
      "470221/470221 [==============================] - 174s 370us/sample - loss: 0.0401 - val_loss: 0.0785\n",
      "Epoch 49/200\n",
      "470016/470221 [============================>.] - ETA: 0s - loss: 0.0407\n",
      "Epoch 00049: val_loss improved from 0.07748 to 0.07740, saving model to /workspace/data/checkpoints/EN-TF1-Full-20200408-194433\n",
      "470221/470221 [==============================] - 177s 375us/sample - loss: 0.0407 - val_loss: 0.0774\n",
      "Epoch 50/200\n",
      "470016/470221 [============================>.] - ETA: 0s - loss: 0.0395\n",
      "Epoch 00050: val_loss did not improve from 0.07740\n",
      "470221/470221 [==============================] - 174s 371us/sample - loss: 0.0395 - val_loss: 0.0795\n",
      "Epoch 51/200\n",
      "470016/470221 [============================>.] - ETA: 0s - loss: 0.0386\n",
      "Epoch 00051: val_loss did not improve from 0.07740\n",
      "470221/470221 [==============================] - 173s 369us/sample - loss: 0.0386 - val_loss: 0.0784\n",
      "Epoch 52/200\n",
      "470016/470221 [============================>.] - ETA: 0s - loss: 0.0408\n",
      "Epoch 00052: val_loss improved from 0.07740 to 0.07736, saving model to /workspace/data/checkpoints/EN-TF1-Full-20200408-194433\n",
      "470221/470221 [==============================] - 173s 368us/sample - loss: 0.0408 - val_loss: 0.0774\n",
      "Epoch 53/200\n",
      "470016/470221 [============================>.] - ETA: 0s - loss: 0.0385\n",
      "Epoch 00053: val_loss did not improve from 0.07736\n",
      "470221/470221 [==============================] - 174s 369us/sample - loss: 0.0385 - val_loss: 0.0792\n",
      "Epoch 54/200\n",
      "470016/470221 [============================>.] - ETA: 0s - loss: 0.0389\n",
      "Epoch 00054: val_loss did not improve from 0.07736\n",
      "470221/470221 [==============================] - 172s 366us/sample - loss: 0.0389 - val_loss: 0.0792\n",
      "Epoch 55/200\n",
      "470016/470221 [============================>.] - ETA: 0s - loss: 0.0399\n",
      "Epoch 00055: val_loss did not improve from 0.07736\n",
      "470221/470221 [==============================] - 173s 369us/sample - loss: 0.0399 - val_loss: 0.0799\n",
      "Epoch 56/200\n",
      "470016/470221 [============================>.] - ETA: 0s - loss: 0.0385\n",
      "Epoch 00056: val_loss improved from 0.07736 to 0.07525, saving model to /workspace/data/checkpoints/EN-TF1-Full-20200408-194433\n",
      "470221/470221 [==============================] - 174s 370us/sample - loss: 0.0385 - val_loss: 0.0753\n",
      "Epoch 57/200\n",
      "470016/470221 [============================>.] - ETA: 0s - loss: 0.0370\n",
      "Epoch 00057: val_loss did not improve from 0.07525\n",
      "470221/470221 [==============================] - 175s 373us/sample - loss: 0.0370 - val_loss: 0.0775\n",
      "Epoch 58/200\n",
      "470016/470221 [============================>.] - ETA: 0s - loss: 0.0381\n",
      "Epoch 00058: val_loss did not improve from 0.07525\n",
      "470221/470221 [==============================] - 174s 370us/sample - loss: 0.0381 - val_loss: 0.0806\n",
      "Epoch 59/200\n",
      "470016/470221 [============================>.] - ETA: 0s - loss: 0.0388\n",
      "Epoch 00059: val_loss did not improve from 0.07525\n",
      "470221/470221 [==============================] - 172s 366us/sample - loss: 0.0388 - val_loss: 0.0776\n",
      "Epoch 60/200\n",
      "470016/470221 [============================>.] - ETA: 0s - loss: 0.0364\n",
      "Epoch 00060: val_loss improved from 0.07525 to 0.07503, saving model to /workspace/data/checkpoints/EN-TF1-Full-20200408-194433\n",
      "470221/470221 [==============================] - 175s 373us/sample - loss: 0.0364 - val_loss: 0.0750\n",
      "Epoch 61/200\n",
      "470016/470221 [============================>.] - ETA: 0s - loss: 0.0373\n",
      "Epoch 00061: val_loss did not improve from 0.07503\n",
      "470221/470221 [==============================] - 174s 370us/sample - loss: 0.0373 - val_loss: 0.0761\n",
      "Epoch 62/200\n",
      "470016/470221 [============================>.] - ETA: 0s - loss: 0.0388\n",
      "Epoch 00062: val_loss improved from 0.07503 to 0.07396, saving model to /workspace/data/checkpoints/EN-TF1-Full-20200408-194433\n",
      "470221/470221 [==============================] - 176s 374us/sample - loss: 0.0388 - val_loss: 0.0740\n",
      "Epoch 63/200\n",
      "470016/470221 [============================>.] - ETA: 0s - loss: 0.0360\n",
      "Epoch 00063: val_loss improved from 0.07396 to 0.07390, saving model to /workspace/data/checkpoints/EN-TF1-Full-20200408-194433\n",
      "470221/470221 [==============================] - 175s 372us/sample - loss: 0.0360 - val_loss: 0.0739\n",
      "Epoch 64/200\n",
      "470016/470221 [============================>.] - ETA: 0s - loss: 0.0362\n",
      "Epoch 00064: val_loss did not improve from 0.07390\n",
      "470221/470221 [==============================] - 174s 370us/sample - loss: 0.0363 - val_loss: 0.0817\n",
      "Epoch 65/200\n",
      "470016/470221 [============================>.] - ETA: 0s - loss: 0.0373\n",
      "Epoch 00065: val_loss improved from 0.07390 to 0.07381, saving model to /workspace/data/checkpoints/EN-TF1-Full-20200408-194433\n",
      "470221/470221 [==============================] - 174s 370us/sample - loss: 0.0373 - val_loss: 0.0738\n",
      "Epoch 66/200\n",
      "470016/470221 [============================>.] - ETA: 0s - loss: 0.0357\n",
      "Epoch 00066: val_loss did not improve from 0.07381\n",
      "470221/470221 [==============================] - 174s 369us/sample - loss: 0.0357 - val_loss: 0.0763\n",
      "Epoch 67/200\n",
      "470016/470221 [============================>.] - ETA: 0s - loss: 0.0374\n",
      "Epoch 00067: val_loss did not improve from 0.07381\n",
      "470221/470221 [==============================] - 173s 369us/sample - loss: 0.0374 - val_loss: 0.0773\n",
      "Epoch 68/200\n",
      "470016/470221 [============================>.] - ETA: 0s - loss: 0.0349\n",
      "Epoch 00068: val_loss did not improve from 0.07381\n",
      "470221/470221 [==============================] - 174s 370us/sample - loss: 0.0349 - val_loss: 0.0766\n",
      "Epoch 69/200\n",
      "470016/470221 [============================>.] - ETA: 0s - loss: 0.0381\n",
      "Epoch 00069: val_loss did not improve from 0.07381\n",
      "470221/470221 [==============================] - 173s 368us/sample - loss: 0.0381 - val_loss: 0.0740\n",
      "Epoch 70/200\n",
      "470016/470221 [============================>.] - ETA: 0s - loss: 0.0348\n",
      "Epoch 00070: val_loss improved from 0.07381 to 0.07078, saving model to /workspace/data/checkpoints/EN-TF1-Full-20200408-194433\n",
      "470221/470221 [==============================] - 174s 371us/sample - loss: 0.0348 - val_loss: 0.0708\n",
      "Epoch 71/200\n",
      "470016/470221 [============================>.] - ETA: 0s - loss: 0.0355\n",
      "Epoch 00071: val_loss did not improve from 0.07078\n",
      "470221/470221 [==============================] - 174s 369us/sample - loss: 0.0355 - val_loss: 0.0783\n",
      "Epoch 72/200\n",
      "470016/470221 [============================>.] - ETA: 0s - loss: 0.0372\n",
      "Epoch 00072: val_loss did not improve from 0.07078\n",
      "470221/470221 [==============================] - 173s 369us/sample - loss: 0.0372 - val_loss: 0.0717\n",
      "Epoch 73/200\n",
      "470016/470221 [============================>.] - ETA: 0s - loss: 0.0348\n",
      "Epoch 00073: val_loss did not improve from 0.07078\n",
      "470221/470221 [==============================] - 171s 365us/sample - loss: 0.0348 - val_loss: 0.0723\n",
      "Epoch 74/200\n",
      "470016/470221 [============================>.] - ETA: 0s - loss: 0.0363\n",
      "Epoch 00074: val_loss did not improve from 0.07078\n",
      "470221/470221 [==============================] - 173s 369us/sample - loss: 0.0363 - val_loss: 0.0752\n",
      "Epoch 75/200\n",
      "470016/470221 [============================>.] - ETA: 0s - loss: 0.0359\n",
      "Epoch 00075: val_loss did not improve from 0.07078\n",
      "470221/470221 [==============================] - 173s 369us/sample - loss: 0.0359 - val_loss: 0.0729\n",
      "Epoch 76/200\n",
      "470016/470221 [============================>.] - ETA: 0s - loss: 0.0339\n",
      "Epoch 00076: val_loss did not improve from 0.07078\n",
      "470221/470221 [==============================] - 173s 368us/sample - loss: 0.0339 - val_loss: 0.0715\n",
      "Epoch 77/200\n",
      "470016/470221 [============================>.] - ETA: 0s - loss: 0.0357\n",
      "Epoch 00077: val_loss did not improve from 0.07078\n",
      "470221/470221 [==============================] - 174s 369us/sample - loss: 0.0357 - val_loss: 0.0765\n",
      "Epoch 78/200\n",
      "470016/470221 [============================>.] - ETA: 0s - loss: 0.0351\n",
      "Epoch 00078: val_loss did not improve from 0.07078\n",
      "470221/470221 [==============================] - 173s 368us/sample - loss: 0.0351 - val_loss: 0.0723\n",
      "Epoch 79/200\n",
      "470016/470221 [============================>.] - ETA: 0s - loss: 0.0326\n",
      "Epoch 00079: val_loss improved from 0.07078 to 0.06855, saving model to /workspace/data/checkpoints/EN-TF1-Full-20200408-194433\n",
      "470221/470221 [==============================] - 174s 370us/sample - loss: 0.0326 - val_loss: 0.0685\n",
      "Epoch 80/200\n",
      "470016/470221 [============================>.] - ETA: 0s - loss: 0.0361\n",
      "Epoch 00080: val_loss did not improve from 0.06855\n",
      "470221/470221 [==============================] - 174s 370us/sample - loss: 0.0361 - val_loss: 0.0721\n",
      "Epoch 81/200\n",
      "470016/470221 [============================>.] - ETA: 0s - loss: 0.0345\n",
      "Epoch 00081: val_loss did not improve from 0.06855\n",
      "470221/470221 [==============================] - 173s 369us/sample - loss: 0.0345 - val_loss: 0.0729\n",
      "Epoch 82/200\n",
      "470016/470221 [============================>.] - ETA: 0s - loss: 0.0338\n",
      "Epoch 00082: val_loss did not improve from 0.06855\n",
      "470221/470221 [==============================] - 173s 369us/sample - loss: 0.0338 - val_loss: 0.0742\n",
      "Epoch 83/200\n",
      "470016/470221 [============================>.] - ETA: 0s - loss: 0.0360\n",
      "Epoch 00083: val_loss did not improve from 0.06855\n",
      "470221/470221 [==============================] - 174s 369us/sample - loss: 0.0360 - val_loss: 0.0701\n",
      "Epoch 84/200\n",
      "470016/470221 [============================>.] - ETA: 0s - loss: 0.0318\n",
      "Epoch 00084: val_loss did not improve from 0.06855\n",
      "470221/470221 [==============================] - 174s 369us/sample - loss: 0.0318 - val_loss: 0.0726\n",
      "Epoch 85/200\n",
      "470016/470221 [============================>.] - ETA: 0s - loss: 0.0340\n",
      "Epoch 00085: val_loss did not improve from 0.06855\n",
      "470221/470221 [==============================] - 173s 367us/sample - loss: 0.0340 - val_loss: 0.0730\n",
      "Epoch 86/200\n",
      "470016/470221 [============================>.] - ETA: 0s - loss: 0.0333\n",
      "Epoch 00086: val_loss did not improve from 0.06855\n",
      "470221/470221 [==============================] - 174s 369us/sample - loss: 0.0333 - val_loss: 0.0702\n",
      "Epoch 87/200\n",
      "470016/470221 [============================>.] - ETA: 0s - loss: 0.0339\n",
      "Epoch 00087: val_loss did not improve from 0.06855\n",
      "470221/470221 [==============================] - 173s 369us/sample - loss: 0.0339 - val_loss: 0.0735\n",
      "Epoch 88/200\n",
      "470016/470221 [============================>.] - ETA: 0s - loss: 0.0328\n",
      "Epoch 00088: val_loss did not improve from 0.06855\n",
      "470221/470221 [==============================] - 173s 368us/sample - loss: 0.0328 - val_loss: 0.0686\n",
      "Epoch 89/200\n",
      "470016/470221 [============================>.] - ETA: 0s - loss: 0.0321\n",
      "Epoch 00089: val_loss did not improve from 0.06855\n",
      "470221/470221 [==============================] - 175s 372us/sample - loss: 0.0321 - val_loss: 0.0747\n",
      "Epoch 90/200\n",
      "470016/470221 [============================>.] - ETA: 0s - loss: 0.0347\n",
      "Epoch 00090: val_loss did not improve from 0.06855\n",
      "470221/470221 [==============================] - 175s 372us/sample - loss: 0.0347 - val_loss: 0.0736\n",
      "Epoch 91/200\n",
      "470016/470221 [============================>.] - ETA: 0s - loss: 0.0329\n",
      "Epoch 00091: val_loss did not improve from 0.06855\n",
      "470221/470221 [==============================] - 175s 372us/sample - loss: 0.0329 - val_loss: 0.0707\n",
      "Epoch 92/200\n",
      "470016/470221 [============================>.] - ETA: 0s - loss: 0.0327\n",
      "Epoch 00092: val_loss did not improve from 0.06855\n",
      "470221/470221 [==============================] - 173s 368us/sample - loss: 0.0327 - val_loss: 0.0726\n",
      "Epoch 93/200\n",
      "470016/470221 [============================>.] - ETA: 0s - loss: 0.0330\n",
      "Epoch 00093: val_loss did not improve from 0.06855\n",
      "470221/470221 [==============================] - 174s 370us/sample - loss: 0.0331 - val_loss: 0.0739\n",
      "Epoch 94/200\n",
      "470016/470221 [============================>.] - ETA: 0s - loss: 0.0326\n",
      "Epoch 00094: val_loss did not improve from 0.06855\n",
      "470221/470221 [==============================] - 176s 374us/sample - loss: 0.0326 - val_loss: 0.0697\n",
      "Epoch 95/200\n",
      "470016/470221 [============================>.] - ETA: 0s - loss: 0.0308\n",
      "Epoch 00095: val_loss did not improve from 0.06855\n",
      "470221/470221 [==============================] - 174s 369us/sample - loss: 0.0308 - val_loss: 0.0717\n",
      "Epoch 96/200\n",
      "470016/470221 [============================>.] - ETA: 0s - loss: 0.0337\n",
      "Epoch 00096: val_loss did not improve from 0.06855\n",
      "470221/470221 [==============================] - 174s 369us/sample - loss: 0.0337 - val_loss: 0.0737\n",
      "Epoch 97/200\n",
      "470016/470221 [============================>.] - ETA: 0s - loss: 0.0314\n",
      "Epoch 00097: val_loss did not improve from 0.06855\n",
      "470221/470221 [==============================] - 175s 372us/sample - loss: 0.0314 - val_loss: 0.0689\n",
      "Epoch 98/200\n",
      "470016/470221 [============================>.] - ETA: 0s - loss: 0.0325\n",
      "Epoch 00098: val_loss did not improve from 0.06855\n",
      "470221/470221 [==============================] - 176s 375us/sample - loss: 0.0325 - val_loss: 0.0723\n",
      "Epoch 99/200\n",
      "470016/470221 [============================>.] - ETA: 0s - loss: 0.0316\n",
      "Epoch 00099: val_loss improved from 0.06855 to 0.06809, saving model to /workspace/data/checkpoints/EN-TF1-Full-20200408-194433\n",
      "470221/470221 [==============================] - 177s 377us/sample - loss: 0.0316 - val_loss: 0.0681\n",
      "Epoch 100/200\n",
      "470016/470221 [============================>.] - ETA: 0s - loss: 0.0317\n",
      "Epoch 00100: val_loss did not improve from 0.06809\n",
      "470221/470221 [==============================] - 176s 375us/sample - loss: 0.0317 - val_loss: 0.0762\n",
      "Epoch 101/200\n",
      "470016/470221 [============================>.] - ETA: 0s - loss: 0.0328\n",
      "Epoch 00101: val_loss did not improve from 0.06809\n",
      "470221/470221 [==============================] - 176s 375us/sample - loss: 0.0328 - val_loss: 0.0707\n",
      "Epoch 102/200\n",
      "470016/470221 [============================>.] - ETA: 0s - loss: 0.0310\n",
      "Epoch 00102: val_loss did not improve from 0.06809\n",
      "470221/470221 [==============================] - 176s 375us/sample - loss: 0.0310 - val_loss: 0.0710\n",
      "Epoch 103/200\n",
      "470016/470221 [============================>.] - ETA: 0s - loss: 0.0310\n",
      "Epoch 00103: val_loss did not improve from 0.06809\n",
      "470221/470221 [==============================] - 176s 375us/sample - loss: 0.0310 - val_loss: 0.0704\n",
      "Epoch 104/200\n",
      "470016/470221 [============================>.] - ETA: 0s - loss: 0.0322\n",
      "Epoch 00104: val_loss did not improve from 0.06809\n",
      "470221/470221 [==============================] - 176s 375us/sample - loss: 0.0322 - val_loss: 0.0692\n",
      "Epoch 105/200\n",
      "470016/470221 [============================>.] - ETA: 0s - loss: 0.0298\n",
      "Epoch 00105: val_loss did not improve from 0.06809\n",
      "470221/470221 [==============================] - 176s 374us/sample - loss: 0.0298 - val_loss: 0.0706\n",
      "Epoch 106/200\n",
      "470016/470221 [============================>.] - ETA: 0s - loss: 0.0324\n",
      "Epoch 00106: val_loss did not improve from 0.06809\n",
      "470221/470221 [==============================] - 174s 371us/sample - loss: 0.0324 - val_loss: 0.0693\n",
      "Epoch 107/200\n",
      "470016/470221 [============================>.] - ETA: 0s - loss: 0.0312\n",
      "Epoch 00107: val_loss did not improve from 0.06809\n",
      "470221/470221 [==============================] - 175s 372us/sample - loss: 0.0312 - val_loss: 0.0702\n",
      "Epoch 108/200\n",
      "470016/470221 [============================>.] - ETA: 0s - loss: 0.0302\n",
      "Epoch 00108: val_loss did not improve from 0.06809\n",
      "470221/470221 [==============================] - 175s 372us/sample - loss: 0.0302 - val_loss: 0.0714\n",
      "Epoch 109/200\n",
      "470016/470221 [============================>.] - ETA: 0s - loss: 0.0313\n",
      "Epoch 00109: val_loss did not improve from 0.06809\n",
      "470221/470221 [==============================] - 174s 371us/sample - loss: 0.0313 - val_loss: 0.0688\n",
      "Epoch 110/200\n",
      "470016/470221 [============================>.] - ETA: 0s - loss: 0.0300\n",
      "Epoch 00110: val_loss did not improve from 0.06809\n",
      "470221/470221 [==============================] - 173s 367us/sample - loss: 0.0300 - val_loss: 0.0692\n",
      "Epoch 111/200\n",
      "470016/470221 [============================>.] - ETA: 0s - loss: 0.0319\n",
      "Epoch 00111: val_loss did not improve from 0.06809\n",
      "470221/470221 [==============================] - 172s 367us/sample - loss: 0.0319 - val_loss: 0.0690\n",
      "Epoch 112/200\n",
      "470016/470221 [============================>.] - ETA: 0s - loss: 0.0299\n",
      "Epoch 00112: val_loss improved from 0.06809 to 0.06783, saving model to /workspace/data/checkpoints/EN-TF1-Full-20200408-194433\n",
      "470221/470221 [==============================] - 176s 373us/sample - loss: 0.0299 - val_loss: 0.0678\n",
      "Epoch 113/200\n",
      "470016/470221 [============================>.] - ETA: 0s - loss: 0.0300\n",
      "Epoch 00113: val_loss did not improve from 0.06783\n",
      "470221/470221 [==============================] - 174s 369us/sample - loss: 0.0300 - val_loss: 0.0696\n",
      "Epoch 114/200\n",
      "470016/470221 [============================>.] - ETA: 0s - loss: 0.0308\n",
      "Epoch 00114: val_loss did not improve from 0.06783\n",
      "470221/470221 [==============================] - 174s 369us/sample - loss: 0.0308 - val_loss: 0.0710\n",
      "Epoch 115/200\n",
      "470016/470221 [============================>.] - ETA: 0s - loss: 0.0306\n",
      "Epoch 00115: val_loss improved from 0.06783 to 0.06680, saving model to /workspace/data/checkpoints/EN-TF1-Full-20200408-194433\n",
      "470221/470221 [==============================] - 173s 368us/sample - loss: 0.0306 - val_loss: 0.0668\n",
      "Epoch 116/200\n",
      "470016/470221 [============================>.] - ETA: 0s - loss: 0.0300\n",
      "Epoch 00116: val_loss did not improve from 0.06680\n",
      "470221/470221 [==============================] - 172s 366us/sample - loss: 0.0300 - val_loss: 0.0695\n",
      "Epoch 117/200\n",
      "470016/470221 [============================>.] - ETA: 0s - loss: 0.0303\n",
      "Epoch 00117: val_loss did not improve from 0.06680\n",
      "470221/470221 [==============================] - 173s 368us/sample - loss: 0.0303 - val_loss: 0.0708\n",
      "Epoch 118/200\n",
      "470016/470221 [============================>.] - ETA: 0s - loss: 0.0305\n",
      "Epoch 00118: val_loss did not improve from 0.06680\n",
      "470221/470221 [==============================] - 176s 374us/sample - loss: 0.0305 - val_loss: 0.0701\n",
      "Epoch 119/200\n",
      "470016/470221 [============================>.] - ETA: 0s - loss: 0.0299\n",
      "Epoch 00119: val_loss did not improve from 0.06680\n",
      "470221/470221 [==============================] - 176s 374us/sample - loss: 0.0299 - val_loss: 0.0675\n",
      "Epoch 120/200\n",
      "470016/470221 [============================>.] - ETA: 0s - loss: 0.0302\n",
      "Epoch 00120: val_loss did not improve from 0.06680\n",
      "470221/470221 [==============================] - 176s 374us/sample - loss: 0.0302 - val_loss: 0.0669\n",
      "Epoch 121/200\n",
      "470016/470221 [============================>.] - ETA: 0s - loss: 0.0301\n",
      "Epoch 00121: val_loss did not improve from 0.06680\n",
      "470221/470221 [==============================] - 176s 374us/sample - loss: 0.0301 - val_loss: 0.0723\n",
      "Epoch 122/200\n",
      "470016/470221 [============================>.] - ETA: 0s - loss: 0.0299\n",
      "Epoch 00122: val_loss did not improve from 0.06680\n",
      "470221/470221 [==============================] - 175s 373us/sample - loss: 0.0299 - val_loss: 0.0676\n",
      "Epoch 123/200\n",
      "470016/470221 [============================>.] - ETA: 0s - loss: 0.0291\n",
      "Epoch 00123: val_loss did not improve from 0.06680\n",
      "470221/470221 [==============================] - 176s 375us/sample - loss: 0.0291 - val_loss: 0.0703\n",
      "Epoch 124/200\n",
      "470016/470221 [============================>.] - ETA: 0s - loss: 0.0300\n",
      "Epoch 00124: val_loss did not improve from 0.06680\n",
      "470221/470221 [==============================] - 176s 374us/sample - loss: 0.0300 - val_loss: 0.0690\n",
      "Epoch 125/200\n",
      "470016/470221 [============================>.] - ETA: 0s - loss: 0.0291\n",
      "Epoch 00125: val_loss did not improve from 0.06680\n",
      "470221/470221 [==============================] - 175s 373us/sample - loss: 0.0291 - val_loss: 0.0684\n",
      "Epoch 126/200\n",
      "470016/470221 [============================>.] - ETA: 0s - loss: 0.0291\n",
      "Epoch 00126: val_loss did not improve from 0.06680\n",
      "470221/470221 [==============================] - 175s 372us/sample - loss: 0.0291 - val_loss: 0.0696\n",
      "Epoch 127/200\n",
      "470016/470221 [============================>.] - ETA: 0s - loss: 0.0312\n",
      "Epoch 00127: val_loss did not improve from 0.06680\n",
      "470221/470221 [==============================] - 175s 372us/sample - loss: 0.0312 - val_loss: 0.0715\n",
      "Epoch 128/200\n",
      "470016/470221 [============================>.] - ETA: 0s - loss: 0.0283\n",
      "Epoch 00128: val_loss improved from 0.06680 to 0.06533, saving model to /workspace/data/checkpoints/EN-TF1-Full-20200408-194433\n",
      "470221/470221 [==============================] - 174s 371us/sample - loss: 0.0283 - val_loss: 0.0653\n",
      "Epoch 129/200\n",
      "470016/470221 [============================>.] - ETA: 0s - loss: 0.0285\n",
      "Epoch 00129: val_loss did not improve from 0.06533\n",
      "470221/470221 [==============================] - 172s 366us/sample - loss: 0.0285 - val_loss: 0.0718\n",
      "Epoch 130/200\n",
      "470016/470221 [============================>.] - ETA: 0s - loss: 0.0301\n",
      "Epoch 00130: val_loss did not improve from 0.06533\n",
      "470221/470221 [==============================] - 172s 366us/sample - loss: 0.0301 - val_loss: 0.0678\n",
      "Epoch 131/200\n",
      "470016/470221 [============================>.] - ETA: 0s - loss: 0.0292\n",
      "Epoch 00131: val_loss did not improve from 0.06533\n",
      "470221/470221 [==============================] - 175s 372us/sample - loss: 0.0292 - val_loss: 0.0669\n",
      "Epoch 132/200\n",
      "470016/470221 [============================>.] - ETA: 0s - loss: 0.0291\n",
      "Epoch 00132: val_loss did not improve from 0.06533\n",
      "470221/470221 [==============================] - 173s 369us/sample - loss: 0.0291 - val_loss: 0.0671\n",
      "Epoch 133/200\n",
      "470016/470221 [============================>.] - ETA: 0s - loss: 0.0278\n",
      "Epoch 00133: val_loss did not improve from 0.06533\n",
      "470221/470221 [==============================] - 173s 367us/sample - loss: 0.0278 - val_loss: 0.0692\n",
      "Epoch 134/200\n",
      "470016/470221 [============================>.] - ETA: 0s - loss: 0.0294\n",
      "Epoch 00134: val_loss did not improve from 0.06533\n",
      "470221/470221 [==============================] - 172s 367us/sample - loss: 0.0294 - val_loss: 0.0703\n",
      "Epoch 135/200\n",
      "470016/470221 [============================>.] - ETA: 0s - loss: 0.0293\n",
      "Epoch 00135: val_loss did not improve from 0.06533\n",
      "470221/470221 [==============================] - 172s 366us/sample - loss: 0.0293 - val_loss: 0.0687\n",
      "Epoch 136/200\n",
      "470016/470221 [============================>.] - ETA: 0s - loss: 0.0282\n",
      "Epoch 00136: val_loss did not improve from 0.06533\n",
      "470221/470221 [==============================] - 173s 367us/sample - loss: 0.0282 - val_loss: 0.0669\n",
      "Epoch 137/200\n",
      "470016/470221 [============================>.] - ETA: 0s - loss: 0.0286\n",
      "Epoch 00137: val_loss did not improve from 0.06533\n",
      "470221/470221 [==============================] - 174s 369us/sample - loss: 0.0286 - val_loss: 0.0680\n",
      "Epoch 138/200\n",
      "470016/470221 [============================>.] - ETA: 0s - loss: 0.0282\n",
      "Epoch 00138: val_loss did not improve from 0.06533\n",
      "470221/470221 [==============================] - 174s 369us/sample - loss: 0.0282 - val_loss: 0.0699\n",
      "Epoch 139/200\n",
      "470016/470221 [============================>.] - ETA: 0s - loss: 0.0290\n",
      "Epoch 00139: val_loss did not improve from 0.06533\n",
      "470221/470221 [==============================] - 174s 370us/sample - loss: 0.0290 - val_loss: 0.0659\n",
      "Epoch 140/200\n",
      "470016/470221 [============================>.] - ETA: 0s - loss: 0.0276\n",
      "Epoch 00140: val_loss did not improve from 0.06533\n",
      "470221/470221 [==============================] - 174s 370us/sample - loss: 0.0276 - val_loss: 0.0693\n",
      "Epoch 141/200\n",
      "470016/470221 [============================>.] - ETA: 0s - loss: 0.0295\n",
      "Epoch 00141: val_loss did not improve from 0.06533\n",
      "470221/470221 [==============================] - 174s 370us/sample - loss: 0.0295 - val_loss: 0.0670\n",
      "Epoch 142/200\n",
      "470016/470221 [============================>.] - ETA: 0s - loss: 0.0270\n",
      "Epoch 00142: val_loss did not improve from 0.06533\n",
      "470221/470221 [==============================] - 174s 370us/sample - loss: 0.0270 - val_loss: 0.0664\n",
      "Epoch 143/200\n",
      "470016/470221 [============================>.] - ETA: 0s - loss: 0.0287\n",
      "Epoch 00143: val_loss did not improve from 0.06533\n",
      "470221/470221 [==============================] - 174s 370us/sample - loss: 0.0287 - val_loss: 0.0691\n",
      "Epoch 144/200\n",
      "470016/470221 [============================>.] - ETA: 0s - loss: 0.0278\n",
      "Epoch 00144: val_loss did not improve from 0.06533\n",
      "470221/470221 [==============================] - 174s 370us/sample - loss: 0.0278 - val_loss: 0.0684\n",
      "Epoch 145/200\n",
      "470016/470221 [============================>.] - ETA: 0s - loss: 0.0300\n",
      "Epoch 00145: val_loss did not improve from 0.06533\n",
      "470221/470221 [==============================] - 174s 370us/sample - loss: 0.0300 - val_loss: 0.0674\n",
      "Epoch 146/200\n",
      "470016/470221 [============================>.] - ETA: 0s - loss: 0.0269\n",
      "Epoch 00146: val_loss did not improve from 0.06533\n",
      "470221/470221 [==============================] - 174s 369us/sample - loss: 0.0269 - val_loss: 0.0662\n",
      "Epoch 147/200\n",
      "470016/470221 [============================>.] - ETA: 0s - loss: 0.0274\n",
      "Epoch 00147: val_loss did not improve from 0.06533\n",
      "470221/470221 [==============================] - 174s 369us/sample - loss: 0.0274 - val_loss: 0.0701\n",
      "Epoch 148/200\n",
      "470016/470221 [============================>.] - ETA: 0s - loss: 0.0289\n",
      "Epoch 00148: val_loss did not improve from 0.06533\n",
      "470221/470221 [==============================] - 174s 369us/sample - loss: 0.0289 - val_loss: 0.0676\n",
      "Epoch 149/200\n",
      "470016/470221 [============================>.] - ETA: 0s - loss: 0.0277\n",
      "Epoch 00149: val_loss did not improve from 0.06533\n",
      "470221/470221 [==============================] - 173s 369us/sample - loss: 0.0277 - val_loss: 0.0719\n",
      "Epoch 150/200\n",
      "470016/470221 [============================>.] - ETA: 0s - loss: 0.0281\n",
      "Epoch 00150: val_loss improved from 0.06533 to 0.06463, saving model to /workspace/data/checkpoints/EN-TF1-Full-20200408-194433\n",
      "470221/470221 [==============================] - 175s 371us/sample - loss: 0.0281 - val_loss: 0.0646\n",
      "Epoch 151/200\n",
      "470016/470221 [============================>.] - ETA: 0s - loss: 0.0269\n",
      "Epoch 00151: val_loss did not improve from 0.06463\n",
      "470221/470221 [==============================] - 172s 366us/sample - loss: 0.0269 - val_loss: 0.0710\n",
      "Epoch 152/200\n",
      "470016/470221 [============================>.] - ETA: 0s - loss: 0.0290\n",
      "Epoch 00152: val_loss did not improve from 0.06463\n",
      "470221/470221 [==============================] - 172s 365us/sample - loss: 0.0290 - val_loss: 0.0671\n",
      "Epoch 153/200\n",
      "470016/470221 [============================>.] - ETA: 0s - loss: 0.0280\n",
      "Epoch 00153: val_loss did not improve from 0.06463\n",
      "470221/470221 [==============================] - 173s 368us/sample - loss: 0.0280 - val_loss: 0.0664\n",
      "Epoch 154/200\n",
      " 82944/470221 [====>.........................] - ETA: 2:04 - loss: 0.0266"
     ]
    },
    {
     "ename": "KeyboardInterrupt",
     "evalue": "",
     "output_type": "error",
     "traceback": [
      "\u001b[0;31m---------------------------------------------------------------------------\u001b[0m",
      "\u001b[0;31mKeyboardInterrupt\u001b[0m                         Traceback (most recent call last)",
      "\u001b[0;32m<ipython-input-15-4925b37a6c1a>\u001b[0m in \u001b[0;36m<module>\u001b[0;34m\u001b[0m\n\u001b[1;32m     11\u001b[0m          right[train_size:dataset_size]], \n\u001b[1;32m     12\u001b[0m         labels[train_size:dataset_size]),\n\u001b[0;32m---> 13\u001b[0;31m     \u001b[0mcallbacks\u001b[0m\u001b[0;34m=\u001b[0m\u001b[0;34m[\u001b[0m\u001b[0mcheckpoints_callback\u001b[0m\u001b[0;34m]\u001b[0m \u001b[0;31m#, tensorboard_callback\u001b[0m\u001b[0;34m\u001b[0m\u001b[0;34m\u001b[0m\u001b[0m\n\u001b[0m\u001b[1;32m     14\u001b[0m ) \n",
      "\u001b[0;32m/usr/local/lib/python3.6/dist-packages/tensorflow_core/python/keras/engine/training.py\u001b[0m in \u001b[0;36mfit\u001b[0;34m(self, x, y, batch_size, epochs, verbose, callbacks, validation_split, validation_data, shuffle, class_weight, sample_weight, initial_epoch, steps_per_epoch, validation_steps, validation_freq, max_queue_size, workers, use_multiprocessing, **kwargs)\u001b[0m\n\u001b[1;32m    725\u001b[0m         \u001b[0mmax_queue_size\u001b[0m\u001b[0;34m=\u001b[0m\u001b[0mmax_queue_size\u001b[0m\u001b[0;34m,\u001b[0m\u001b[0;34m\u001b[0m\u001b[0;34m\u001b[0m\u001b[0m\n\u001b[1;32m    726\u001b[0m         \u001b[0mworkers\u001b[0m\u001b[0;34m=\u001b[0m\u001b[0mworkers\u001b[0m\u001b[0;34m,\u001b[0m\u001b[0;34m\u001b[0m\u001b[0;34m\u001b[0m\u001b[0m\n\u001b[0;32m--> 727\u001b[0;31m         use_multiprocessing=use_multiprocessing)\n\u001b[0m\u001b[1;32m    728\u001b[0m \u001b[0;34m\u001b[0m\u001b[0m\n\u001b[1;32m    729\u001b[0m   def evaluate(self,\n",
      "\u001b[0;32m/usr/local/lib/python3.6/dist-packages/tensorflow_core/python/keras/engine/training_arrays.py\u001b[0m in \u001b[0;36mfit\u001b[0;34m(self, model, x, y, batch_size, epochs, verbose, callbacks, validation_split, validation_data, shuffle, class_weight, sample_weight, initial_epoch, steps_per_epoch, validation_steps, validation_freq, **kwargs)\u001b[0m\n\u001b[1;32m    673\u001b[0m         \u001b[0mvalidation_steps\u001b[0m\u001b[0;34m=\u001b[0m\u001b[0mvalidation_steps\u001b[0m\u001b[0;34m,\u001b[0m\u001b[0;34m\u001b[0m\u001b[0;34m\u001b[0m\u001b[0m\n\u001b[1;32m    674\u001b[0m         \u001b[0mvalidation_freq\u001b[0m\u001b[0;34m=\u001b[0m\u001b[0mvalidation_freq\u001b[0m\u001b[0;34m,\u001b[0m\u001b[0;34m\u001b[0m\u001b[0;34m\u001b[0m\u001b[0m\n\u001b[0;32m--> 675\u001b[0;31m         steps_name='steps_per_epoch')\n\u001b[0m\u001b[1;32m    676\u001b[0m \u001b[0;34m\u001b[0m\u001b[0m\n\u001b[1;32m    677\u001b[0m   def evaluate(self,\n",
      "\u001b[0;32m/usr/local/lib/python3.6/dist-packages/tensorflow_core/python/keras/engine/training_arrays.py\u001b[0m in \u001b[0;36mmodel_iteration\u001b[0;34m(model, inputs, targets, sample_weights, batch_size, epochs, verbose, callbacks, val_inputs, val_targets, val_sample_weights, shuffle, initial_epoch, steps_per_epoch, validation_steps, validation_freq, mode, validation_in_fit, prepared_feed_values_from_dataset, steps_name, **kwargs)\u001b[0m\n\u001b[1;32m    392\u001b[0m \u001b[0;34m\u001b[0m\u001b[0m\n\u001b[1;32m    393\u001b[0m         \u001b[0;31m# Get outputs.\u001b[0m\u001b[0;34m\u001b[0m\u001b[0;34m\u001b[0m\u001b[0;34m\u001b[0m\u001b[0m\n\u001b[0;32m--> 394\u001b[0;31m         \u001b[0mbatch_outs\u001b[0m \u001b[0;34m=\u001b[0m \u001b[0mf\u001b[0m\u001b[0;34m(\u001b[0m\u001b[0mins_batch\u001b[0m\u001b[0;34m)\u001b[0m\u001b[0;34m\u001b[0m\u001b[0;34m\u001b[0m\u001b[0m\n\u001b[0m\u001b[1;32m    395\u001b[0m         \u001b[0;32mif\u001b[0m \u001b[0;32mnot\u001b[0m \u001b[0misinstance\u001b[0m\u001b[0;34m(\u001b[0m\u001b[0mbatch_outs\u001b[0m\u001b[0;34m,\u001b[0m \u001b[0mlist\u001b[0m\u001b[0;34m)\u001b[0m\u001b[0;34m:\u001b[0m\u001b[0;34m\u001b[0m\u001b[0;34m\u001b[0m\u001b[0m\n\u001b[1;32m    396\u001b[0m           \u001b[0mbatch_outs\u001b[0m \u001b[0;34m=\u001b[0m \u001b[0;34m[\u001b[0m\u001b[0mbatch_outs\u001b[0m\u001b[0;34m]\u001b[0m\u001b[0;34m\u001b[0m\u001b[0;34m\u001b[0m\u001b[0m\n",
      "\u001b[0;32m/usr/local/lib/python3.6/dist-packages/tensorflow_core/python/keras/backend.py\u001b[0m in \u001b[0;36m__call__\u001b[0;34m(self, inputs)\u001b[0m\n\u001b[1;32m   3474\u001b[0m \u001b[0;34m\u001b[0m\u001b[0m\n\u001b[1;32m   3475\u001b[0m     fetched = self._callable_fn(*array_vals,\n\u001b[0;32m-> 3476\u001b[0;31m                                 run_metadata=self.run_metadata)\n\u001b[0m\u001b[1;32m   3477\u001b[0m     \u001b[0mself\u001b[0m\u001b[0;34m.\u001b[0m\u001b[0m_call_fetch_callbacks\u001b[0m\u001b[0;34m(\u001b[0m\u001b[0mfetched\u001b[0m\u001b[0;34m[\u001b[0m\u001b[0;34m-\u001b[0m\u001b[0mlen\u001b[0m\u001b[0;34m(\u001b[0m\u001b[0mself\u001b[0m\u001b[0;34m.\u001b[0m\u001b[0m_fetches\u001b[0m\u001b[0;34m)\u001b[0m\u001b[0;34m:\u001b[0m\u001b[0;34m]\u001b[0m\u001b[0;34m)\u001b[0m\u001b[0;34m\u001b[0m\u001b[0;34m\u001b[0m\u001b[0m\n\u001b[1;32m   3478\u001b[0m     output_structure = nest.pack_sequence_as(\n",
      "\u001b[0;32m/usr/local/lib/python3.6/dist-packages/tensorflow_core/python/client/session.py\u001b[0m in \u001b[0;36m__call__\u001b[0;34m(self, *args, **kwargs)\u001b[0m\n\u001b[1;32m   1470\u001b[0m         ret = tf_session.TF_SessionRunCallable(self._session._session,\n\u001b[1;32m   1471\u001b[0m                                                \u001b[0mself\u001b[0m\u001b[0;34m.\u001b[0m\u001b[0m_handle\u001b[0m\u001b[0;34m,\u001b[0m \u001b[0margs\u001b[0m\u001b[0;34m,\u001b[0m\u001b[0;34m\u001b[0m\u001b[0;34m\u001b[0m\u001b[0m\n\u001b[0;32m-> 1472\u001b[0;31m                                                run_metadata_ptr)\n\u001b[0m\u001b[1;32m   1473\u001b[0m         \u001b[0;32mif\u001b[0m \u001b[0mrun_metadata\u001b[0m\u001b[0;34m:\u001b[0m\u001b[0;34m\u001b[0m\u001b[0;34m\u001b[0m\u001b[0m\n\u001b[1;32m   1474\u001b[0m           \u001b[0mproto_data\u001b[0m \u001b[0;34m=\u001b[0m \u001b[0mtf_session\u001b[0m\u001b[0;34m.\u001b[0m\u001b[0mTF_GetBuffer\u001b[0m\u001b[0;34m(\u001b[0m\u001b[0mrun_metadata_ptr\u001b[0m\u001b[0;34m)\u001b[0m\u001b[0;34m\u001b[0m\u001b[0;34m\u001b[0m\u001b[0m\n",
      "\u001b[0;31mKeyboardInterrupt\u001b[0m: "
     ]
    }
   ],
   "source": [
    "BATCH = 512\n",
    "EPOCHS = 200\n",
    "\n",
    "history = model.fit(\n",
    "   [left[0:train_size], right[0:train_size]], \n",
    "    labels[0:train_size], \n",
    "    batch_size = BATCH, \n",
    "    epochs = EPOCHS,\n",
    "    validation_data = (\n",
    "        [left[train_size:dataset_size],\n",
    "         right[train_size:dataset_size]], \n",
    "        labels[train_size:dataset_size]),\n",
    "    callbacks=[checkpoints_callback] #, tensorboard_callback\n",
    ") "
   ]
  },
  {
   "cell_type": "code",
   "execution_count": null,
   "metadata": {
    "colab": {},
    "colab_type": "code",
    "id": "2Vo50GX6luqq",
    "outputId": "fc38880b-de5e-4310-8a84-dac0221d03c5"
   },
   "outputs": [],
   "source": [
    "print(history.history.keys())"
   ]
  },
  {
   "cell_type": "code",
   "execution_count": null,
   "metadata": {
    "colab": {},
    "colab_type": "code",
    "id": "SCj7kbzJluqw",
    "outputId": "636cb0ed-8f82-4983-a9df-59522aa868dc"
   },
   "outputs": [],
   "source": [
    "plt.plot(history.history['loss'])\n",
    "plt.plot(history.history['val_loss'])\n",
    "plt.title('Training Loss')\n",
    "plt.ylabel('Loss')\n",
    "plt.xlabel('epoch')\n",
    "plt.legend(['train', 'validation'], loc='upper right')\n",
    "plt.show()"
   ]
  },
  {
   "cell_type": "code",
   "execution_count": null,
   "metadata": {},
   "outputs": [],
   "source": [
    "with open(checkpoint_path + '-history.pkl', 'wb') as f:\n",
    "    pickle.dump(history.history, f)"
   ]
  },
  {
   "cell_type": "markdown",
   "metadata": {
    "colab_type": "text",
    "id": "F6ZBogbfluq2"
   },
   "source": [
    "### Inference"
   ]
  },
  {
   "cell_type": "code",
   "execution_count": 20,
   "metadata": {
    "colab": {},
    "colab_type": "code",
    "id": "lrAmY7_0luq3"
   },
   "outputs": [],
   "source": [
    "def get_accuracy(labels, predicted_scores, threshold=0.5):\n",
    "    predicted = predicted_scores > threshold\n",
    "    predicted = predicted.astype(int).ravel()\n",
    "    return np.round(100*accuracy_score(labels, predicted), 2)"
   ]
  },
  {
   "cell_type": "code",
   "execution_count": 21,
   "metadata": {
    "colab": {},
    "colab_type": "code",
    "id": "XgXbVJwNluq5"
   },
   "outputs": [],
   "source": [
    "def plot_roc_auc(actual, predictions):\n",
    "    fpr, tpr, roc_thresholds = roc_curve(actual, predictions)\n",
    "    auc_value = auc(fpr, tpr)\n",
    "    plt.plot(fpr, tpr, label='AUC  = {:.3f}'.format(auc_value))\n",
    "    plt.xlabel('False positive rate')\n",
    "    plt.ylabel('True positive rate')\n",
    "    plt.title('ROC curve')\n",
    "    plt.legend(loc='best')\n",
    "    plt.show()"
   ]
  },
  {
   "cell_type": "code",
   "execution_count": 22,
   "metadata": {
    "colab": {},
    "colab_type": "code",
    "id": "titSvg6-luq_"
   },
   "outputs": [],
   "source": [
    "def plot_precision_recall(actual, predictions):\n",
    "    precision, recall, pr_thresholds = precision_recall_curve(actual, predictions)\n",
    "    avg_precision = average_precision_score(actual, predictions)\n",
    "    plt.plot(recall, precision, label='Avg Precision  = {:.3f}'.format(avg_precision))\n",
    "    plt.ylabel('Precision')\n",
    "    plt.xlabel('Recall')\n",
    "    plt.title('Precision-Recall curve')\n",
    "    plt.legend(loc='best')\n",
    "    plt.show()"
   ]
  },
  {
   "cell_type": "code",
   "execution_count": 16,
   "metadata": {},
   "outputs": [],
   "source": [
    "checkpoint_path = '/home/csanc/checkpoints/EN-TF1-Full-20200408-194433/EN-TF1-Full-20200408-194433'"
   ]
  },
  {
   "cell_type": "code",
   "execution_count": 17,
   "metadata": {
    "colab": {},
    "colab_type": "code",
    "id": "Fbjg-Bl2lurC"
   },
   "outputs": [
    {
     "data": {
      "text/plain": [
       "<tensorflow.python.training.tracking.util.CheckpointLoadStatus at 0x7fafa6d55438>"
      ]
     },
     "execution_count": 17,
     "metadata": {},
     "output_type": "execute_result"
    }
   ],
   "source": [
    "model = get_siamese_model()\n",
    "model.load_weights(checkpoint_path)"
   ]
  },
  {
   "cell_type": "markdown",
   "metadata": {
    "colab_type": "text",
    "id": "fNc4F0kUlurG"
   },
   "source": [
    "#### Validation Set"
   ]
  },
  {
   "cell_type": "code",
   "execution_count": 28,
   "metadata": {},
   "outputs": [],
   "source": [
    "left_val = left[train_size:dataset_size]\n",
    "right_val = right[train_size:dataset_size]\n",
    "labels_val = labels[train_size:dataset_size]"
   ]
  },
  {
   "cell_type": "code",
   "execution_count": 29,
   "metadata": {
    "colab": {},
    "colab_type": "code",
    "id": "14wW6FdBlurH"
   },
   "outputs": [],
   "source": [
    "predicted_val = model.predict([left_val, right_val]).ravel()"
   ]
  },
  {
   "cell_type": "code",
   "execution_count": 30,
   "metadata": {
    "colab": {},
    "colab_type": "code",
    "id": "SZbrMx3-lurP",
    "outputId": "527ffb5c-402a-4204-adf2-2aac938a0a76"
   },
   "outputs": [
    {
     "name": "stdout",
     "output_type": "stream",
     "text": [
      "accuracy: 98.72\n"
     ]
    }
   ],
   "source": [
    "#accuracy is a misleading metric here, we should look for the precision-recall\n",
    "#plot and select a threshold that priviledges precision but does not cause a \n",
    "#too low recall\n",
    "print('accuracy:', get_accuracy(labels_val, predicted_val))"
   ]
  },
  {
   "cell_type": "code",
   "execution_count": 31,
   "metadata": {
    "colab": {},
    "colab_type": "code",
    "id": "Szz7Rtphlurb",
    "outputId": "133f23bd-9ec4-4406-bda6-ba29e39e99e2"
   },
   "outputs": [
    {
     "data": {
      "image/png": "[encoded data removed]",
      "text/plain": [
       "<Figure size 432x288 with 1 Axes>"
      ]
     },
     "metadata": {
      "needs_background": "light"
     },
     "output_type": "display_data"
    }
   ],
   "source": [
    "plot_roc_auc(labels_val, predicted_val)"
   ]
  },
  {
   "cell_type": "code",
   "execution_count": 32,
   "metadata": {
    "colab": {},
    "colab_type": "code",
    "id": "lfFAbYD0lurd",
    "outputId": "2c274f07-91e9-42ba-f390-bc9b3a42f2e5"
   },
   "outputs": [
    {
     "data": {
      "image/png": "[encoded data removed]",
      "text/plain": [
       "<Figure size 432x288 with 1 Axes>"
      ]
     },
     "metadata": {
      "needs_background": "light"
     },
     "output_type": "display_data"
    }
   ],
   "source": [
    "plot_precision_recall(labels_val, predicted_val)"
   ]
  },
  {
   "cell_type": "markdown",
   "metadata": {
    "colab_type": "text",
    "id": "DeEbwXFGlurf"
   },
   "source": [
    "#### Test Set"
   ]
  },
  {
   "cell_type": "code",
   "execution_count": 4,
   "metadata": {
    "colab": {},
    "colab_type": "code",
    "id": "ulIHP593lurf",
    "outputId": "1ed56fcc-8e0b-4dd8-ceb1-43cbe8a7f4fa"
   },
   "outputs": [
    {
     "data": {
      "text/plain": [
       "['Xander_English_2.mp3',\n",
       " 'Rose_Portuguese_3.m4a',\n",
       " 'Other_Spanish_4.mp3',\n",
       " 'Xander_English_5.m4a',\n",
       " 'Xander_English_3.mp3',\n",
       " 'Other_Spanish_5.mp3',\n",
       " 'Xander_English_4.mp3',\n",
       " 'Carlos_English_1.m4a',\n",
       " 'Rose_Portuguese_1.m4a',\n",
       " 'Other_Spanish_2.mp3',\n",
       " 'Carlos_English_2.m4a',\n",
       " 'Xander_English_1.mp3',\n",
       " 'Other_Spanish_3.mp3',\n",
       " 'Carlos_Portuguese_2.m4a',\n",
       " 'Rose_Portuguese_2.m4a',\n",
       " 'Rose_Portuguese_4.m4a',\n",
       " 'Carlos_Portuguese_1.m4a',\n",
       " 'Carlos_Portuguese_3.m4a',\n",
       " 'Xander_English_6.m4a',\n",
       " 'Other_Spanish_1.mp3',\n",
       " 'Carlos_English_3.m4a',\n",
       " 'Rose_Portuguese_5.m4a']"
      ]
     },
     "execution_count": 4,
     "metadata": {},
     "output_type": "execute_result"
    }
   ],
   "source": [
    "test_filenames = os.listdir(TEST_CLIPS)\n",
    "test_filenames"
   ]
  },
  {
   "cell_type": "code",
   "execution_count": 5,
   "metadata": {
    "colab": {},
    "colab_type": "code",
    "id": "8sFv5Vc0lurg",
    "outputId": "c1f60016-812a-47ca-f84f-337e07930ac0"
   },
   "outputs": [
    {
     "data": {
      "text/plain": [
       "['Xander_English_2.mp3', 'Rose_Portuguese_3.m4a', 0]"
      ]
     },
     "execution_count": 5,
     "metadata": {},
     "output_type": "execute_result"
    }
   ],
   "source": [
    "test_pairs = []\n",
    "for a, b in itertools.combinations(test_filenames, 2):\n",
    "    test_pairs.append([a, b, int(a[0:a.find('_')] == b[0:b.find('_')])])\n",
    "test_pairs[0]"
   ]
  },
  {
   "cell_type": "code",
   "execution_count": 13,
   "metadata": {
    "colab": {},
    "colab_type": "code",
    "id": "p5mmU1Bgluri"
   },
   "outputs": [],
   "source": [
    "def get_test_dataset():\n",
    "    left = []\n",
    "    right = []\n",
    "    labels = [] \n",
    "\n",
    "    test_clips = {}\n",
    "    for r in os.listdir(TEST_CLIPS):  \n",
    "        test_path = TEST_CLIPS + r\n",
    "        test_clips.update({r: get_clip(test_path)})\n",
    "\n",
    "   \n",
    "    for pair in test_pairs:       \n",
    "        left.append([test_clips.get(pair[0])]) \n",
    "        right.append([test_clips.get(pair[1])])\n",
    "        labels.append(np.float32(pair[2]))        \n",
    "    \n",
    "    left = np.array(left, dtype=np.float32)\n",
    "    right = np.array(right, dtype=np.float32)\n",
    "    labels = np.array(labels, dtype=np.float32)\n",
    "\n",
    "    left = np.rollaxis(np.rollaxis(left, 3, 1), 3, 1)\n",
    "    right = np.rollaxis(np.rollaxis(right, 3, 1), 3, 1)\n",
    "\n",
    "    return left, right, labels"
   ]
  },
  {
   "cell_type": "code",
   "execution_count": 14,
   "metadata": {
    "colab": {},
    "colab_type": "code",
    "id": "rD7PTPFBlurl",
    "outputId": "a1d5e406-58dc-466a-b567-b591e6dc25c1"
   },
   "outputs": [
    {
     "data": {
      "text/plain": [
       "((231, 20, 400, 1), (231, 20, 400, 1), (231,))"
      ]
     },
     "execution_count": 14,
     "metadata": {},
     "output_type": "execute_result"
    }
   ],
   "source": [
    "test_left, test_right, labels_test = get_test_dataset()\n",
    "test_left.shape, test_right.shape, labels_test.shape"
   ]
  },
  {
   "cell_type": "code",
   "execution_count": 18,
   "metadata": {
    "colab": {},
    "colab_type": "code",
    "id": "AAK2mnCzluro"
   },
   "outputs": [],
   "source": [
    "predicted_test = model.predict([test_left, test_right]).ravel()"
   ]
  },
  {
   "cell_type": "code",
   "execution_count": 33,
   "metadata": {
    "colab": {},
    "colab_type": "code",
    "id": "HI1ZoWEflurq",
    "outputId": "1c566d98-f0b1-4371-c9f5-df8bdeb82154"
   },
   "outputs": [
    {
     "name": "stdout",
     "output_type": "stream",
     "text": [
      "accuracy: 90.48\n"
     ]
    }
   ],
   "source": [
    "print('accuracy:', get_accuracy(labels_test, predicted_test))"
   ]
  },
  {
   "cell_type": "code",
   "execution_count": 24,
   "metadata": {
    "colab": {},
    "colab_type": "code",
    "id": "zgw_ps28lurr",
    "outputId": "fceedd05-c584-49eb-f1a5-def474aff621"
   },
   "outputs": [
    {
     "data": {
      "image/png": "[encoded data removed]",
      "text/plain": [
       "<Figure size 432x288 with 1 Axes>"
      ]
     },
     "metadata": {
      "needs_background": "light"
     },
     "output_type": "display_data"
    }
   ],
   "source": [
    "plot_roc_auc(labels_test, predicted_test)"
   ]
  },
  {
   "cell_type": "code",
   "execution_count": 25,
   "metadata": {
    "colab": {},
    "colab_type": "code",
    "id": "Sdcei79mlurs",
    "outputId": "b6d7ea58-3ac4-4ff3-e548-a06cc935e697"
   },
   "outputs": [
    {
     "data": {
      "image/png": "[encoded data removed]",
      "text/plain": [
       "<Figure size 432x288 with 1 Axes>"
      ]
     },
     "metadata": {
      "needs_background": "light"
     },
     "output_type": "display_data"
    }
   ],
   "source": [
    "plot_precision_recall(labels_test, predicted_test)"
   ]
  },
  {
   "cell_type": "code",
   "execution_count": 29,
   "metadata": {
    "colab": {},
    "colab_type": "code",
    "id": "49wQxPi0lurw",
    "outputId": "792a20b4-61e8-401b-f4d1-7f96ecef5237"
   },
   "outputs": [],
   "source": [
    "test_df = pd.DataFrame(test_pairs, columns=['voice_a', 'voice_b', 'label'])\n",
    "test_df['scores'] = predicted_test"
   ]
  },
  {
   "cell_type": "code",
   "execution_count": 65,
   "metadata": {
    "colab": {},
    "colab_type": "code",
    "id": "h51knnb4lury",
    "outputId": "04080d16-a797-46f2-9ef3-679014a9a194"
   },
   "outputs": [
    {
     "data": {
      "text/html": [
       "<div>\n",
       "<style scoped>\n",
       "    .dataframe tbody tr th:only-of-type {\n",
       "        vertical-align: middle;\n",
       "    }\n",
       "\n",
       "    .dataframe tbody tr th {\n",
       "        vertical-align: top;\n",
       "    }\n",
       "\n",
       "    .dataframe thead th {\n",
       "        text-align: right;\n",
       "    }\n",
       "</style>\n",
       "<table border=\"1\" class=\"dataframe\">\n",
       "  <thead>\n",
       "    <tr style=\"text-align: right;\">\n",
       "      <th></th>\n",
       "      <th>voice_a</th>\n",
       "      <th>voice_b</th>\n",
       "      <th>label</th>\n",
       "      <th>scores</th>\n",
       "    </tr>\n",
       "  </thead>\n",
       "  <tbody>\n",
       "    <tr>\n",
       "      <th>53</th>\n",
       "      <td>Other_Spanish_4.mp3</td>\n",
       "      <td>Rose_Portuguese_4.m4a</td>\n",
       "      <td>0</td>\n",
       "      <td>0.778900</td>\n",
       "    </tr>\n",
       "    <tr>\n",
       "      <th>59</th>\n",
       "      <td>Other_Spanish_4.mp3</td>\n",
       "      <td>Rose_Portuguese_5.m4a</td>\n",
       "      <td>0</td>\n",
       "      <td>0.846316</td>\n",
       "    </tr>\n",
       "    <tr>\n",
       "      <th>111</th>\n",
       "      <td>Xander_English_4.mp3</td>\n",
       "      <td>Carlos_English_1.m4a</td>\n",
       "      <td>0</td>\n",
       "      <td>0.515904</td>\n",
       "    </tr>\n",
       "    <tr>\n",
       "      <th>169</th>\n",
       "      <td>Carlos_English_2.m4a</td>\n",
       "      <td>Rose_Portuguese_4.m4a</td>\n",
       "      <td>0</td>\n",
       "      <td>0.896482</td>\n",
       "    </tr>\n",
       "    <tr>\n",
       "      <th>175</th>\n",
       "      <td>Carlos_English_2.m4a</td>\n",
       "      <td>Rose_Portuguese_5.m4a</td>\n",
       "      <td>0</td>\n",
       "      <td>0.939520</td>\n",
       "    </tr>\n",
       "  </tbody>\n",
       "</table>\n",
       "</div>"
      ],
      "text/plain": [
       "                  voice_a                voice_b  label    scores\n",
       "53    Other_Spanish_4.mp3  Rose_Portuguese_4.m4a      0  0.778900\n",
       "59    Other_Spanish_4.mp3  Rose_Portuguese_5.m4a      0  0.846316\n",
       "111  Xander_English_4.mp3   Carlos_English_1.m4a      0  0.515904\n",
       "169  Carlos_English_2.m4a  Rose_Portuguese_4.m4a      0  0.896482\n",
       "175  Carlos_English_2.m4a  Rose_Portuguese_5.m4a      0  0.939520"
      ]
     },
     "execution_count": 65,
     "metadata": {},
     "output_type": "execute_result"
    }
   ],
   "source": [
    "false_positives = (test_df['scores'] > 0.5) & (test_df['label'] == 0)\n",
    "test_df[false_positives]"
   ]
  },
  {
   "cell_type": "code",
   "execution_count": 66,
   "metadata": {
    "colab": {},
    "colab_type": "code",
    "id": "8AJsvqbjlurz",
    "outputId": "8a0fb27c-9679-4756-e5b9-69be63a1418c"
   },
   "outputs": [
    {
     "data": {
      "text/html": [
       "<div>\n",
       "<style scoped>\n",
       "    .dataframe tbody tr th:only-of-type {\n",
       "        vertical-align: middle;\n",
       "    }\n",
       "\n",
       "    .dataframe tbody tr th {\n",
       "        vertical-align: top;\n",
       "    }\n",
       "\n",
       "    .dataframe thead th {\n",
       "        text-align: right;\n",
       "    }\n",
       "</style>\n",
       "<table border=\"1\" class=\"dataframe\">\n",
       "  <thead>\n",
       "    <tr style=\"text-align: right;\">\n",
       "      <th></th>\n",
       "      <th>voice_a</th>\n",
       "      <th>voice_b</th>\n",
       "      <th>label</th>\n",
       "      <th>scores</th>\n",
       "    </tr>\n",
       "  </thead>\n",
       "  <tbody>\n",
       "    <tr>\n",
       "      <th>3</th>\n",
       "      <td>Xander_English_2.mp3</td>\n",
       "      <td>Xander_English_3.mp3</td>\n",
       "      <td>1</td>\n",
       "      <td>1.185193e-01</td>\n",
       "    </tr>\n",
       "    <tr>\n",
       "      <th>5</th>\n",
       "      <td>Xander_English_2.mp3</td>\n",
       "      <td>Xander_English_4.mp3</td>\n",
       "      <td>1</td>\n",
       "      <td>3.469643e-01</td>\n",
       "    </tr>\n",
       "    <tr>\n",
       "      <th>57</th>\n",
       "      <td>Other_Spanish_4.mp3</td>\n",
       "      <td>Other_Spanish_1.mp3</td>\n",
       "      <td>1</td>\n",
       "      <td>3.249869e-01</td>\n",
       "    </tr>\n",
       "    <tr>\n",
       "      <th>60</th>\n",
       "      <td>Xander_English_5.m4a</td>\n",
       "      <td>Xander_English_3.mp3</td>\n",
       "      <td>1</td>\n",
       "      <td>4.013649e-02</td>\n",
       "    </tr>\n",
       "    <tr>\n",
       "      <th>79</th>\n",
       "      <td>Xander_English_3.mp3</td>\n",
       "      <td>Xander_English_4.mp3</td>\n",
       "      <td>1</td>\n",
       "      <td>4.506980e-01</td>\n",
       "    </tr>\n",
       "    <tr>\n",
       "      <th>84</th>\n",
       "      <td>Xander_English_3.mp3</td>\n",
       "      <td>Xander_English_1.mp3</td>\n",
       "      <td>1</td>\n",
       "      <td>4.832545e-02</td>\n",
       "    </tr>\n",
       "    <tr>\n",
       "      <th>91</th>\n",
       "      <td>Xander_English_3.mp3</td>\n",
       "      <td>Xander_English_6.m4a</td>\n",
       "      <td>1</td>\n",
       "      <td>1.592522e-01</td>\n",
       "    </tr>\n",
       "    <tr>\n",
       "      <th>122</th>\n",
       "      <td>Xander_English_4.mp3</td>\n",
       "      <td>Xander_English_6.m4a</td>\n",
       "      <td>1</td>\n",
       "      <td>4.836867e-01</td>\n",
       "    </tr>\n",
       "    <tr>\n",
       "      <th>131</th>\n",
       "      <td>Carlos_English_1.m4a</td>\n",
       "      <td>Carlos_Portuguese_2.m4a</td>\n",
       "      <td>1</td>\n",
       "      <td>3.684495e-01</td>\n",
       "    </tr>\n",
       "    <tr>\n",
       "      <th>134</th>\n",
       "      <td>Carlos_English_1.m4a</td>\n",
       "      <td>Carlos_Portuguese_1.m4a</td>\n",
       "      <td>1</td>\n",
       "      <td>1.722574e-05</td>\n",
       "    </tr>\n",
       "    <tr>\n",
       "      <th>138</th>\n",
       "      <td>Carlos_English_1.m4a</td>\n",
       "      <td>Carlos_English_3.m4a</td>\n",
       "      <td>1</td>\n",
       "      <td>3.191233e-04</td>\n",
       "    </tr>\n",
       "    <tr>\n",
       "      <th>145</th>\n",
       "      <td>Rose_Portuguese_1.m4a</td>\n",
       "      <td>Rose_Portuguese_2.m4a</td>\n",
       "      <td>1</td>\n",
       "      <td>2.951324e-04</td>\n",
       "    </tr>\n",
       "    <tr>\n",
       "      <th>170</th>\n",
       "      <td>Carlos_English_2.m4a</td>\n",
       "      <td>Carlos_Portuguese_1.m4a</td>\n",
       "      <td>1</td>\n",
       "      <td>2.438581e-02</td>\n",
       "    </tr>\n",
       "    <tr>\n",
       "      <th>174</th>\n",
       "      <td>Carlos_English_2.m4a</td>\n",
       "      <td>Carlos_English_3.m4a</td>\n",
       "      <td>1</td>\n",
       "      <td>1.387423e-02</td>\n",
       "    </tr>\n",
       "    <tr>\n",
       "      <th>198</th>\n",
       "      <td>Carlos_Portuguese_2.m4a</td>\n",
       "      <td>Carlos_Portuguese_3.m4a</td>\n",
       "      <td>1</td>\n",
       "      <td>7.748604e-07</td>\n",
       "    </tr>\n",
       "    <tr>\n",
       "      <th>216</th>\n",
       "      <td>Carlos_Portuguese_1.m4a</td>\n",
       "      <td>Carlos_Portuguese_3.m4a</td>\n",
       "      <td>1</td>\n",
       "      <td>9.030104e-06</td>\n",
       "    </tr>\n",
       "    <tr>\n",
       "      <th>223</th>\n",
       "      <td>Carlos_Portuguese_3.m4a</td>\n",
       "      <td>Carlos_English_3.m4a</td>\n",
       "      <td>1</td>\n",
       "      <td>4.768372e-07</td>\n",
       "    </tr>\n",
       "  </tbody>\n",
       "</table>\n",
       "</div>"
      ],
      "text/plain": [
       "                     voice_a                  voice_b  label        scores\n",
       "3       Xander_English_2.mp3     Xander_English_3.mp3      1  1.185193e-01\n",
       "5       Xander_English_2.mp3     Xander_English_4.mp3      1  3.469643e-01\n",
       "57       Other_Spanish_4.mp3      Other_Spanish_1.mp3      1  3.249869e-01\n",
       "60      Xander_English_5.m4a     Xander_English_3.mp3      1  4.013649e-02\n",
       "79      Xander_English_3.mp3     Xander_English_4.mp3      1  4.506980e-01\n",
       "84      Xander_English_3.mp3     Xander_English_1.mp3      1  4.832545e-02\n",
       "91      Xander_English_3.mp3     Xander_English_6.m4a      1  1.592522e-01\n",
       "122     Xander_English_4.mp3     Xander_English_6.m4a      1  4.836867e-01\n",
       "131     Carlos_English_1.m4a  Carlos_Portuguese_2.m4a      1  3.684495e-01\n",
       "134     Carlos_English_1.m4a  Carlos_Portuguese_1.m4a      1  1.722574e-05\n",
       "138     Carlos_English_1.m4a     Carlos_English_3.m4a      1  3.191233e-04\n",
       "145    Rose_Portuguese_1.m4a    Rose_Portuguese_2.m4a      1  2.951324e-04\n",
       "170     Carlos_English_2.m4a  Carlos_Portuguese_1.m4a      1  2.438581e-02\n",
       "174     Carlos_English_2.m4a     Carlos_English_3.m4a      1  1.387423e-02\n",
       "198  Carlos_Portuguese_2.m4a  Carlos_Portuguese_3.m4a      1  7.748604e-07\n",
       "216  Carlos_Portuguese_1.m4a  Carlos_Portuguese_3.m4a      1  9.030104e-06\n",
       "223  Carlos_Portuguese_3.m4a     Carlos_English_3.m4a      1  4.768372e-07"
      ]
     },
     "execution_count": 66,
     "metadata": {},
     "output_type": "execute_result"
    }
   ],
   "source": [
    "false_negatives = (test_df['scores'] < 0.5) & (test_df['label'] == 1)\n",
    "test_df[false_negatives]"
   ]
  }
 ],
 "metadata": {
  "accelerator": "GPU",
  "colab": {
   "name": "OneShot_Speech_Carlos_EN.ipynb",
   "provenance": []
  },
  "kernelspec": {
   "display_name": "Python 3",
   "language": "python",
   "name": "python3"
  },
  "language_info": {
   "codemirror_mode": {
    "name": "ipython",
    "version": 3
   },
   "file_extension": ".py",
   "mimetype": "text/x-python",
   "name": "python",
   "nbconvert_exporter": "python",
   "pygments_lexer": "ipython3",
   "version": "3.5.3"
  }
 },
 "nbformat": 4,
 "nbformat_minor": 1
}
