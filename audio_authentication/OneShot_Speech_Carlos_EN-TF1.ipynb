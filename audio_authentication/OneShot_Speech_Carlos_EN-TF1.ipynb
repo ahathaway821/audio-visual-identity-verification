{
 "cells": [
  {
   "cell_type": "markdown",
   "metadata": {
    "colab_type": "text",
    "id": "SebxTmpBlunC"
   },
   "source": [
    "### Housekeeping"
   ]
  },
  {
   "cell_type": "code",
   "execution_count": 1,
   "metadata": {
    "colab": {
     "base_uri": "https://localhost:8080/",
     "height": 101
    },
    "colab_type": "code",
    "id": "osx9AxwglunD",
    "outputId": "60f02d14-0a3e-4765-c2ef-d55385f96d36"
   },
   "outputs": [
    {
     "name": "stdout",
     "output_type": "stream",
     "text": [
      "Python version\n",
      "3.5.3 (default, Sep 27 2018, 17:25:39) \n",
      "[GCC 6.3.0 20170516]\n",
      "Version info.\n",
      "sys.version_info(major=3, minor=5, micro=3, releaselevel='final', serial=0)\n"
     ]
    }
   ],
   "source": [
    "import sys\n",
    "print(\"Python version\")\n",
    "print (sys.version)\n",
    "print(\"Version info.\")\n",
    "print (sys.version_info)"
   ]
  },
  {
   "cell_type": "code",
   "execution_count": 2,
   "metadata": {
    "colab": {
     "base_uri": "https://localhost:8080/",
     "height": 50
    },
    "colab_type": "code",
    "id": "3zEjn_SxlunH",
    "outputId": "a77b9422-af1d-4f40-ef7a-ac70f425cb49"
   },
   "outputs": [
    {
     "name": "stdout",
     "output_type": "stream",
     "text": [
      "1.15.2\n"
     ]
    },
    {
     "name": "stderr",
     "output_type": "stream",
     "text": [
      "Using TensorFlow backend.\n"
     ]
    }
   ],
   "source": [
    "import os\n",
    "import pandas as pd\n",
    "import random\n",
    "import numpy as np\n",
    "import librosa\n",
    "import glob\n",
    "from tqdm.notebook import tqdm\n",
    "import matplotlib.pyplot as plt\n",
    "import pickle\n",
    "import datetime as datetime\n",
    "import itertools\n",
    "from collections import defaultdict\n",
    "import random\n",
    "from sklearn.metrics import accuracy_score, roc_curve, auc, precision_recall_curve, precision_score, average_precision_score\n",
    "\n",
    "import ibm_boto3\n",
    "from ibm_botocore.client import Config, ClientError\n",
    "\n",
    "import tensorflow as tf\n",
    "import keras\n",
    "from keras import layers, models, Input, optimizers, metrics, regularizers\n",
    "from keras import backend as K\n",
    "\n",
    "SEED = 101\n",
    "random.seed(SEED)\n",
    "\n",
    "print(tf.__version__)"
   ]
  },
  {
   "cell_type": "markdown",
   "metadata": {
    "colab_type": "text",
    "id": "-uYe847ulunK"
   },
   "source": [
    "### Loading files from bucket"
   ]
  },
  {
   "cell_type": "code",
   "execution_count": 3,
   "metadata": {
    "colab": {},
    "colab_type": "code",
    "id": "hPf66yBilunK"
   },
   "outputs": [],
   "source": [
    "DATA_PATH = '/home/csanc/'\n",
    "BUCKET_NAME = 'cv-audio'\n",
    "DEV_FILE = 'dev.tsv'\n",
    "AUDIO_FILE = 'dev-clips.tgz'\n",
    "MFCC_PICKLE = 'mfcc.bin'\n",
    "CLIPS_PATH = DATA_PATH + 'dev-clips/'\n",
    "TEST_CLIPS = DATA_PATH + 'test-clips/'\n",
    "BEST_MODEL_FILE = 'EN-TF1-20200405-024254.tgz'\n",
    "TEST_RECORDINGS = 'test-clips.tgz'"
   ]
  },
  {
   "cell_type": "code",
   "execution_count": 4,
   "metadata": {
    "colab": {
     "base_uri": "https://localhost:8080/",
     "height": 101
    },
    "colab_type": "code",
    "id": "jSA-fRLBmrJs",
    "outputId": "3748c0a8-1286-491c-8ccf-36d9b4dcccf0"
   },
   "outputs": [
    {
     "data": {
      "text/plain": [
       "['.cache',\n",
       " 'mfcc.bin',\n",
       " 'test-clips',\n",
       " '.bashrc',\n",
       " 'nohup.out',\n",
       " 'OneShot_Speech_Carlos_EN-TF1.ipynb',\n",
       " 'logs',\n",
       " '.jupyter',\n",
       " '.bash_logout',\n",
       " '.ipython',\n",
       " 'checkpoints',\n",
       " '.ssh',\n",
       " '.bash_history',\n",
       " '.local',\n",
       " '.profile',\n",
       " '.nv',\n",
       " '.config',\n",
       " '.docker',\n",
       " 'test-clips.tgz',\n",
       " '.bluemix',\n",
       " '.ipynb_checkpoints',\n",
       " '.keras']"
      ]
     },
     "execution_count": 4,
     "metadata": {},
     "output_type": "execute_result"
    }
   ],
   "source": [
    "os.listdir(DATA_PATH)"
   ]
  },
  {
   "cell_type": "code",
   "execution_count": 50,
   "metadata": {
    "colab": {},
    "colab_type": "code",
    "id": "C2w5GwCalunN"
   },
   "outputs": [],
   "source": [
    "# Constants for IBM S3 values\n",
    "COS_ENDPOINT = ''\n",
    "COS_API_KEY_ID = ''\n",
    "COS_AUTH_ENDPOINT = ''\n",
    "COS_RESOURCE_CRN = ''\n",
    "\n",
    "# Create resource\n",
    "cos = ibm_boto3.resource(\"s3\",\n",
    "    ibm_api_key_id=COS_API_KEY_ID,\n",
    "    ibm_service_instance_id=COS_RESOURCE_CRN,\n",
    "    ibm_auth_endpoint=COS_AUTH_ENDPOINT,\n",
    "    config=Config(signature_version=\"oauth\"),\n",
    "    endpoint_url=COS_ENDPOINT\n",
    ")"
   ]
  },
  {
   "cell_type": "code",
   "execution_count": null,
   "metadata": {
    "colab": {},
    "colab_type": "code",
    "id": "j3EtxmDzlunR"
   },
   "outputs": [],
   "source": [
    "bucket = cos.Bucket(BUCKET_NAME)\n",
    "obj = bucket.Object(DEV_FILE)\n",
    "\n",
    "with open(DATA_PATH + DEV_FILE, 'wb') as data:\n",
    "    obj.download_fileobj(data)"
   ]
  },
  {
   "cell_type": "code",
   "execution_count": 51,
   "metadata": {
    "colab": {},
    "colab_type": "code",
    "id": "gq13VnCqlunT"
   },
   "outputs": [],
   "source": [
    "bucket = cos.Bucket(BUCKET_NAME)\n",
    "obj = bucket.Object(TEST_RECORDINGS)\n",
    "\n",
    "with open(DATA_PATH + TEST_RECORDINGS, 'wb') as data:\n",
    "    obj.download_fileobj(data)"
   ]
  },
  {
   "cell_type": "code",
   "execution_count": null,
   "metadata": {},
   "outputs": [],
   "source": [
    "bucket = cos.Bucket(BUCKET_NAME)\n",
    "obj = bucket.Object(AUDIO_FILE)\n",
    "\n",
    "with open(DATA_PATH + AUDIO_FILE, 'wb') as data:\n",
    "    obj.download_fileobj(data)"
   ]
  },
  {
   "cell_type": "markdown",
   "metadata": {
    "colab_type": "text",
    "id": "j0_nBVWKlunV"
   },
   "source": [
    "### Save files to the bucket"
   ]
  },
  {
   "cell_type": "code",
   "execution_count": 42,
   "metadata": {
    "colab": {},
    "colab_type": "code",
    "id": "iyziWqUolunW"
   },
   "outputs": [],
   "source": [
    "# Create resource\n",
    "cos = ibm_boto3.client(\n",
    "    service_name=\"s3\",\n",
    "    ibm_api_key_id=COS_API_KEY_ID,\n",
    "    ibm_service_instance_id=COS_RESOURCE_CRN,\n",
    "    ibm_auth_endpoint=COS_AUTH_ENDPOINT,\n",
    "    config=Config(signature_version=\"oauth\"),\n",
    "    endpoint_url=COS_ENDPOINT\n",
    ")"
   ]
  },
  {
   "cell_type": "code",
   "execution_count": null,
   "metadata": {},
   "outputs": [],
   "source": [
    "with open(DATA_PATH + TEST_RECORDINGS, 'rb') as data:\n",
    "    cos.upload_fileobj(data, BUCKET_NAME, TEST_RECORDINGS)"
   ]
  },
  {
   "cell_type": "code",
   "execution_count": 48,
   "metadata": {},
   "outputs": [],
   "source": [
    "with open(DATA_PATH + 'checkpoints/'  + BEST_MODEL_FILE, 'rb') as data:\n",
    "    cos.upload_fileobj(data, BUCKET_NAME, BEST_MODEL_FILE)"
   ]
  },
  {
   "cell_type": "code",
   "execution_count": 45,
   "metadata": {},
   "outputs": [
    {
     "data": {
      "text/plain": [
       "'/home/csanc/checkpoints/model-EN-20200329-133052.tgz'"
      ]
     },
     "execution_count": 45,
     "metadata": {},
     "output_type": "execute_result"
    }
   ],
   "source": [
    "DATA_PATH + 'checkpoints/'  + BEST_MODEL_FILE"
   ]
  },
  {
   "cell_type": "code",
   "execution_count": null,
   "metadata": {},
   "outputs": [],
   "source": [
    "DATA_PATH + BEST_MODEL_FILE\n",
    "with open(DATA_PATH+ MFCC_PICKLE, 'rb') as data:\n",
    "    cos.upload_fileobj(data, BUCKET_NAME, MFCC_PICKLE)"
   ]
  },
  {
   "cell_type": "code",
   "execution_count": 49,
   "metadata": {
    "colab": {},
    "colab_type": "code",
    "id": "Vf-z0VkllunZ",
    "outputId": "934740f4-a952-4234-ab7c-b287eef9547a"
   },
   "outputs": [
    {
     "name": "stdout",
     "output_type": "stream",
     "text": [
      "Item: EN-TF1-20200405-024254.tgz (50895219 bytes).\n",
      "Item: dev-clips-wav.tgz (372144992 bytes).\n",
      "Item: dev-clips.tgz (729032372 bytes).\n",
      "Item: dev.tsv (3555470 bytes).\n",
      "Item: en-clips.tgz (41357019402 bytes).\n",
      "Item: mfcc.bin (499906808 bytes).\n",
      "Item: model-EN-20200329-133052.tgz (152577527 bytes).\n",
      "Item: test-clips.tgz (992056 bytes).\n",
      "Item: test.tsv (3401154 bytes).\n",
      "Item: test.txt (4 bytes).\n",
      "Item: train.tsv (55941783 bytes).\n"
     ]
    }
   ],
   "source": [
    "cos = ibm_boto3.resource(\"s3\",\n",
    "    ibm_api_key_id=COS_API_KEY_ID,\n",
    "    ibm_service_instance_id=COS_RESOURCE_CRN,\n",
    "    ibm_auth_endpoint=COS_AUTH_ENDPOINT,\n",
    "    config=Config(signature_version=\"oauth\"),\n",
    "    endpoint_url=COS_ENDPOINT\n",
    ")\n",
    "\n",
    "for file in cos.Bucket(BUCKET_NAME).objects.all():\n",
    "    print(\"Item: {0} ({1} bytes).\".format(file.key, file.size))"
   ]
  },
  {
   "cell_type": "markdown",
   "metadata": {
    "colab_type": "text",
    "id": "JHTskF6mlunc"
   },
   "source": [
    "### EDA"
   ]
  },
  {
   "cell_type": "code",
   "execution_count": null,
   "metadata": {
    "colab": {},
    "colab_type": "code",
    "id": "_p8PypMzlund"
   },
   "outputs": [],
   "source": [
    "df = pd.read_csv(DATA_PATH + DEV_FILE, sep='\\t')"
   ]
  },
  {
   "cell_type": "code",
   "execution_count": null,
   "metadata": {
    "colab": {},
    "colab_type": "code",
    "id": "jj1UUwvUlunf"
   },
   "outputs": [],
   "source": [
    "df.head()"
   ]
  },
  {
   "cell_type": "code",
   "execution_count": null,
   "metadata": {
    "colab": {},
    "colab_type": "code",
    "id": "iuCIeADklunh"
   },
   "outputs": [],
   "source": [
    "len(df)"
   ]
  },
  {
   "cell_type": "code",
   "execution_count": null,
   "metadata": {
    "colab": {},
    "colab_type": "code",
    "id": "Vs24Tgwflunl"
   },
   "outputs": [],
   "source": [
    "# check for unique voices \n",
    "df.nunique()"
   ]
  },
  {
   "cell_type": "code",
   "execution_count": null,
   "metadata": {
    "colab": {},
    "colab_type": "code",
    "id": "wqSNplELluno"
   },
   "outputs": [],
   "source": [
    "# check for voices up_votes only\n",
    "len(df[df.down_votes == 0]) / len(df)"
   ]
  },
  {
   "cell_type": "code",
   "execution_count": null,
   "metadata": {
    "colab": {},
    "colab_type": "code",
    "id": "s59NDWYVlunq"
   },
   "outputs": [],
   "source": [
    "df[df.down_votes == 0].nunique()"
   ]
  },
  {
   "cell_type": "code",
   "execution_count": null,
   "metadata": {
    "colab": {},
    "colab_type": "code",
    "id": "7cVHm5SUlunu"
   },
   "outputs": [],
   "source": [
    "df.up_votes.unique().tolist()"
   ]
  },
  {
   "cell_type": "code",
   "execution_count": null,
   "metadata": {
    "colab": {},
    "colab_type": "code",
    "id": "quNDKlCPlunw"
   },
   "outputs": [],
   "source": [
    "df.down_votes.unique().tolist()"
   ]
  },
  {
   "cell_type": "code",
   "execution_count": null,
   "metadata": {
    "colab": {},
    "colab_type": "code",
    "id": "tVUp0s3-lunz"
   },
   "outputs": [],
   "source": [
    "(df.up_votes < df.down_votes).sum()"
   ]
  },
  {
   "cell_type": "code",
   "execution_count": null,
   "metadata": {
    "colab": {},
    "colab_type": "code",
    "id": "oden5Noelun5"
   },
   "outputs": [],
   "source": [
    "df.gender.value_counts()"
   ]
  },
  {
   "cell_type": "code",
   "execution_count": null,
   "metadata": {
    "colab": {},
    "colab_type": "code",
    "id": "ta3wPkXclun9"
   },
   "outputs": [],
   "source": [
    "df.accent.value_counts()"
   ]
  },
  {
   "cell_type": "markdown",
   "metadata": {
    "colab_type": "text",
    "id": "8Vc76kQ4luoC"
   },
   "source": [
    "### Pairing Data"
   ]
  },
  {
   "cell_type": "code",
   "execution_count": null,
   "metadata": {
    "colab": {},
    "colab_type": "code",
    "id": "WwC1fN6mluoC"
   },
   "outputs": [],
   "source": [
    "voices_by_path = {}\n",
    "voices_by_id = defaultdict(lambda: list())\n",
    "for x in df[['client_id', 'path']].values.tolist():\n",
    "    voices_by_path.update({x[1]: x[0]})\n",
    "    voices_by_id[x[0]].append(x[1])"
   ]
  },
  {
   "cell_type": "code",
   "execution_count": null,
   "metadata": {
    "colab": {},
    "colab_type": "code",
    "id": "BLfwwSCvluoE"
   },
   "outputs": [],
   "source": [
    "next(iter(voices_by_path.items()))"
   ]
  },
  {
   "cell_type": "code",
   "execution_count": null,
   "metadata": {
    "colab": {},
    "colab_type": "code",
    "id": "-qf261VCluoG"
   },
   "outputs": [],
   "source": [
    "next(iter(voices_by_id.items()))"
   ]
  },
  {
   "cell_type": "code",
   "execution_count": null,
   "metadata": {
    "colab": {},
    "colab_type": "code",
    "id": "fWEUukBCluoL"
   },
   "outputs": [],
   "source": [
    "positive_pairs = []\n",
    "sample_voices = []\n",
    "for voices in voices_by_id.values():\n",
    "    \n",
    "    # saves one recording of each person to create negative pairs later\n",
    "    sample_voices.append(voices[0])\n",
    "    \n",
    "    if(len(voices) < 2): continue\n",
    "    # create all combinations of voices of the same person\n",
    "    for left, right in itertools.combinations(voices, 2):\n",
    "        positive_pairs.append([left, right, 1])    "
   ]
  },
  {
   "cell_type": "code",
   "execution_count": null,
   "metadata": {
    "colab": {},
    "colab_type": "code",
    "id": "dItr5H6aluoQ"
   },
   "outputs": [],
   "source": [
    "len(positive_pairs), len(sample_voices)"
   ]
  },
  {
   "cell_type": "code",
   "execution_count": null,
   "metadata": {
    "colab": {},
    "colab_type": "code",
    "id": "KRPXitrVluoV"
   },
   "outputs": [],
   "source": [
    "positive_pairs[0:2]"
   ]
  },
  {
   "cell_type": "code",
   "execution_count": null,
   "metadata": {
    "colab": {},
    "colab_type": "code",
    "id": "ggGYlRoPluoX"
   },
   "outputs": [],
   "source": [
    "voices_by_id[voices_by_path['common_voice_en_20002398.mp3']]"
   ]
  },
  {
   "cell_type": "code",
   "execution_count": null,
   "metadata": {
    "colab": {},
    "colab_type": "code",
    "id": "zwlOWNAyluob"
   },
   "outputs": [],
   "source": [
    "negative_pairs = []\n",
    "for left, right in itertools.combinations(sample_voices, 2):\n",
    "    negative_pairs.append([left, right, 0])"
   ]
  },
  {
   "cell_type": "code",
   "execution_count": null,
   "metadata": {
    "colab": {},
    "colab_type": "code",
    "id": "Jl2wafGPluof"
   },
   "outputs": [],
   "source": [
    "len(negative_pairs)"
   ]
  },
  {
   "cell_type": "code",
   "execution_count": null,
   "metadata": {
    "colab": {},
    "colab_type": "code",
    "id": "i5QnnOR5luok"
   },
   "outputs": [],
   "source": [
    "# sample a few negative pairs as there too many of them\n",
    "negative_pairs = random.sample(negative_pairs, len(positive_pairs)*2)"
   ]
  },
  {
   "cell_type": "code",
   "execution_count": null,
   "metadata": {
    "colab": {},
    "colab_type": "code",
    "id": "0bbY9I4pluop"
   },
   "outputs": [],
   "source": [
    "len(negative_pairs)"
   ]
  },
  {
   "cell_type": "code",
   "execution_count": null,
   "metadata": {
    "colab": {},
    "colab_type": "code",
    "id": "UMDQP5Omluor"
   },
   "outputs": [],
   "source": [
    "all_pairs = positive_pairs + negative_pairs\n",
    "random.shuffle(all_pairs)\n",
    "all_pairs[0:10]"
   ]
  },
  {
   "cell_type": "markdown",
   "metadata": {
    "colab_type": "text",
    "id": "Jdve9OB8luov"
   },
   "source": [
    "### Loading MP3 files"
   ]
  },
  {
   "cell_type": "code",
   "execution_count": 5,
   "metadata": {
    "colab": {},
    "colab_type": "code",
    "id": "BgNOq37Pluow"
   },
   "outputs": [],
   "source": [
    "def get_clip(file_name, max_pad_len=400):\n",
    "    wave, sr = librosa.load(file_name, mono=True)\n",
    "    wave = wave[::3]\n",
    "    mfcc = librosa.feature.mfcc(wave, sr=sr) \n",
    "\n",
    "    pad_width = max_pad_len - mfcc.shape[1]\n",
    "    \n",
    "    if (pad_width < 0): \n",
    "        pad_width = 0\n",
    "        mfcc = mfcc[:, 0:max_pad_len]\n",
    "    \n",
    "    mfcc = np.pad(mfcc, pad_width=((0, 0), (0, pad_width)), mode='constant')\n",
    "    return mfcc.astype(np.float32)"
   ]
  },
  {
   "cell_type": "code",
   "execution_count": null,
   "metadata": {
    "colab": {},
    "colab_type": "code",
    "id": "8USwuCfzluoz"
   },
   "outputs": [],
   "source": [
    "all_filenames = df['path'].values.tolist()"
   ]
  },
  {
   "cell_type": "code",
   "execution_count": null,
   "metadata": {
    "colab": {},
    "colab_type": "code",
    "id": "oNupibGGluo2"
   },
   "outputs": [],
   "source": [
    "len(all_filenames)"
   ]
  },
  {
   "cell_type": "code",
   "execution_count": null,
   "metadata": {
    "colab": {},
    "colab_type": "code",
    "id": "_ytcylVZluo7"
   },
   "outputs": [],
   "source": [
    "clips = {}\n",
    "for i in tqdm(range(len(all_filenames))):  \n",
    "    path = CLIPS_PATH + all_filenames[i]\n",
    "    clips.update({all_filenames[i]: get_clip(path)})"
   ]
  },
  {
   "cell_type": "code",
   "execution_count": null,
   "metadata": {
    "colab": {},
    "colab_type": "code",
    "id": "U3frkL1elupD"
   },
   "outputs": [],
   "source": [
    "with open(DATA_PATH + MFCC_PICKLE, 'wb') as f:\n",
    "    pickle.dump((clips, all_pairs) , f)"
   ]
  },
  {
   "cell_type": "code",
   "execution_count": null,
   "metadata": {
    "colab": {},
    "colab_type": "code",
    "id": "YuAjEIoRlupe"
   },
   "outputs": [],
   "source": [
    "for i in clips.items():\n",
    "    print(i[0])\n",
    "    print(i[1])\n",
    "    print(i[1].shape)\n",
    "    break"
   ]
  },
  {
   "cell_type": "code",
   "execution_count": null,
   "metadata": {
    "colab": {},
    "colab_type": "code",
    "id": "JKkEz6EaluqK"
   },
   "outputs": [],
   "source": [
    "del(clips)"
   ]
  },
  {
   "cell_type": "markdown",
   "metadata": {
    "colab_type": "text",
    "id": "7WjfVC39lupq"
   },
   "source": [
    "### Creating the Dataset"
   ]
  },
  {
   "cell_type": "code",
   "execution_count": 6,
   "metadata": {
    "colab": {},
    "colab_type": "code",
    "id": "D3bAKfsnlupq"
   },
   "outputs": [],
   "source": [
    "with open(DATA_PATH + MFCC_PICKLE, 'rb') as f:\n",
    "    clips, all_pairs = pickle.load(f)"
   ]
  },
  {
   "cell_type": "code",
   "execution_count": 7,
   "metadata": {
    "colab": {},
    "colab_type": "code",
    "id": "pJ0vCRKSlup2"
   },
   "outputs": [],
   "source": [
    "def get_dataset():\n",
    "    left = []\n",
    "    right = []\n",
    "    labels = []  \n",
    "    \n",
    "    for pair in all_pairs:       \n",
    "        left.append([clips.get(pair[0]).astype(np.float32)])\n",
    "        right.append([clips.get(pair[1]).astype(np.float32)])\n",
    "        labels.append(np.float32(pair[2]))          \n",
    "    \n",
    "    left = np.array(left).astype(np.float32)\n",
    "    right = np.array(right).astype(np.float32)\n",
    "    labels = np.array(labels).astype(np.float32)\n",
    "\n",
    "    left = np.rollaxis(np.rollaxis(left, 3, 1), 3, 1)\n",
    "    right = np.rollaxis(np.rollaxis(right, 3, 1), 3, 1)\n",
    "\n",
    "    dataset_size = len(all_pairs)\n",
    "    train_size = int(dataset_size*0.7)    \n",
    "   \n",
    "    return left[0:train_size], \\\n",
    "           left[train_size:dataset_size], \\\n",
    "           right[0:train_size], \\\n",
    "           right[train_size:dataset_size], \\\n",
    "           labels[0:train_size], \\\n",
    "           labels[train_size:dataset_size]"
   ]
  },
  {
   "cell_type": "code",
   "execution_count": 8,
   "metadata": {
    "colab": {},
    "colab_type": "code",
    "id": "U3fe8RNLlup8"
   },
   "outputs": [],
   "source": [
    "left_train, left_val, right_train, right_val, labels_train, labels_val = get_dataset()\n",
    "left_train = left_train.astype(np.float32)\n",
    "left_val = left_val.astype(np.float32)\n",
    "right_train = right_train.astype(np.float32)\n",
    "right_val = right_val.astype(np.float32)\n",
    "labels_train = labels_train.astype(np.float32)\n",
    "labels_val = labels_val.astype(np.float32)"
   ]
  },
  {
   "cell_type": "code",
   "execution_count": 10,
   "metadata": {
    "colab": {
     "base_uri": "https://localhost:8080/",
     "height": 34
    },
    "colab_type": "code",
    "id": "-izJxJWilup_",
    "outputId": "408e8678-8b9f-4464-c688-0b738af151b7"
   },
   "outputs": [
    {
     "name": "stdout",
     "output_type": "stream",
     "text": [
      "(48892, 20, 400, 1) (48892, 20, 400, 1)\n"
     ]
    }
   ],
   "source": [
    "print(left_train.shape, right_train.shape)"
   ]
  },
  {
   "cell_type": "code",
   "execution_count": 11,
   "metadata": {
    "colab": {
     "base_uri": "https://localhost:8080/",
     "height": 34
    },
    "colab_type": "code",
    "id": "25RvbqIdluqE",
    "outputId": "8a79dbfa-99ac-4794-f8aa-18dd7e1ab865"
   },
   "outputs": [
    {
     "name": "stdout",
     "output_type": "stream",
     "text": [
      "(20954, 20, 400, 1) (20954, 20, 400, 1)\n"
     ]
    }
   ],
   "source": [
    "print(left_val.shape, right_val.shape)"
   ]
  },
  {
   "cell_type": "code",
   "execution_count": 12,
   "metadata": {
    "colab": {
     "base_uri": "https://localhost:8080/",
     "height": 34
    },
    "colab_type": "code",
    "id": "8KZiXwnsluqH",
    "outputId": "1e92aa1b-b216-47c7-aee9-7003bd415c24"
   },
   "outputs": [
    {
     "name": "stdout",
     "output_type": "stream",
     "text": [
      "(48892,) (20954,)\n"
     ]
    }
   ],
   "source": [
    "print(labels_train.shape, labels_val.shape)"
   ]
  },
  {
   "cell_type": "markdown",
   "metadata": {
    "colab_type": "text",
    "id": "CM8xe3grluqS"
   },
   "source": [
    "### Create Model"
   ]
  },
  {
   "cell_type": "code",
   "execution_count": 9,
   "metadata": {
    "colab": {},
    "colab_type": "code",
    "id": "j5PCpQZ4luqU"
   },
   "outputs": [],
   "source": [
    "def get_siamese_model():\n",
    "  \n",
    "    # Define the tensors for the two input images\n",
    "    left_input = Input((20, 400, 1))\n",
    "    right_input = Input((20, 400, 1))\n",
    "    \n",
    "    # Convolutional Neural Network\n",
    "    model = models.Sequential()    \n",
    "    model.add(layers.Conv2D(\n",
    "        32, \n",
    "        (10,10), \n",
    "        padding = 'same',\n",
    "        activation='relu', \n",
    "        input_shape=(20, 400, 1), \n",
    "        kernel_regularizer=regularizers.l2(2e-4)))\n",
    "    model.add(layers.MaxPooling2D())\n",
    "    \n",
    "    model.add(layers.Conv2D(\n",
    "        64, \n",
    "        (7,7),  \n",
    "        padding = 'same',\n",
    "        activation='relu',\n",
    "        kernel_regularizer=regularizers.l2(2e-4)))    \n",
    "    model.add(layers.MaxPooling2D())\n",
    "    \n",
    "    model.add(layers.Conv2D(\n",
    "        64, \n",
    "        (4,4), \n",
    "        padding = 'same', \n",
    "        activation='relu', \n",
    "        kernel_regularizer=regularizers.l2(2e-4)))\n",
    "    model.add(layers.MaxPooling2D())\n",
    "    \n",
    "    model.add(layers.Conv2D(\n",
    "        128, \n",
    "        (4,4),  \n",
    "        padding = 'same',\n",
    "        activation='relu', \n",
    "        kernel_regularizer=regularizers.l2(2e-4)))\n",
    "    \n",
    "    model.add(layers.Flatten())\n",
    "    \n",
    "    model.add(layers.Dense(\n",
    "        1024, \n",
    "        activation='sigmoid',\n",
    "        kernel_regularizer=regularizers.l2(1e-3)))\n",
    "    \n",
    "    # Generate the encodings (feature vectors) for the two images\n",
    "    encoded_l = model(left_input)\n",
    "    encoded_r = model(right_input)\n",
    "    \n",
    "    # Add a customized layer to compute the absolute difference between the encodings\n",
    "    L1_layer = layers.Lambda(lambda tensors:K.abs(tensors[0] - tensors[1]))\n",
    "    L1_distance = L1_layer([encoded_l, encoded_r])\n",
    "    \n",
    "    # Add a dense layer with a sigmoid unit to generate the similarity score\n",
    "    prediction = layers.Dense(1, activation='sigmoid')(L1_distance)\n",
    "    \n",
    "    # Connect the inputs with the outputs\n",
    "    siamese_net = models.Model(inputs=[left_input, right_input],outputs=prediction)\n",
    "    \n",
    "    # return the model\n",
    "    return siamese_net"
   ]
  },
  {
   "cell_type": "markdown",
   "metadata": {
    "colab_type": "text",
    "id": "WDKwqmGaluqZ"
   },
   "source": [
    "### Training"
   ]
  },
  {
   "cell_type": "code",
   "execution_count": 19,
   "metadata": {
    "colab": {
     "base_uri": "https://localhost:8080/",
     "height": 507
    },
    "colab_type": "code",
    "id": "c4gHhZOoluqZ",
    "outputId": "0eab4686-c517-4f10-81cf-4dbfa4f6cf58"
   },
   "outputs": [
    {
     "name": "stdout",
     "output_type": "stream",
     "text": [
      "Model: \"model_2\"\n",
      "__________________________________________________________________________________________________\n",
      "Layer (type)                    Output Shape         Param #     Connected to                     \n",
      "==================================================================================================\n",
      "input_3 (InputLayer)            (None, 20, 400, 1)   0                                            \n",
      "__________________________________________________________________________________________________\n",
      "input_4 (InputLayer)            (None, 20, 400, 1)   0                                            \n",
      "__________________________________________________________________________________________________\n",
      "sequential_2 (Sequential)       (None, 1024)         13408672    input_3[0][0]                    \n",
      "                                                                 input_4[0][0]                    \n",
      "__________________________________________________________________________________________________\n",
      "lambda_2 (Lambda)               (None, 1024)         0           sequential_2[1][0]               \n",
      "                                                                 sequential_2[2][0]               \n",
      "__________________________________________________________________________________________________\n",
      "dense_4 (Dense)                 (None, 1)            1025        lambda_2[0][0]                   \n",
      "==================================================================================================\n",
      "Total params: 13,409,697\n",
      "Trainable params: 13,409,697\n",
      "Non-trainable params: 0\n",
      "__________________________________________________________________________________________________\n"
     ]
    }
   ],
   "source": [
    "model = get_siamese_model()\n",
    "model.summary()"
   ]
  },
  {
   "cell_type": "code",
   "execution_count": 20,
   "metadata": {
    "colab": {
     "base_uri": "https://localhost:8080/",
     "height": 154
    },
    "colab_type": "code",
    "id": "cYAkHySyluqc",
    "outputId": "52d50670-b628-4751-ee22-1fce72ae7717"
   },
   "outputs": [],
   "source": [
    "LR = 1e-4\n",
    "model.compile(loss=\"binary_crossentropy\", optimizer = optimizers.Adam(lr = LR))"
   ]
  },
  {
   "cell_type": "code",
   "execution_count": 21,
   "metadata": {
    "colab": {},
    "colab_type": "code",
    "id": "OQUO5DcVluqf"
   },
   "outputs": [],
   "source": [
    "now = datetime.datetime.now().strftime(\"%Y%m%d-%H%M%S\")\n",
    "\n",
    "log_dir = DATA_PATH + 'logs/EN-TF1-' + now\n",
    "tensorboard_callback = keras.callbacks.TensorBoard(log_dir=log_dir, histogram_freq=1)\n",
    "\n",
    "checkpoint_path = DATA_PATH + 'checkpoints/EN-TF1-' + now\n",
    "checkpoints_callback = keras.callbacks.ModelCheckpoint(\n",
    "    filepath = checkpoint_path,\n",
    "    save_weights_only=True,\n",
    "    save_best_only = True,\n",
    "    verbose=1)"
   ]
  },
  {
   "cell_type": "code",
   "execution_count": 22,
   "metadata": {
    "colab": {
     "base_uri": "https://localhost:8080/",
     "height": 50
    },
    "colab_type": "code",
    "id": "4CLjoBCtluqi",
    "outputId": "de6a2423-296c-4362-d692-cff2491e23ce"
   },
   "outputs": [
    {
     "name": "stdout",
     "output_type": "stream",
     "text": [
      "/home/csanc/checkpoints/EN-TF1-20200405-024254\n",
      "/home/csanc/logs/EN-TF1-20200405-024254\n"
     ]
    }
   ],
   "source": [
    "print(checkpoint_path)\n",
    "print(log_dir)"
   ]
  },
  {
   "cell_type": "code",
   "execution_count": 23,
   "metadata": {
    "colab": {
     "base_uri": "https://localhost:8080/",
     "height": 101
    },
    "colab_type": "code",
    "id": "4zYFUUAaluql",
    "outputId": "5a0f5fd4-0e1d-49dc-9bdb-7456fac15037"
   },
   "outputs": [
    {
     "name": "stdout",
     "output_type": "stream",
     "text": [
      "Train on 48892 samples, validate on 20954 samples\n",
      "Epoch 1/200\n",
      "48892/48892 [==============================] - 70s 1ms/step - loss: 1.6362 - val_loss: 1.0131\n",
      "\n",
      "Epoch 00001: val_loss improved from inf to 1.01313, saving model to /home/csanc/checkpoints/EN-TF1-20200405-024254\n",
      "Epoch 2/200\n",
      "48892/48892 [==============================] - 71s 1ms/step - loss: 0.7818 - val_loss: 0.6232\n",
      "\n",
      "Epoch 00002: val_loss improved from 1.01313 to 0.62318, saving model to /home/csanc/checkpoints/EN-TF1-20200405-024254\n",
      "Epoch 3/200\n",
      "48892/48892 [==============================] - 71s 1ms/step - loss: 0.5398 - val_loss: 0.4961\n",
      "\n",
      "Epoch 00003: val_loss improved from 0.62318 to 0.49611, saving model to /home/csanc/checkpoints/EN-TF1-20200405-024254\n",
      "Epoch 4/200\n",
      "48892/48892 [==============================] - 71s 1ms/step - loss: 0.4334 - val_loss: 0.4172\n",
      "\n",
      "Epoch 00004: val_loss improved from 0.49611 to 0.41724, saving model to /home/csanc/checkpoints/EN-TF1-20200405-024254\n",
      "Epoch 5/200\n",
      "48892/48892 [==============================] - 71s 1ms/step - loss: 0.3677 - val_loss: 0.3636\n",
      "\n",
      "Epoch 00005: val_loss improved from 0.41724 to 0.36356, saving model to /home/csanc/checkpoints/EN-TF1-20200405-024254\n",
      "Epoch 6/200\n",
      "48892/48892 [==============================] - 71s 1ms/step - loss: 0.3181 - val_loss: 0.3288\n",
      "\n",
      "Epoch 00006: val_loss improved from 0.36356 to 0.32880, saving model to /home/csanc/checkpoints/EN-TF1-20200405-024254\n",
      "Epoch 7/200\n",
      "48892/48892 [==============================] - 71s 1ms/step - loss: 0.2785 - val_loss: 0.2998\n",
      "\n",
      "Epoch 00007: val_loss improved from 0.32880 to 0.29979, saving model to /home/csanc/checkpoints/EN-TF1-20200405-024254\n",
      "Epoch 8/200\n",
      "48892/48892 [==============================] - 71s 1ms/step - loss: 0.2465 - val_loss: 0.2755\n",
      "\n",
      "Epoch 00008: val_loss improved from 0.29979 to 0.27551, saving model to /home/csanc/checkpoints/EN-TF1-20200405-024254\n",
      "Epoch 9/200\n",
      "48892/48892 [==============================] - 71s 1ms/step - loss: 0.2171 - val_loss: 0.2546\n",
      "\n",
      "Epoch 00009: val_loss improved from 0.27551 to 0.25463, saving model to /home/csanc/checkpoints/EN-TF1-20200405-024254\n",
      "Epoch 10/200\n",
      "48892/48892 [==============================] - 71s 1ms/step - loss: 0.1932 - val_loss: 0.2402\n",
      "\n",
      "Epoch 00010: val_loss improved from 0.25463 to 0.24020, saving model to /home/csanc/checkpoints/EN-TF1-20200405-024254\n",
      "Epoch 11/200\n",
      "48892/48892 [==============================] - 71s 1ms/step - loss: 0.1730 - val_loss: 0.2201\n",
      "\n",
      "Epoch 00011: val_loss improved from 0.24020 to 0.22007, saving model to /home/csanc/checkpoints/EN-TF1-20200405-024254\n",
      "Epoch 12/200\n",
      "48892/48892 [==============================] - 71s 1ms/step - loss: 0.1538 - val_loss: 0.2080\n",
      "\n",
      "Epoch 00012: val_loss improved from 0.22007 to 0.20800, saving model to /home/csanc/checkpoints/EN-TF1-20200405-024254\n",
      "Epoch 13/200\n",
      "48892/48892 [==============================] - 71s 1ms/step - loss: 0.1392 - val_loss: 0.1943\n",
      "\n",
      "Epoch 00013: val_loss improved from 0.20800 to 0.19428, saving model to /home/csanc/checkpoints/EN-TF1-20200405-024254\n",
      "Epoch 14/200\n",
      "48892/48892 [==============================] - 71s 1ms/step - loss: 0.1245 - val_loss: 0.1825\n",
      "\n",
      "Epoch 00014: val_loss improved from 0.19428 to 0.18246, saving model to /home/csanc/checkpoints/EN-TF1-20200405-024254\n",
      "Epoch 15/200\n",
      "48892/48892 [==============================] - 71s 1ms/step - loss: 0.1135 - val_loss: 0.1734\n",
      "\n",
      "Epoch 00015: val_loss improved from 0.18246 to 0.17339, saving model to /home/csanc/checkpoints/EN-TF1-20200405-024254\n",
      "Epoch 16/200\n",
      "48892/48892 [==============================] - 71s 1ms/step - loss: 0.1029 - val_loss: 0.1659\n",
      "\n",
      "Epoch 00016: val_loss improved from 0.17339 to 0.16586, saving model to /home/csanc/checkpoints/EN-TF1-20200405-024254\n",
      "Epoch 17/200\n",
      "48892/48892 [==============================] - 71s 1ms/step - loss: 0.0946 - val_loss: 0.1645\n",
      "\n",
      "Epoch 00017: val_loss improved from 0.16586 to 0.16449, saving model to /home/csanc/checkpoints/EN-TF1-20200405-024254\n",
      "Epoch 18/200\n",
      "48892/48892 [==============================] - 71s 1ms/step - loss: 0.0867 - val_loss: 0.1496\n",
      "\n",
      "Epoch 00018: val_loss improved from 0.16449 to 0.14963, saving model to /home/csanc/checkpoints/EN-TF1-20200405-024254\n",
      "Epoch 19/200\n",
      "48892/48892 [==============================] - 71s 1ms/step - loss: 0.0800 - val_loss: 0.1476\n",
      "\n",
      "Epoch 00019: val_loss improved from 0.14963 to 0.14763, saving model to /home/csanc/checkpoints/EN-TF1-20200405-024254\n",
      "Epoch 20/200\n",
      "48892/48892 [==============================] - 71s 1ms/step - loss: 0.0816 - val_loss: 0.1567\n",
      "\n",
      "Epoch 00020: val_loss did not improve from 0.14763\n",
      "Epoch 21/200\n",
      "48892/48892 [==============================] - 71s 1ms/step - loss: 0.0837 - val_loss: 0.1519\n",
      "\n",
      "Epoch 00021: val_loss did not improve from 0.14763\n",
      "Epoch 22/200\n",
      "48892/48892 [==============================] - 71s 1ms/step - loss: 0.0786 - val_loss: 0.1386\n",
      "\n",
      "Epoch 00022: val_loss improved from 0.14763 to 0.13857, saving model to /home/csanc/checkpoints/EN-TF1-20200405-024254\n",
      "Epoch 23/200\n",
      "48892/48892 [==============================] - 71s 1ms/step - loss: 0.0674 - val_loss: 0.1283\n",
      "\n",
      "Epoch 00023: val_loss improved from 0.13857 to 0.12833, saving model to /home/csanc/checkpoints/EN-TF1-20200405-024254\n",
      "Epoch 24/200\n",
      "48892/48892 [==============================] - 71s 1ms/step - loss: 0.0590 - val_loss: 0.1264\n",
      "\n",
      "Epoch 00024: val_loss improved from 0.12833 to 0.12636, saving model to /home/csanc/checkpoints/EN-TF1-20200405-024254\n",
      "Epoch 25/200\n",
      "48892/48892 [==============================] - 71s 1ms/step - loss: 0.0544 - val_loss: 0.1200\n",
      "\n",
      "Epoch 00025: val_loss improved from 0.12636 to 0.12005, saving model to /home/csanc/checkpoints/EN-TF1-20200405-024254\n",
      "Epoch 26/200\n",
      "48892/48892 [==============================] - 71s 1ms/step - loss: 0.0508 - val_loss: 0.1149\n",
      "\n",
      "Epoch 00026: val_loss improved from 0.12005 to 0.11486, saving model to /home/csanc/checkpoints/EN-TF1-20200405-024254\n",
      "Epoch 27/200\n",
      "48892/48892 [==============================] - 71s 1ms/step - loss: 0.0491 - val_loss: 0.1218\n",
      "\n",
      "Epoch 00027: val_loss did not improve from 0.11486\n",
      "Epoch 28/200\n",
      "48892/48892 [==============================] - 71s 1ms/step - loss: 0.0797 - val_loss: 0.1569\n",
      "\n",
      "Epoch 00028: val_loss did not improve from 0.11486\n",
      "Epoch 29/200\n",
      "48892/48892 [==============================] - 71s 1ms/step - loss: 0.1001 - val_loss: 0.1475\n",
      "\n",
      "Epoch 00029: val_loss did not improve from 0.11486\n",
      "Epoch 30/200\n",
      "48892/48892 [==============================] - 71s 1ms/step - loss: 0.0725 - val_loss: 0.1336\n",
      "\n",
      "Epoch 00030: val_loss did not improve from 0.11486\n",
      "Epoch 31/200\n",
      "48892/48892 [==============================] - 71s 1ms/step - loss: 0.0588 - val_loss: 0.1216\n",
      "\n",
      "Epoch 00031: val_loss did not improve from 0.11486\n",
      "Epoch 32/200\n",
      "48892/48892 [==============================] - 71s 1ms/step - loss: 0.0517 - val_loss: 0.1174\n",
      "\n",
      "Epoch 00032: val_loss did not improve from 0.11486\n",
      "Epoch 33/200\n",
      "48892/48892 [==============================] - 71s 1ms/step - loss: 0.0471 - val_loss: 0.1136\n",
      "\n",
      "Epoch 00033: val_loss improved from 0.11486 to 0.11356, saving model to /home/csanc/checkpoints/EN-TF1-20200405-024254\n",
      "Epoch 34/200\n",
      "48892/48892 [==============================] - 71s 1ms/step - loss: 0.0435 - val_loss: 0.1106\n",
      "\n",
      "Epoch 00034: val_loss improved from 0.11356 to 0.11058, saving model to /home/csanc/checkpoints/EN-TF1-20200405-024254\n",
      "Epoch 35/200\n",
      "48892/48892 [==============================] - 71s 1ms/step - loss: 0.0406 - val_loss: 0.1066\n",
      "\n",
      "Epoch 00035: val_loss improved from 0.11058 to 0.10662, saving model to /home/csanc/checkpoints/EN-TF1-20200405-024254\n",
      "Epoch 36/200\n",
      "48892/48892 [==============================] - 71s 1ms/step - loss: 0.0383 - val_loss: 0.1053\n",
      "\n",
      "Epoch 00036: val_loss improved from 0.10662 to 0.10534, saving model to /home/csanc/checkpoints/EN-TF1-20200405-024254\n",
      "Epoch 37/200\n",
      "48892/48892 [==============================] - 71s 1ms/step - loss: 0.0367 - val_loss: 0.1022\n",
      "\n",
      "Epoch 00037: val_loss improved from 0.10534 to 0.10216, saving model to /home/csanc/checkpoints/EN-TF1-20200405-024254\n",
      "Epoch 38/200\n",
      "48892/48892 [==============================] - 71s 1ms/step - loss: 0.0356 - val_loss: 0.1050\n",
      "\n",
      "Epoch 00038: val_loss did not improve from 0.10216\n",
      "Epoch 39/200\n",
      "48892/48892 [==============================] - 71s 1ms/step - loss: 0.0600 - val_loss: 0.1600\n",
      "\n",
      "Epoch 00039: val_loss did not improve from 0.10216\n",
      "Epoch 40/200\n",
      "48892/48892 [==============================] - 71s 1ms/step - loss: 0.1053 - val_loss: 0.1482\n",
      "\n",
      "Epoch 00040: val_loss did not improve from 0.10216\n",
      "Epoch 41/200\n",
      "48892/48892 [==============================] - 71s 1ms/step - loss: 0.0719 - val_loss: 0.1332\n",
      "\n",
      "Epoch 00041: val_loss did not improve from 0.10216\n",
      "Epoch 42/200\n",
      "48892/48892 [==============================] - 71s 1ms/step - loss: 0.0567 - val_loss: 0.1208\n",
      "\n",
      "Epoch 00042: val_loss did not improve from 0.10216\n",
      "Epoch 43/200\n",
      "48892/48892 [==============================] - 71s 1ms/step - loss: 0.0488 - val_loss: 0.1150\n",
      "\n",
      "Epoch 00043: val_loss did not improve from 0.10216\n",
      "Epoch 44/200\n",
      "48892/48892 [==============================] - 71s 1ms/step - loss: 0.0439 - val_loss: 0.1099\n",
      "\n",
      "Epoch 00044: val_loss did not improve from 0.10216\n",
      "Epoch 45/200\n",
      "48892/48892 [==============================] - 71s 1ms/step - loss: 0.0409 - val_loss: 0.1087\n",
      "\n",
      "Epoch 00045: val_loss did not improve from 0.10216\n",
      "Epoch 46/200\n",
      "48892/48892 [==============================] - 71s 1ms/step - loss: 0.0377 - val_loss: 0.1043\n",
      "\n",
      "Epoch 00046: val_loss did not improve from 0.10216\n",
      "Epoch 47/200\n",
      "48892/48892 [==============================] - 71s 1ms/step - loss: 0.0349 - val_loss: 0.1036\n",
      "\n",
      "Epoch 00047: val_loss did not improve from 0.10216\n",
      "Epoch 48/200\n",
      "48892/48892 [==============================] - 71s 1ms/step - loss: 0.0328 - val_loss: 0.0993\n",
      "\n",
      "Epoch 00048: val_loss improved from 0.10216 to 0.09927, saving model to /home/csanc/checkpoints/EN-TF1-20200405-024254\n",
      "Epoch 49/200\n",
      "48892/48892 [==============================] - 71s 1ms/step - loss: 0.0311 - val_loss: 0.0992\n",
      "\n",
      "Epoch 00049: val_loss improved from 0.09927 to 0.09921, saving model to /home/csanc/checkpoints/EN-TF1-20200405-024254\n",
      "Epoch 50/200\n",
      "48892/48892 [==============================] - 71s 1ms/step - loss: 0.0297 - val_loss: 0.0990\n",
      "\n",
      "Epoch 00050: val_loss improved from 0.09921 to 0.09900, saving model to /home/csanc/checkpoints/EN-TF1-20200405-024254\n",
      "Epoch 51/200\n",
      "48892/48892 [==============================] - 71s 1ms/step - loss: 0.0288 - val_loss: 0.0964\n",
      "\n",
      "Epoch 00051: val_loss improved from 0.09900 to 0.09644, saving model to /home/csanc/checkpoints/EN-TF1-20200405-024254\n",
      "Epoch 52/200\n",
      "48892/48892 [==============================] - 71s 1ms/step - loss: 0.0522 - val_loss: 0.1610\n",
      "\n",
      "Epoch 00052: val_loss did not improve from 0.09644\n",
      "Epoch 53/200\n",
      "48892/48892 [==============================] - 70s 1ms/step - loss: 0.0991 - val_loss: 0.1455\n",
      "\n",
      "Epoch 00053: val_loss did not improve from 0.09644\n",
      "Epoch 54/200\n",
      "48892/48892 [==============================] - 70s 1ms/step - loss: 0.0661 - val_loss: 0.1237\n",
      "\n",
      "Epoch 00054: val_loss did not improve from 0.09644\n",
      "Epoch 55/200\n",
      "48892/48892 [==============================] - 70s 1ms/step - loss: 0.0518 - val_loss: 0.1145\n",
      "\n",
      "Epoch 00055: val_loss did not improve from 0.09644\n",
      "Epoch 56/200\n",
      "48892/48892 [==============================] - 71s 1ms/step - loss: 0.0447 - val_loss: 0.1103\n",
      "\n",
      "Epoch 00056: val_loss did not improve from 0.09644\n",
      "Epoch 57/200\n",
      "48892/48892 [==============================] - 71s 1ms/step - loss: 0.0401 - val_loss: 0.1067\n",
      "\n",
      "Epoch 00057: val_loss did not improve from 0.09644\n",
      "Epoch 58/200\n",
      "48892/48892 [==============================] - 71s 1ms/step - loss: 0.0366 - val_loss: 0.1038\n",
      "\n",
      "Epoch 00058: val_loss did not improve from 0.09644\n",
      "Epoch 59/200\n",
      "48892/48892 [==============================] - 70s 1ms/step - loss: 0.0338 - val_loss: 0.1018\n",
      "\n",
      "Epoch 00059: val_loss did not improve from 0.09644\n",
      "Epoch 60/200\n",
      "48892/48892 [==============================] - 70s 1ms/step - loss: 0.0315 - val_loss: 0.0994\n",
      "\n",
      "Epoch 00060: val_loss did not improve from 0.09644\n",
      "Epoch 61/200\n",
      "48892/48892 [==============================] - 71s 1ms/step - loss: 0.0295 - val_loss: 0.0975\n",
      "\n",
      "Epoch 00061: val_loss did not improve from 0.09644\n",
      "Epoch 62/200\n",
      "48892/48892 [==============================] - 71s 1ms/step - loss: 0.0279 - val_loss: 0.0957\n",
      "\n",
      "Epoch 00062: val_loss improved from 0.09644 to 0.09567, saving model to /home/csanc/checkpoints/EN-TF1-20200405-024254\n",
      "Epoch 63/200\n",
      "48892/48892 [==============================] - 71s 1ms/step - loss: 0.0266 - val_loss: 0.0938\n",
      "\n",
      "Epoch 00063: val_loss improved from 0.09567 to 0.09375, saving model to /home/csanc/checkpoints/EN-TF1-20200405-024254\n",
      "Epoch 64/200\n",
      "48892/48892 [==============================] - 71s 1ms/step - loss: 0.0253 - val_loss: 0.0928\n",
      "\n",
      "Epoch 00064: val_loss improved from 0.09375 to 0.09284, saving model to /home/csanc/checkpoints/EN-TF1-20200405-024254\n",
      "Epoch 65/200\n",
      "48892/48892 [==============================] - 71s 1ms/step - loss: 0.0244 - val_loss: 0.0907\n",
      "\n",
      "Epoch 00065: val_loss improved from 0.09284 to 0.09072, saving model to /home/csanc/checkpoints/EN-TF1-20200405-024254\n",
      "Epoch 66/200\n",
      "48892/48892 [==============================] - 71s 1ms/step - loss: 0.0239 - val_loss: 0.0945\n",
      "\n",
      "Epoch 00066: val_loss did not improve from 0.09072\n",
      "Epoch 67/200\n",
      "48892/48892 [==============================] - 71s 1ms/step - loss: 0.0568 - val_loss: 0.1845\n",
      "\n",
      "Epoch 00067: val_loss did not improve from 0.09072\n",
      "Epoch 68/200\n",
      "48892/48892 [==============================] - 71s 1ms/step - loss: 0.1008 - val_loss: 0.1427\n",
      "\n",
      "Epoch 00068: val_loss did not improve from 0.09072\n",
      "Epoch 69/200\n",
      "48892/48892 [==============================] - 70s 1ms/step - loss: 0.0638 - val_loss: 0.1181\n",
      "\n",
      "Epoch 00069: val_loss did not improve from 0.09072\n",
      "Epoch 70/200\n",
      "48892/48892 [==============================] - 70s 1ms/step - loss: 0.0490 - val_loss: 0.1120\n",
      "\n",
      "Epoch 00070: val_loss did not improve from 0.09072\n",
      "Epoch 71/200\n",
      "48892/48892 [==============================] - 70s 1ms/step - loss: 0.0424 - val_loss: 0.1076\n",
      "\n",
      "Epoch 00071: val_loss did not improve from 0.09072\n",
      "Epoch 72/200\n",
      "48892/48892 [==============================] - 71s 1ms/step - loss: 0.0380 - val_loss: 0.1044\n",
      "\n",
      "Epoch 00072: val_loss did not improve from 0.09072\n",
      "Epoch 73/200\n",
      "48892/48892 [==============================] - 70s 1ms/step - loss: 0.0346 - val_loss: 0.1011\n",
      "\n",
      "Epoch 00073: val_loss did not improve from 0.09072\n",
      "Epoch 74/200\n",
      "48892/48892 [==============================] - 71s 1ms/step - loss: 0.0318 - val_loss: 0.0988\n",
      "\n",
      "Epoch 00074: val_loss did not improve from 0.09072\n",
      "Epoch 75/200\n",
      "48892/48892 [==============================] - 70s 1ms/step - loss: 0.0295 - val_loss: 0.0966\n",
      "\n",
      "Epoch 00075: val_loss did not improve from 0.09072\n",
      "Epoch 76/200\n",
      "48892/48892 [==============================] - 71s 1ms/step - loss: 0.0275 - val_loss: 0.0963\n",
      "\n",
      "Epoch 00076: val_loss did not improve from 0.09072\n",
      "Epoch 77/200\n",
      "48892/48892 [==============================] - 71s 1ms/step - loss: 0.0263 - val_loss: 0.0966\n",
      "\n",
      "Epoch 00077: val_loss did not improve from 0.09072\n",
      "Epoch 78/200\n",
      "48892/48892 [==============================] - 71s 1ms/step - loss: 0.0252 - val_loss: 0.0937\n",
      "\n",
      "Epoch 00078: val_loss did not improve from 0.09072\n",
      "Epoch 79/200\n",
      "48892/48892 [==============================] - 71s 1ms/step - loss: 0.0233 - val_loss: 0.0916\n",
      "\n",
      "Epoch 00079: val_loss did not improve from 0.09072\n",
      "Epoch 80/200\n",
      "48892/48892 [==============================] - 71s 1ms/step - loss: 0.0222 - val_loss: 0.0902\n",
      "\n",
      "Epoch 00080: val_loss improved from 0.09072 to 0.09015, saving model to /home/csanc/checkpoints/EN-TF1-20200405-024254\n",
      "Epoch 81/200\n",
      "48892/48892 [==============================] - 71s 1ms/step - loss: 0.0215 - val_loss: 0.0881\n",
      "\n",
      "Epoch 00081: val_loss improved from 0.09015 to 0.08812, saving model to /home/csanc/checkpoints/EN-TF1-20200405-024254\n",
      "Epoch 82/200\n",
      "48892/48892 [==============================] - 71s 1ms/step - loss: 0.0208 - val_loss: 0.0909\n",
      "\n",
      "Epoch 00082: val_loss did not improve from 0.08812\n",
      "Epoch 83/200\n",
      "48892/48892 [==============================] - 71s 1ms/step - loss: 0.0582 - val_loss: 0.1656\n",
      "\n",
      "Epoch 00083: val_loss did not improve from 0.08812\n",
      "Epoch 84/200\n",
      "48892/48892 [==============================] - 70s 1ms/step - loss: 0.0941 - val_loss: 0.1412\n",
      "\n",
      "Epoch 00084: val_loss did not improve from 0.08812\n",
      "Epoch 85/200\n",
      "48892/48892 [==============================] - 70s 1ms/step - loss: 0.0596 - val_loss: 0.1182\n",
      "\n",
      "Epoch 00085: val_loss did not improve from 0.08812\n",
      "Epoch 86/200\n",
      "48892/48892 [==============================] - 70s 1ms/step - loss: 0.0452 - val_loss: 0.1094\n",
      "\n",
      "Epoch 00086: val_loss did not improve from 0.08812\n",
      "Epoch 87/200\n",
      "48892/48892 [==============================] - 70s 1ms/step - loss: 0.0390 - val_loss: 0.1051\n",
      "\n",
      "Epoch 00087: val_loss did not improve from 0.08812\n",
      "Epoch 88/200\n",
      "48892/48892 [==============================] - 70s 1ms/step - loss: 0.0349 - val_loss: 0.1032\n",
      "\n",
      "Epoch 00088: val_loss did not improve from 0.08812\n",
      "Epoch 89/200\n",
      "48892/48892 [==============================] - 71s 1ms/step - loss: 0.0318 - val_loss: 0.0998\n",
      "\n",
      "Epoch 00089: val_loss did not improve from 0.08812\n",
      "Epoch 90/200\n",
      "48892/48892 [==============================] - 70s 1ms/step - loss: 0.0292 - val_loss: 0.0987\n",
      "\n",
      "Epoch 00090: val_loss did not improve from 0.08812\n",
      "Epoch 91/200\n",
      "48892/48892 [==============================] - 71s 1ms/step - loss: 0.0271 - val_loss: 0.0971\n",
      "\n",
      "Epoch 00091: val_loss did not improve from 0.08812\n",
      "Epoch 92/200\n",
      "48892/48892 [==============================] - 70s 1ms/step - loss: 0.0253 - val_loss: 0.0961\n",
      "\n",
      "Epoch 00092: val_loss did not improve from 0.08812\n",
      "Epoch 93/200\n",
      "48892/48892 [==============================] - 70s 1ms/step - loss: 0.0237 - val_loss: 0.0944\n",
      "\n",
      "Epoch 00093: val_loss did not improve from 0.08812\n",
      "Epoch 94/200\n",
      "48892/48892 [==============================] - 71s 1ms/step - loss: 0.0224 - val_loss: 0.0931\n",
      "\n",
      "Epoch 00094: val_loss did not improve from 0.08812\n",
      "Epoch 95/200\n",
      "48892/48892 [==============================] - 71s 1ms/step - loss: 0.0217 - val_loss: 0.0937\n",
      "\n",
      "Epoch 00095: val_loss did not improve from 0.08812\n",
      "Epoch 96/200\n",
      "48892/48892 [==============================] - 71s 1ms/step - loss: 0.0213 - val_loss: 0.0900\n",
      "\n",
      "Epoch 00096: val_loss did not improve from 0.08812\n",
      "Epoch 97/200\n",
      "48892/48892 [==============================] - 71s 1ms/step - loss: 0.0197 - val_loss: 0.0892\n",
      "\n",
      "Epoch 00097: val_loss did not improve from 0.08812\n",
      "Epoch 98/200\n",
      "48892/48892 [==============================] - 71s 1ms/step - loss: 0.0187 - val_loss: 0.0870\n",
      "\n",
      "Epoch 00098: val_loss improved from 0.08812 to 0.08702, saving model to /home/csanc/checkpoints/EN-TF1-20200405-024254\n",
      "Epoch 99/200\n",
      "48892/48892 [==============================] - 71s 1ms/step - loss: 0.0179 - val_loss: 0.0886\n",
      "\n",
      "Epoch 00099: val_loss did not improve from 0.08702\n",
      "Epoch 100/200\n",
      "48892/48892 [==============================] - 71s 1ms/step - loss: 0.0191 - val_loss: 0.1132\n",
      "\n",
      "Epoch 00100: val_loss did not improve from 0.08702\n",
      "Epoch 101/200\n",
      "48892/48892 [==============================] - 70s 1ms/step - loss: 0.0985 - val_loss: 0.1411\n",
      "\n",
      "Epoch 00101: val_loss did not improve from 0.08702\n",
      "Epoch 102/200\n",
      "48892/48892 [==============================] - 70s 1ms/step - loss: 0.0639 - val_loss: 0.1224\n",
      "\n",
      "Epoch 00102: val_loss did not improve from 0.08702\n",
      "Epoch 103/200\n",
      "48892/48892 [==============================] - 70s 1ms/step - loss: 0.0456 - val_loss: 0.1117\n",
      "\n",
      "Epoch 00103: val_loss did not improve from 0.08702\n",
      "Epoch 104/200\n",
      "48892/48892 [==============================] - 70s 1ms/step - loss: 0.0378 - val_loss: 0.1060\n",
      "\n",
      "Epoch 00104: val_loss did not improve from 0.08702\n",
      "Epoch 105/200\n",
      "48892/48892 [==============================] - 70s 1ms/step - loss: 0.0333 - val_loss: 0.1028\n",
      "\n",
      "Epoch 00105: val_loss did not improve from 0.08702\n",
      "Epoch 106/200\n",
      "48892/48892 [==============================] - 70s 1ms/step - loss: 0.0300 - val_loss: 0.1006\n",
      "\n",
      "Epoch 00106: val_loss did not improve from 0.08702\n",
      "Epoch 107/200\n",
      "48892/48892 [==============================] - 70s 1ms/step - loss: 0.0274 - val_loss: 0.0993\n",
      "\n",
      "Epoch 00107: val_loss did not improve from 0.08702\n",
      "Epoch 108/200\n",
      "48892/48892 [==============================] - 70s 1ms/step - loss: 0.0252 - val_loss: 0.0967\n",
      "\n",
      "Epoch 00108: val_loss did not improve from 0.08702\n",
      "Epoch 109/200\n",
      "48892/48892 [==============================] - 70s 1ms/step - loss: 0.0234 - val_loss: 0.0954\n",
      "\n",
      "Epoch 00109: val_loss did not improve from 0.08702\n",
      "Epoch 110/200\n",
      "48892/48892 [==============================] - 71s 1ms/step - loss: 0.0219 - val_loss: 0.0946\n",
      "\n",
      "Epoch 00110: val_loss did not improve from 0.08702\n",
      "Epoch 111/200\n",
      "48892/48892 [==============================] - 70s 1ms/step - loss: 0.0205 - val_loss: 0.0942\n",
      "\n",
      "Epoch 00111: val_loss did not improve from 0.08702\n",
      "Epoch 112/200\n",
      "48892/48892 [==============================] - 71s 1ms/step - loss: 0.0194 - val_loss: 0.0919\n",
      "\n",
      "Epoch 00112: val_loss did not improve from 0.08702\n",
      "Epoch 113/200\n",
      "48892/48892 [==============================] - 70s 1ms/step - loss: 0.0184 - val_loss: 0.0913\n",
      "\n",
      "Epoch 00113: val_loss did not improve from 0.08702\n",
      "Epoch 114/200\n",
      "48892/48892 [==============================] - 70s 1ms/step - loss: 0.0257 - val_loss: 0.1260\n",
      "\n",
      "Epoch 00114: val_loss did not improve from 0.08702\n",
      "Epoch 115/200\n",
      "48892/48892 [==============================] - 70s 1ms/step - loss: 0.0707 - val_loss: 0.1298\n",
      "\n",
      "Epoch 00115: val_loss did not improve from 0.08702\n",
      "Epoch 116/200\n",
      "48892/48892 [==============================] - 70s 1ms/step - loss: 0.0479 - val_loss: 0.1170\n",
      "\n",
      "Epoch 00116: val_loss did not improve from 0.08702\n",
      "Epoch 117/200\n",
      "48892/48892 [==============================] - 70s 1ms/step - loss: 0.0365 - val_loss: 0.1048\n",
      "\n",
      "Epoch 00117: val_loss did not improve from 0.08702\n",
      "Epoch 118/200\n",
      "48892/48892 [==============================] - 70s 1ms/step - loss: 0.0308 - val_loss: 0.1026\n",
      "\n",
      "Epoch 00118: val_loss did not improve from 0.08702\n",
      "Epoch 119/200\n",
      "48892/48892 [==============================] - 70s 1ms/step - loss: 0.0275 - val_loss: 0.1000\n",
      "\n",
      "Epoch 00119: val_loss did not improve from 0.08702\n",
      "Epoch 120/200\n",
      "48892/48892 [==============================] - 70s 1ms/step - loss: 0.0250 - val_loss: 0.0981\n",
      "\n",
      "Epoch 00120: val_loss did not improve from 0.08702\n",
      "Epoch 121/200\n",
      "48892/48892 [==============================] - 70s 1ms/step - loss: 0.0230 - val_loss: 0.0966\n",
      "\n",
      "Epoch 00121: val_loss did not improve from 0.08702\n",
      "Epoch 122/200\n",
      "48892/48892 [==============================] - 70s 1ms/step - loss: 0.0214 - val_loss: 0.0946\n",
      "\n",
      "Epoch 00122: val_loss did not improve from 0.08702\n",
      "Epoch 123/200\n",
      "48892/48892 [==============================] - 70s 1ms/step - loss: 0.0199 - val_loss: 0.0932\n",
      "\n",
      "Epoch 00123: val_loss did not improve from 0.08702\n",
      "Epoch 124/200\n",
      "48892/48892 [==============================] - 70s 1ms/step - loss: 0.0187 - val_loss: 0.0932\n",
      "\n",
      "Epoch 00124: val_loss did not improve from 0.08702\n",
      "Epoch 125/200\n",
      "48892/48892 [==============================] - 70s 1ms/step - loss: 0.0177 - val_loss: 0.0909\n",
      "\n",
      "Epoch 00125: val_loss did not improve from 0.08702\n",
      "Epoch 126/200\n",
      "48892/48892 [==============================] - 70s 1ms/step - loss: 0.0167 - val_loss: 0.0910\n",
      "\n",
      "Epoch 00126: val_loss did not improve from 0.08702\n",
      "Epoch 127/200\n",
      "48892/48892 [==============================] - 70s 1ms/step - loss: 0.0159 - val_loss: 0.0885\n",
      "\n",
      "Epoch 00127: val_loss did not improve from 0.08702\n",
      "Epoch 128/200\n",
      "48892/48892 [==============================] - 71s 1ms/step - loss: 0.0152 - val_loss: 0.0885\n",
      "\n",
      "Epoch 00128: val_loss did not improve from 0.08702\n",
      "Epoch 129/200\n",
      "48892/48892 [==============================] - 70s 1ms/step - loss: 0.0146 - val_loss: 0.0879\n",
      "\n",
      "Epoch 00129: val_loss did not improve from 0.08702\n",
      "Epoch 130/200\n",
      "48892/48892 [==============================] - 71s 1ms/step - loss: 0.0142 - val_loss: 0.0887\n",
      "\n",
      "Epoch 00130: val_loss did not improve from 0.08702\n",
      "Epoch 131/200\n",
      "48892/48892 [==============================] - 70s 1ms/step - loss: 0.0568 - val_loss: 0.1466\n",
      "\n",
      "Epoch 00131: val_loss did not improve from 0.08702\n",
      "Epoch 132/200\n",
      "48892/48892 [==============================] - 70s 1ms/step - loss: 0.0753 - val_loss: 0.1194\n",
      "\n",
      "Epoch 00132: val_loss did not improve from 0.08702\n",
      "Epoch 133/200\n",
      "48892/48892 [==============================] - 70s 1ms/step - loss: 0.0450 - val_loss: 0.1059\n",
      "\n",
      "Epoch 00133: val_loss did not improve from 0.08702\n",
      "Epoch 134/200\n",
      "48892/48892 [==============================] - 70s 1ms/step - loss: 0.0350 - val_loss: 0.1014\n",
      "\n",
      "Epoch 00134: val_loss did not improve from 0.08702\n",
      "Epoch 135/200\n",
      "48892/48892 [==============================] - 70s 1ms/step - loss: 0.0303 - val_loss: 0.0995\n",
      "\n",
      "Epoch 00135: val_loss did not improve from 0.08702\n",
      "Epoch 136/200\n",
      "48892/48892 [==============================] - 70s 1ms/step - loss: 0.0272 - val_loss: 0.0977\n",
      "\n",
      "Epoch 00136: val_loss did not improve from 0.08702\n",
      "Epoch 137/200\n",
      "48892/48892 [==============================] - 70s 1ms/step - loss: 0.0248 - val_loss: 0.0968\n",
      "\n",
      "Epoch 00137: val_loss did not improve from 0.08702\n",
      "Epoch 138/200\n",
      "48892/48892 [==============================] - 70s 1ms/step - loss: 0.0228 - val_loss: 0.0954\n",
      "\n",
      "Epoch 00138: val_loss did not improve from 0.08702\n",
      "Epoch 139/200\n",
      "48892/48892 [==============================] - 70s 1ms/step - loss: 0.0211 - val_loss: 0.0942\n",
      "\n",
      "Epoch 00139: val_loss did not improve from 0.08702\n",
      "Epoch 140/200\n",
      "48892/48892 [==============================] - 70s 1ms/step - loss: 0.0197 - val_loss: 0.0933\n",
      "\n",
      "Epoch 00140: val_loss did not improve from 0.08702\n",
      "Epoch 141/200\n",
      "48892/48892 [==============================] - 71s 1ms/step - loss: 0.0184 - val_loss: 0.0914\n",
      "\n",
      "Epoch 00141: val_loss did not improve from 0.08702\n",
      "Epoch 142/200\n",
      "48892/48892 [==============================] - 71s 1ms/step - loss: 0.0174 - val_loss: 0.0920\n",
      "\n",
      "Epoch 00142: val_loss did not improve from 0.08702\n",
      "Epoch 143/200\n",
      "48892/48892 [==============================] - 71s 1ms/step - loss: 0.0164 - val_loss: 0.0898\n",
      "\n",
      "Epoch 00143: val_loss did not improve from 0.08702\n",
      "Epoch 144/200\n",
      "48892/48892 [==============================] - 71s 1ms/step - loss: 0.0156 - val_loss: 0.0883\n",
      "\n",
      "Epoch 00144: val_loss did not improve from 0.08702\n",
      "Epoch 145/200\n",
      "48892/48892 [==============================] - 71s 1ms/step - loss: 0.0150 - val_loss: 0.0900\n",
      "\n",
      "Epoch 00145: val_loss did not improve from 0.08702\n",
      "Epoch 146/200\n",
      "48892/48892 [==============================] - 70s 1ms/step - loss: 0.0143 - val_loss: 0.0872\n",
      "\n",
      "Epoch 00146: val_loss did not improve from 0.08702\n",
      "Epoch 147/200\n",
      "48892/48892 [==============================] - 71s 1ms/step - loss: 0.0142 - val_loss: 0.0941\n",
      "\n",
      "Epoch 00147: val_loss did not improve from 0.08702\n",
      "Epoch 148/200\n",
      "48892/48892 [==============================] - 70s 1ms/step - loss: 0.0570 - val_loss: 0.1327\n",
      "\n",
      "Epoch 00148: val_loss did not improve from 0.08702\n",
      "Epoch 149/200\n",
      "48892/48892 [==============================] - 70s 1ms/step - loss: 0.0597 - val_loss: 0.1171\n",
      "\n",
      "Epoch 00149: val_loss did not improve from 0.08702\n",
      "Epoch 150/200\n",
      "48892/48892 [==============================] - 70s 1ms/step - loss: 0.0385 - val_loss: 0.1060\n",
      "\n",
      "Epoch 00150: val_loss did not improve from 0.08702\n",
      "Epoch 151/200\n",
      "48892/48892 [==============================] - 70s 1ms/step - loss: 0.0306 - val_loss: 0.0981\n",
      "\n",
      "Epoch 00151: val_loss did not improve from 0.08702\n",
      "Epoch 152/200\n",
      "48892/48892 [==============================] - 70s 1ms/step - loss: 0.0267 - val_loss: 0.0965\n",
      "\n",
      "Epoch 00152: val_loss did not improve from 0.08702\n",
      "Epoch 153/200\n",
      "48892/48892 [==============================] - 70s 1ms/step - loss: 0.0240 - val_loss: 0.0949\n",
      "\n",
      "Epoch 00153: val_loss did not improve from 0.08702\n",
      "Epoch 154/200\n",
      "48892/48892 [==============================] - 70s 1ms/step - loss: 0.0219 - val_loss: 0.0936\n",
      "\n",
      "Epoch 00154: val_loss did not improve from 0.08702\n",
      "Epoch 155/200\n",
      "48892/48892 [==============================] - 70s 1ms/step - loss: 0.0202 - val_loss: 0.0934\n",
      "\n",
      "Epoch 00155: val_loss did not improve from 0.08702\n",
      "Epoch 156/200\n",
      "48892/48892 [==============================] - 70s 1ms/step - loss: 0.0187 - val_loss: 0.0913\n",
      "\n",
      "Epoch 00156: val_loss did not improve from 0.08702\n",
      "Epoch 157/200\n",
      "48892/48892 [==============================] - 70s 1ms/step - loss: 0.0175 - val_loss: 0.0902\n",
      "\n",
      "Epoch 00157: val_loss did not improve from 0.08702\n",
      "Epoch 158/200\n",
      "48892/48892 [==============================] - 70s 1ms/step - loss: 0.0164 - val_loss: 0.0898\n",
      "\n",
      "Epoch 00158: val_loss did not improve from 0.08702\n",
      "Epoch 159/200\n",
      "48892/48892 [==============================] - 70s 1ms/step - loss: 0.0155 - val_loss: 0.0888\n",
      "\n",
      "Epoch 00159: val_loss did not improve from 0.08702\n",
      "Epoch 160/200\n",
      "48892/48892 [==============================] - 71s 1ms/step - loss: 0.0147 - val_loss: 0.0880\n",
      "\n",
      "Epoch 00160: val_loss did not improve from 0.08702\n",
      "Epoch 161/200\n",
      "48892/48892 [==============================] - 71s 1ms/step - loss: 0.0139 - val_loss: 0.0871\n",
      "\n",
      "Epoch 00161: val_loss did not improve from 0.08702\n",
      "Epoch 162/200\n",
      "48892/48892 [==============================] - 71s 1ms/step - loss: 0.0135 - val_loss: 0.0886\n",
      "\n",
      "Epoch 00162: val_loss did not improve from 0.08702\n",
      "Epoch 163/200\n",
      "48892/48892 [==============================] - 70s 1ms/step - loss: 0.0188 - val_loss: 0.1287\n",
      "\n",
      "Epoch 00163: val_loss did not improve from 0.08702\n",
      "Epoch 164/200\n",
      "48892/48892 [==============================] - 70s 1ms/step - loss: 0.0623 - val_loss: 0.1234\n",
      "\n",
      "Epoch 00164: val_loss did not improve from 0.08702\n",
      "Epoch 165/200\n",
      "48892/48892 [==============================] - 70s 1ms/step - loss: 0.0448 - val_loss: 0.1103\n",
      "\n",
      "Epoch 00165: val_loss did not improve from 0.08702\n",
      "Epoch 166/200\n",
      "48892/48892 [==============================] - 70s 1ms/step - loss: 0.0318 - val_loss: 0.1025\n",
      "\n",
      "Epoch 00166: val_loss did not improve from 0.08702\n",
      "Epoch 167/200\n",
      "48892/48892 [==============================] - 70s 1ms/step - loss: 0.0265 - val_loss: 0.0985\n",
      "\n",
      "Epoch 00167: val_loss did not improve from 0.08702\n",
      "Epoch 168/200\n",
      "48892/48892 [==============================] - 70s 1ms/step - loss: 0.0235 - val_loss: 0.0961\n",
      "\n",
      "Epoch 00168: val_loss did not improve from 0.08702\n",
      "Epoch 169/200\n",
      "48892/48892 [==============================] - 70s 1ms/step - loss: 0.0213 - val_loss: 0.0954\n",
      "\n",
      "Epoch 00169: val_loss did not improve from 0.08702\n",
      "Epoch 170/200\n",
      "48892/48892 [==============================] - 70s 1ms/step - loss: 0.0196 - val_loss: 0.0934\n",
      "\n",
      "Epoch 00170: val_loss did not improve from 0.08702\n",
      "Epoch 171/200\n",
      "48892/48892 [==============================] - 70s 1ms/step - loss: 0.0181 - val_loss: 0.0927\n",
      "\n",
      "Epoch 00171: val_loss did not improve from 0.08702\n",
      "Epoch 172/200\n",
      "48892/48892 [==============================] - 70s 1ms/step - loss: 0.0169 - val_loss: 0.0915\n",
      "\n",
      "Epoch 00172: val_loss did not improve from 0.08702\n",
      "Epoch 173/200\n",
      "48892/48892 [==============================] - 71s 1ms/step - loss: 0.0158 - val_loss: 0.0921\n",
      "\n",
      "Epoch 00173: val_loss did not improve from 0.08702\n",
      "Epoch 174/200\n",
      "48892/48892 [==============================] - 70s 1ms/step - loss: 0.0148 - val_loss: 0.0918\n",
      "\n",
      "Epoch 00174: val_loss did not improve from 0.08702\n",
      "Epoch 175/200\n",
      "48892/48892 [==============================] - 70s 1ms/step - loss: 0.0140 - val_loss: 0.0913\n",
      "\n",
      "Epoch 00175: val_loss did not improve from 0.08702\n",
      "Epoch 176/200\n",
      "48892/48892 [==============================] - 70s 1ms/step - loss: 0.0133 - val_loss: 0.0894\n",
      "\n",
      "Epoch 00176: val_loss did not improve from 0.08702\n",
      "Epoch 177/200\n",
      "48892/48892 [==============================] - 70s 1ms/step - loss: 0.0127 - val_loss: 0.0887\n",
      "\n",
      "Epoch 00177: val_loss did not improve from 0.08702\n",
      "Epoch 178/200\n",
      "48892/48892 [==============================] - 70s 1ms/step - loss: 0.0121 - val_loss: 0.0877\n",
      "\n",
      "Epoch 00178: val_loss did not improve from 0.08702\n",
      "Epoch 179/200\n",
      "48892/48892 [==============================] - 70s 1ms/step - loss: 0.0127 - val_loss: 0.0920\n",
      "\n",
      "Epoch 00179: val_loss did not improve from 0.08702\n",
      "Epoch 180/200\n",
      "48892/48892 [==============================] - 70s 1ms/step - loss: 0.0519 - val_loss: 0.1371\n",
      "\n",
      "Epoch 00180: val_loss did not improve from 0.08702\n",
      "Epoch 181/200\n",
      "48892/48892 [==============================] - 70s 1ms/step - loss: 0.0549 - val_loss: 0.1145\n",
      "\n",
      "Epoch 00181: val_loss did not improve from 0.08702\n",
      "Epoch 182/200\n",
      "48892/48892 [==============================] - 70s 1ms/step - loss: 0.0342 - val_loss: 0.0998\n",
      "\n",
      "Epoch 00182: val_loss did not improve from 0.08702\n",
      "Epoch 183/200\n",
      "48892/48892 [==============================] - 70s 1ms/step - loss: 0.0271 - val_loss: 0.0941\n",
      "\n",
      "Epoch 00183: val_loss did not improve from 0.08702\n",
      "Epoch 184/200\n",
      "48892/48892 [==============================] - 70s 1ms/step - loss: 0.0238 - val_loss: 0.0929\n",
      "\n",
      "Epoch 00184: val_loss did not improve from 0.08702\n",
      "Epoch 185/200\n",
      "48892/48892 [==============================] - 70s 1ms/step - loss: 0.0216 - val_loss: 0.0923\n",
      "\n",
      "Epoch 00185: val_loss did not improve from 0.08702\n",
      "Epoch 186/200\n",
      "48892/48892 [==============================] - 70s 1ms/step - loss: 0.0198 - val_loss: 0.0910\n",
      "\n",
      "Epoch 00186: val_loss did not improve from 0.08702\n",
      "Epoch 187/200\n",
      "48892/48892 [==============================] - 70s 1ms/step - loss: 0.0183 - val_loss: 0.0900\n",
      "\n",
      "Epoch 00187: val_loss did not improve from 0.08702\n",
      "Epoch 188/200\n",
      "48892/48892 [==============================] - 70s 1ms/step - loss: 0.0170 - val_loss: 0.0899\n",
      "\n",
      "Epoch 00188: val_loss did not improve from 0.08702\n",
      "Epoch 189/200\n",
      "48892/48892 [==============================] - 70s 1ms/step - loss: 0.0159 - val_loss: 0.0883\n",
      "\n",
      "Epoch 00189: val_loss did not improve from 0.08702\n",
      "Epoch 190/200\n",
      "48892/48892 [==============================] - 70s 1ms/step - loss: 0.0150 - val_loss: 0.0886\n",
      "\n",
      "Epoch 00190: val_loss did not improve from 0.08702\n",
      "Epoch 191/200\n",
      "48892/48892 [==============================] - 70s 1ms/step - loss: 0.0150 - val_loss: 0.0896\n",
      "\n",
      "Epoch 00191: val_loss did not improve from 0.08702\n",
      "Epoch 192/200\n",
      "48892/48892 [==============================] - 70s 1ms/step - loss: 0.0150 - val_loss: 0.0879\n",
      "\n",
      "Epoch 00192: val_loss did not improve from 0.08702\n",
      "Epoch 193/200\n",
      "48892/48892 [==============================] - 70s 1ms/step - loss: 0.0135 - val_loss: 0.0874\n",
      "\n",
      "Epoch 00193: val_loss did not improve from 0.08702\n",
      "Epoch 194/200\n",
      "48892/48892 [==============================] - 70s 1ms/step - loss: 0.0124 - val_loss: 0.0861\n",
      "\n",
      "Epoch 00194: val_loss improved from 0.08702 to 0.08607, saving model to /home/csanc/checkpoints/EN-TF1-20200405-024254\n",
      "Epoch 195/200\n",
      "48892/48892 [==============================] - 70s 1ms/step - loss: 0.0117 - val_loss: 0.0853\n",
      "\n",
      "Epoch 00195: val_loss improved from 0.08607 to 0.08528, saving model to /home/csanc/checkpoints/EN-TF1-20200405-024254\n",
      "Epoch 196/200\n",
      "48892/48892 [==============================] - 70s 1ms/step - loss: 0.0112 - val_loss: 0.0848\n",
      "\n",
      "Epoch 00196: val_loss improved from 0.08528 to 0.08479, saving model to /home/csanc/checkpoints/EN-TF1-20200405-024254\n",
      "Epoch 197/200\n",
      "48892/48892 [==============================] - 71s 1ms/step - loss: 0.0108 - val_loss: 0.0845\n",
      "\n",
      "Epoch 00197: val_loss improved from 0.08479 to 0.08451, saving model to /home/csanc/checkpoints/EN-TF1-20200405-024254\n",
      "Epoch 198/200\n",
      "48892/48892 [==============================] - 70s 1ms/step - loss: 0.0104 - val_loss: 0.0838\n",
      "\n",
      "Epoch 00198: val_loss improved from 0.08451 to 0.08382, saving model to /home/csanc/checkpoints/EN-TF1-20200405-024254\n",
      "Epoch 199/200\n",
      "48892/48892 [==============================] - 70s 1ms/step - loss: 0.0101 - val_loss: 0.0843\n",
      "\n",
      "Epoch 00199: val_loss did not improve from 0.08382\n",
      "Epoch 200/200\n",
      "48892/48892 [==============================] - 70s 1ms/step - loss: 0.0103 - val_loss: 0.1062\n",
      "\n",
      "Epoch 00200: val_loss did not improve from 0.08382\n"
     ]
    }
   ],
   "source": [
    "BATCH = 512\n",
    "EPOCHS = 200\n",
    "\n",
    "history = model.fit(\n",
    "   [left_train, right_train], \n",
    "    labels_train, \n",
    "    batch_size = BATCH, \n",
    "    epochs = EPOCHS,\n",
    "    validation_data = ([left_val, right_val], labels_val),\n",
    "    callbacks=[checkpoints_callback]) #, tensorboard_callback"
   ]
  },
  {
   "cell_type": "code",
   "execution_count": 24,
   "metadata": {
    "colab": {},
    "colab_type": "code",
    "id": "2Vo50GX6luqq",
    "outputId": "fc38880b-de5e-4310-8a84-dac0221d03c5"
   },
   "outputs": [
    {
     "name": "stdout",
     "output_type": "stream",
     "text": [
      "dict_keys(['val_loss', 'loss'])\n"
     ]
    }
   ],
   "source": [
    "print(history.history.keys())"
   ]
  },
  {
   "cell_type": "code",
   "execution_count": 25,
   "metadata": {
    "colab": {},
    "colab_type": "code",
    "id": "SCj7kbzJluqw",
    "outputId": "636cb0ed-8f82-4983-a9df-59522aa868dc"
   },
   "outputs": [
    {
     "data": {
      "image/png": "[encoded data removed]",
      "text/plain": [
       "<Figure size 432x288 with 1 Axes>"
      ]
     },
     "metadata": {
      "needs_background": "light"
     },
     "output_type": "display_data"
    }
   ],
   "source": [
    "plt.plot(history.history['loss'])\n",
    "plt.plot(history.history['val_loss'])\n",
    "plt.title('Training Loss')\n",
    "plt.ylabel('Loss')\n",
    "plt.xlabel('epoch')\n",
    "plt.legend(['train', 'validation'], loc='upper right')\n",
    "plt.show()"
   ]
  },
  {
   "cell_type": "code",
   "execution_count": 28,
   "metadata": {},
   "outputs": [],
   "source": [
    "with open(checkpoint_path + '-history.pkl', 'wb') as f:\n",
    "    pickle.dump(history.history, f)"
   ]
  },
  {
   "cell_type": "markdown",
   "metadata": {
    "colab_type": "text",
    "id": "F6ZBogbfluq2"
   },
   "source": [
    "### Inference"
   ]
  },
  {
   "cell_type": "code",
   "execution_count": 10,
   "metadata": {
    "colab": {},
    "colab_type": "code",
    "id": "lrAmY7_0luq3"
   },
   "outputs": [],
   "source": [
    "def get_accuracy(labels, predicted_scores, threshold=0.5):\n",
    "    predicted = predicted_scores > threshold\n",
    "    predicted = predicted.astype(int).ravel()\n",
    "    return np.round(100*accuracy_score(labels, predicted), 2)"
   ]
  },
  {
   "cell_type": "code",
   "execution_count": 11,
   "metadata": {
    "colab": {},
    "colab_type": "code",
    "id": "XgXbVJwNluq5"
   },
   "outputs": [],
   "source": [
    "def plot_roc_auc(actual, predictions):\n",
    "    fpr, tpr, roc_thresholds = roc_curve(actual, predictions)\n",
    "    auc_value = auc(fpr, tpr)\n",
    "    plt.plot(fpr, tpr, label='AUC  = {:.3f}'.format(auc_value))\n",
    "    plt.xlabel('False positive rate')\n",
    "    plt.ylabel('True positive rate')\n",
    "    plt.title('ROC curve')\n",
    "    plt.legend(loc='best')\n",
    "    plt.show()"
   ]
  },
  {
   "cell_type": "code",
   "execution_count": 12,
   "metadata": {
    "colab": {},
    "colab_type": "code",
    "id": "titSvg6-luq_"
   },
   "outputs": [],
   "source": [
    "def plot_precision_recall(actual, predictions):\n",
    "    precision, recall, pr_thresholds = precision_recall_curve(actual, predictions)\n",
    "    avg_precision = average_precision_score(actual, predictions)\n",
    "    plt.plot(recall, precision, label='Avg Precision  = {:.3f}'.format(avg_precision))\n",
    "    plt.ylabel('Precision')\n",
    "    plt.xlabel('Recall')\n",
    "    plt.title('Precision-Recall curve')\n",
    "    plt.legend(loc='best')\n",
    "    plt.show()"
   ]
  },
  {
   "cell_type": "code",
   "execution_count": 13,
   "metadata": {},
   "outputs": [],
   "source": [
    "checkpoint_path = '/home/csanc/checkpoints/EN-TF1-20200405-024254'"
   ]
  },
  {
   "cell_type": "code",
   "execution_count": 14,
   "metadata": {
    "colab": {},
    "colab_type": "code",
    "id": "Fbjg-Bl2lurC"
   },
   "outputs": [
    {
     "name": "stdout",
     "output_type": "stream",
     "text": [
      "WARNING:tensorflow:From /usr/local/lib/python3.5/dist-packages/tensorflow_core/python/ops/resource_variable_ops.py:1630: calling BaseResourceVariable.__init__ (from tensorflow.python.ops.resource_variable_ops) with constraint is deprecated and will be removed in a future version.\n",
      "Instructions for updating:\n",
      "If using Keras pass *_constraint arguments to layers.\n",
      "WARNING:tensorflow:From /usr/local/lib/python3.5/dist-packages/keras/backend/tensorflow_backend.py:4070: The name tf.nn.max_pool is deprecated. Please use tf.nn.max_pool2d instead.\n",
      "\n"
     ]
    }
   ],
   "source": [
    "model = get_siamese_model()\n",
    "model.load_weights(checkpoint_path)"
   ]
  },
  {
   "cell_type": "markdown",
   "metadata": {
    "colab_type": "text",
    "id": "fNc4F0kUlurG"
   },
   "source": [
    "#### Validation Set"
   ]
  },
  {
   "cell_type": "code",
   "execution_count": 15,
   "metadata": {
    "colab": {},
    "colab_type": "code",
    "id": "14wW6FdBlurH"
   },
   "outputs": [
    {
     "name": "stdout",
     "output_type": "stream",
     "text": [
      "WARNING:tensorflow:From /usr/local/lib/python3.5/dist-packages/keras/backend/tensorflow_backend.py:422: The name tf.global_variables is deprecated. Please use tf.compat.v1.global_variables instead.\n",
      "\n"
     ]
    }
   ],
   "source": [
    "predicted_val = model.predict([left_val, right_val]).ravel()"
   ]
  },
  {
   "cell_type": "code",
   "execution_count": 16,
   "metadata": {
    "colab": {},
    "colab_type": "code",
    "id": "SZbrMx3-lurP",
    "outputId": "527ffb5c-402a-4204-adf2-2aac938a0a76"
   },
   "outputs": [
    {
     "name": "stdout",
     "output_type": "stream",
     "text": [
      "accuracy: 97.54\n"
     ]
    }
   ],
   "source": [
    "#accuracy is a misleading metric here, we should look for the precision-recall\n",
    "#plot and select a threshold that priviledges precision but do not causes a \n",
    "#too low recall\n",
    "print('accuracy:', get_accuracy(labels_val, predicted_val))"
   ]
  },
  {
   "cell_type": "code",
   "execution_count": 17,
   "metadata": {
    "colab": {},
    "colab_type": "code",
    "id": "Szz7Rtphlurb",
    "outputId": "133f23bd-9ec4-4406-bda6-ba29e39e99e2"
   },
   "outputs": [
    {
     "data": {
      "image/png": "[encoded data removed]",
      "text/plain": [
       "<Figure size 432x288 with 1 Axes>"
      ]
     },
     "metadata": {
      "needs_background": "light"
     },
     "output_type": "display_data"
    }
   ],
   "source": [
    "plot_roc_auc(labels_val, predicted_val)"
   ]
  },
  {
   "cell_type": "code",
   "execution_count": 18,
   "metadata": {
    "colab": {},
    "colab_type": "code",
    "id": "lfFAbYD0lurd",
    "outputId": "2c274f07-91e9-42ba-f390-bc9b3a42f2e5"
   },
   "outputs": [
    {
     "data": {
      "image/png": "[encoded data removed]",
      "text/plain": [
       "<Figure size 432x288 with 1 Axes>"
      ]
     },
     "metadata": {
      "needs_background": "light"
     },
     "output_type": "display_data"
    }
   ],
   "source": [
    "plot_precision_recall(labels_val, predicted_val)"
   ]
  },
  {
   "cell_type": "markdown",
   "metadata": {
    "colab_type": "text",
    "id": "DeEbwXFGlurf"
   },
   "source": [
    "#### Test Set"
   ]
  },
  {
   "cell_type": "code",
   "execution_count": 19,
   "metadata": {
    "colab": {},
    "colab_type": "code",
    "id": "ulIHP593lurf",
    "outputId": "1ed56fcc-8e0b-4dd8-ceb1-43cbe8a7f4fa"
   },
   "outputs": [
    {
     "data": {
      "text/plain": [
       "['Xander_English_2.mp3',\n",
       " 'Rose_Portuguese_3.m4a',\n",
       " 'Other_Spanish_4.mp3',\n",
       " 'Xander_English_5.m4a',\n",
       " 'Xander_English_3.mp3',\n",
       " 'Other_Spanish_5.mp3',\n",
       " 'Xander_English_4.mp3',\n",
       " 'Carlos_English_1.m4a',\n",
       " 'Rose_Portuguese_1.m4a',\n",
       " 'Other_Spanish_2.mp3',\n",
       " 'Carlos_English_2.m4a',\n",
       " 'Xander_English_1.mp3',\n",
       " 'Other_Spanish_3.mp3',\n",
       " 'Carlos_Portuguese_2.m4a',\n",
       " 'Rose_Portuguese_2.m4a',\n",
       " 'Rose_Portuguese_4.m4a',\n",
       " 'Carlos_Portuguese_1.m4a',\n",
       " 'Carlos_Portuguese_3.m4a',\n",
       " 'Xander_English_6.m4a',\n",
       " 'Other_Spanish_1.mp3',\n",
       " 'Carlos_English_3.m4a',\n",
       " 'Rose_Portuguese_5.m4a']"
      ]
     },
     "execution_count": 19,
     "metadata": {},
     "output_type": "execute_result"
    }
   ],
   "source": [
    "test_filenames = os.listdir(TEST_CLIPS)\n",
    "test_filenames"
   ]
  },
  {
   "cell_type": "code",
   "execution_count": 20,
   "metadata": {
    "colab": {},
    "colab_type": "code",
    "id": "8sFv5Vc0lurg",
    "outputId": "c1f60016-812a-47ca-f84f-337e07930ac0"
   },
   "outputs": [
    {
     "data": {
      "text/plain": [
       "['Xander_English_2.mp3', 'Rose_Portuguese_3.m4a', 0]"
      ]
     },
     "execution_count": 20,
     "metadata": {},
     "output_type": "execute_result"
    }
   ],
   "source": [
    "test_pairs = []\n",
    "for a, b in itertools.combinations(test_filenames, 2):\n",
    "    test_pairs.append([a, b, int(a[0:a.find('_')] == b[0:b.find('_')])])\n",
    "test_pairs[0]"
   ]
  },
  {
   "cell_type": "code",
   "execution_count": 21,
   "metadata": {
    "colab": {},
    "colab_type": "code",
    "id": "p5mmU1Bgluri"
   },
   "outputs": [],
   "source": [
    "def get_test_dataset():\n",
    "    left = []\n",
    "    right = []\n",
    "    labels = [] \n",
    "\n",
    "    test_clips = {}\n",
    "    for r in os.listdir(TEST_CLIPS):  \n",
    "        test_path = TEST_CLIPS + r\n",
    "        test_clips.update({r: get_clip(test_path)})\n",
    "\n",
    "   \n",
    "    for pair in test_pairs:       \n",
    "        left.append([test_clips.get(pair[0]).astype(np.float32)]) \n",
    "        right.append([test_clips.get(pair[1]).astype(np.float32)])\n",
    "        labels.append(np.float32(pair[2]))        \n",
    "    \n",
    "    left = np.array(left).astype(np.float32)\n",
    "    right = np.array(right).astype(np.float32)\n",
    "    labels = np.array(labels).astype(np.float32)\n",
    "\n",
    "    left = np.rollaxis(np.rollaxis(left, 3, 1), 3, 1)\n",
    "    right = np.rollaxis(np.rollaxis(right, 3, 1), 3, 1)\n",
    "\n",
    "    return left, right, labels"
   ]
  },
  {
   "cell_type": "code",
   "execution_count": 22,
   "metadata": {
    "colab": {},
    "colab_type": "code",
    "id": "rD7PTPFBlurl",
    "outputId": "a1d5e406-58dc-466a-b567-b591e6dc25c1"
   },
   "outputs": [
    {
     "data": {
      "text/plain": [
       "((231, 20, 400, 1), (231, 20, 400, 1), (231,))"
      ]
     },
     "execution_count": 22,
     "metadata": {},
     "output_type": "execute_result"
    }
   ],
   "source": [
    "test_left, test_right, labels_test = get_test_dataset()\n",
    "test_left.shape, test_right.shape, labels_test.shape"
   ]
  },
  {
   "cell_type": "code",
   "execution_count": 23,
   "metadata": {
    "colab": {},
    "colab_type": "code",
    "id": "AAK2mnCzluro"
   },
   "outputs": [],
   "source": [
    "predicted_test = model.predict([test_left, test_right]).ravel()"
   ]
  },
  {
   "cell_type": "code",
   "execution_count": 24,
   "metadata": {
    "colab": {},
    "colab_type": "code",
    "id": "HI1ZoWEflurq",
    "outputId": "1c566d98-f0b1-4371-c9f5-df8bdeb82154"
   },
   "outputs": [
    {
     "name": "stdout",
     "output_type": "stream",
     "text": [
      "accuracy: 88.74\n"
     ]
    }
   ],
   "source": [
    "print('accuracy:', get_accuracy(labels_test, predicted_test))"
   ]
  },
  {
   "cell_type": "code",
   "execution_count": 25,
   "metadata": {
    "colab": {},
    "colab_type": "code",
    "id": "zgw_ps28lurr",
    "outputId": "fceedd05-c584-49eb-f1a5-def474aff621"
   },
   "outputs": [
    {
     "data": {
      "image/png": "[encoded data removed]",
      "text/plain": [
       "<Figure size 432x288 with 1 Axes>"
      ]
     },
     "metadata": {
      "needs_background": "light"
     },
     "output_type": "display_data"
    }
   ],
   "source": [
    "plot_roc_auc(labels_test, predicted_test)"
   ]
  },
  {
   "cell_type": "code",
   "execution_count": 26,
   "metadata": {
    "colab": {},
    "colab_type": "code",
    "id": "Sdcei79mlurs",
    "outputId": "b6d7ea58-3ac4-4ff3-e548-a06cc935e697"
   },
   "outputs": [
    {
     "data": {
      "image/png": "[encoded data removed]",
      "text/plain": [
       "<Figure size 432x288 with 1 Axes>"
      ]
     },
     "metadata": {
      "needs_background": "light"
     },
     "output_type": "display_data"
    }
   ],
   "source": [
    "plot_precision_recall(labels_test, predicted_test)"
   ]
  },
  {
   "cell_type": "code",
   "execution_count": 27,
   "metadata": {
    "colab": {},
    "colab_type": "code",
    "id": "49wQxPi0lurw",
    "outputId": "792a20b4-61e8-401b-f4d1-7f96ecef5237"
   },
   "outputs": [
    {
     "data": {
      "text/html": [
       "<div>\n",
       "<style scoped>\n",
       "    .dataframe tbody tr th:only-of-type {\n",
       "        vertical-align: middle;\n",
       "    }\n",
       "\n",
       "    .dataframe tbody tr th {\n",
       "        vertical-align: top;\n",
       "    }\n",
       "\n",
       "    .dataframe thead th {\n",
       "        text-align: right;\n",
       "    }\n",
       "</style>\n",
       "<table border=\"1\" class=\"dataframe\">\n",
       "  <thead>\n",
       "    <tr style=\"text-align: right;\">\n",
       "      <th></th>\n",
       "      <th>voice_a</th>\n",
       "      <th>voice_b</th>\n",
       "      <th>label</th>\n",
       "      <th>scores</th>\n",
       "    </tr>\n",
       "  </thead>\n",
       "  <tbody>\n",
       "    <tr>\n",
       "      <th>0</th>\n",
       "      <td>Xander_English_2.mp3</td>\n",
       "      <td>Rose_Portuguese_3.m4a</td>\n",
       "      <td>0</td>\n",
       "      <td>1.788139e-07</td>\n",
       "    </tr>\n",
       "    <tr>\n",
       "      <th>1</th>\n",
       "      <td>Xander_English_2.mp3</td>\n",
       "      <td>Other_Spanish_4.mp3</td>\n",
       "      <td>0</td>\n",
       "      <td>4.495302e-02</td>\n",
       "    </tr>\n",
       "    <tr>\n",
       "      <th>2</th>\n",
       "      <td>Xander_English_2.mp3</td>\n",
       "      <td>Xander_English_5.m4a</td>\n",
       "      <td>1</td>\n",
       "      <td>9.266121e-01</td>\n",
       "    </tr>\n",
       "    <tr>\n",
       "      <th>3</th>\n",
       "      <td>Xander_English_2.mp3</td>\n",
       "      <td>Xander_English_3.mp3</td>\n",
       "      <td>1</td>\n",
       "      <td>1.551955e-01</td>\n",
       "    </tr>\n",
       "    <tr>\n",
       "      <th>4</th>\n",
       "      <td>Xander_English_2.mp3</td>\n",
       "      <td>Other_Spanish_5.mp3</td>\n",
       "      <td>0</td>\n",
       "      <td>1.749396e-05</td>\n",
       "    </tr>\n",
       "  </tbody>\n",
       "</table>\n",
       "</div>"
      ],
      "text/plain": [
       "                voice_a                voice_b  label        scores\n",
       "0  Xander_English_2.mp3  Rose_Portuguese_3.m4a      0  1.788139e-07\n",
       "1  Xander_English_2.mp3    Other_Spanish_4.mp3      0  4.495302e-02\n",
       "2  Xander_English_2.mp3   Xander_English_5.m4a      1  9.266121e-01\n",
       "3  Xander_English_2.mp3   Xander_English_3.mp3      1  1.551955e-01\n",
       "4  Xander_English_2.mp3    Other_Spanish_5.mp3      0  1.749396e-05"
      ]
     },
     "execution_count": 27,
     "metadata": {},
     "output_type": "execute_result"
    }
   ],
   "source": [
    "test_df = pd.DataFrame(test_pairs, columns=['voice_a', 'voice_b', 'label'])\n",
    "test_df['scores'] = predicted_test\n",
    "test_df.head()"
   ]
  },
  {
   "cell_type": "code",
   "execution_count": 28,
   "metadata": {
    "colab": {},
    "colab_type": "code",
    "id": "h51knnb4lury",
    "outputId": "04080d16-a797-46f2-9ef3-679014a9a194"
   },
   "outputs": [
    {
     "data": {
      "text/html": [
       "<div>\n",
       "<style scoped>\n",
       "    .dataframe tbody tr th:only-of-type {\n",
       "        vertical-align: middle;\n",
       "    }\n",
       "\n",
       "    .dataframe tbody tr th {\n",
       "        vertical-align: top;\n",
       "    }\n",
       "\n",
       "    .dataframe thead th {\n",
       "        text-align: right;\n",
       "    }\n",
       "</style>\n",
       "<table border=\"1\" class=\"dataframe\">\n",
       "  <thead>\n",
       "    <tr style=\"text-align: right;\">\n",
       "      <th></th>\n",
       "      <th>voice_a</th>\n",
       "      <th>voice_b</th>\n",
       "      <th>label</th>\n",
       "      <th>scores</th>\n",
       "    </tr>\n",
       "  </thead>\n",
       "  <tbody>\n",
       "    <tr>\n",
       "      <th>21</th>\n",
       "      <td>Rose_Portuguese_3.m4a</td>\n",
       "      <td>Other_Spanish_4.mp3</td>\n",
       "      <td>0</td>\n",
       "      <td>0.818458</td>\n",
       "    </tr>\n",
       "    <tr>\n",
       "      <th>24</th>\n",
       "      <td>Rose_Portuguese_3.m4a</td>\n",
       "      <td>Other_Spanish_5.mp3</td>\n",
       "      <td>0</td>\n",
       "      <td>0.918263</td>\n",
       "    </tr>\n",
       "    <tr>\n",
       "      <th>42</th>\n",
       "      <td>Other_Spanish_4.mp3</td>\n",
       "      <td>Xander_English_3.mp3</td>\n",
       "      <td>0</td>\n",
       "      <td>0.836386</td>\n",
       "    </tr>\n",
       "    <tr>\n",
       "      <th>44</th>\n",
       "      <td>Other_Spanish_4.mp3</td>\n",
       "      <td>Xander_English_4.mp3</td>\n",
       "      <td>0</td>\n",
       "      <td>0.500732</td>\n",
       "    </tr>\n",
       "    <tr>\n",
       "      <th>46</th>\n",
       "      <td>Other_Spanish_4.mp3</td>\n",
       "      <td>Rose_Portuguese_1.m4a</td>\n",
       "      <td>0</td>\n",
       "      <td>0.900050</td>\n",
       "    </tr>\n",
       "    <tr>\n",
       "      <th>52</th>\n",
       "      <td>Other_Spanish_4.mp3</td>\n",
       "      <td>Rose_Portuguese_2.m4a</td>\n",
       "      <td>0</td>\n",
       "      <td>0.998867</td>\n",
       "    </tr>\n",
       "    <tr>\n",
       "      <th>53</th>\n",
       "      <td>Other_Spanish_4.mp3</td>\n",
       "      <td>Rose_Portuguese_4.m4a</td>\n",
       "      <td>0</td>\n",
       "      <td>0.995651</td>\n",
       "    </tr>\n",
       "    <tr>\n",
       "      <th>59</th>\n",
       "      <td>Other_Spanish_4.mp3</td>\n",
       "      <td>Rose_Portuguese_5.m4a</td>\n",
       "      <td>0</td>\n",
       "      <td>0.995770</td>\n",
       "    </tr>\n",
       "    <tr>\n",
       "      <th>80</th>\n",
       "      <td>Xander_English_3.mp3</td>\n",
       "      <td>Carlos_English_1.m4a</td>\n",
       "      <td>0</td>\n",
       "      <td>0.601949</td>\n",
       "    </tr>\n",
       "    <tr>\n",
       "      <th>112</th>\n",
       "      <td>Xander_English_4.mp3</td>\n",
       "      <td>Rose_Portuguese_1.m4a</td>\n",
       "      <td>0</td>\n",
       "      <td>0.597183</td>\n",
       "    </tr>\n",
       "    <tr>\n",
       "      <th>143</th>\n",
       "      <td>Rose_Portuguese_1.m4a</td>\n",
       "      <td>Other_Spanish_3.mp3</td>\n",
       "      <td>0</td>\n",
       "      <td>0.510790</td>\n",
       "    </tr>\n",
       "    <tr>\n",
       "      <th>187</th>\n",
       "      <td>Other_Spanish_3.mp3</td>\n",
       "      <td>Rose_Portuguese_2.m4a</td>\n",
       "      <td>0</td>\n",
       "      <td>0.799788</td>\n",
       "    </tr>\n",
       "    <tr>\n",
       "      <th>207</th>\n",
       "      <td>Rose_Portuguese_2.m4a</td>\n",
       "      <td>Other_Spanish_1.mp3</td>\n",
       "      <td>0</td>\n",
       "      <td>0.852514</td>\n",
       "    </tr>\n",
       "  </tbody>\n",
       "</table>\n",
       "</div>"
      ],
      "text/plain": [
       "                   voice_a                voice_b  label    scores\n",
       "21   Rose_Portuguese_3.m4a    Other_Spanish_4.mp3      0  0.818458\n",
       "24   Rose_Portuguese_3.m4a    Other_Spanish_5.mp3      0  0.918263\n",
       "42     Other_Spanish_4.mp3   Xander_English_3.mp3      0  0.836386\n",
       "44     Other_Spanish_4.mp3   Xander_English_4.mp3      0  0.500732\n",
       "46     Other_Spanish_4.mp3  Rose_Portuguese_1.m4a      0  0.900050\n",
       "52     Other_Spanish_4.mp3  Rose_Portuguese_2.m4a      0  0.998867\n",
       "53     Other_Spanish_4.mp3  Rose_Portuguese_4.m4a      0  0.995651\n",
       "59     Other_Spanish_4.mp3  Rose_Portuguese_5.m4a      0  0.995770\n",
       "80    Xander_English_3.mp3   Carlos_English_1.m4a      0  0.601949\n",
       "112   Xander_English_4.mp3  Rose_Portuguese_1.m4a      0  0.597183\n",
       "143  Rose_Portuguese_1.m4a    Other_Spanish_3.mp3      0  0.510790\n",
       "187    Other_Spanish_3.mp3  Rose_Portuguese_2.m4a      0  0.799788\n",
       "207  Rose_Portuguese_2.m4a    Other_Spanish_1.mp3      0  0.852514"
      ]
     },
     "execution_count": 28,
     "metadata": {},
     "output_type": "execute_result"
    }
   ],
   "source": [
    "false_positives = (test_df['scores'] > 0.5) & (test_df['label'] == 0)\n",
    "test_df[false_positives]"
   ]
  },
  {
   "cell_type": "code",
   "execution_count": 29,
   "metadata": {
    "colab": {},
    "colab_type": "code",
    "id": "8AJsvqbjlurz",
    "outputId": "8a0fb27c-9679-4756-e5b9-69be63a1418c"
   },
   "outputs": [
    {
     "data": {
      "text/html": [
       "<div>\n",
       "<style scoped>\n",
       "    .dataframe tbody tr th:only-of-type {\n",
       "        vertical-align: middle;\n",
       "    }\n",
       "\n",
       "    .dataframe tbody tr th {\n",
       "        vertical-align: top;\n",
       "    }\n",
       "\n",
       "    .dataframe thead th {\n",
       "        text-align: right;\n",
       "    }\n",
       "</style>\n",
       "<table border=\"1\" class=\"dataframe\">\n",
       "  <thead>\n",
       "    <tr style=\"text-align: right;\">\n",
       "      <th></th>\n",
       "      <th>voice_a</th>\n",
       "      <th>voice_b</th>\n",
       "      <th>label</th>\n",
       "      <th>scores</th>\n",
       "    </tr>\n",
       "  </thead>\n",
       "  <tbody>\n",
       "    <tr>\n",
       "      <th>3</th>\n",
       "      <td>Xander_English_2.mp3</td>\n",
       "      <td>Xander_English_3.mp3</td>\n",
       "      <td>1</td>\n",
       "      <td>0.155196</td>\n",
       "    </tr>\n",
       "    <tr>\n",
       "      <th>67</th>\n",
       "      <td>Xander_English_5.m4a</td>\n",
       "      <td>Xander_English_1.mp3</td>\n",
       "      <td>1</td>\n",
       "      <td>0.427906</td>\n",
       "    </tr>\n",
       "    <tr>\n",
       "      <th>91</th>\n",
       "      <td>Xander_English_3.mp3</td>\n",
       "      <td>Xander_English_6.m4a</td>\n",
       "      <td>1</td>\n",
       "      <td>0.172370</td>\n",
       "    </tr>\n",
       "    <tr>\n",
       "      <th>98</th>\n",
       "      <td>Other_Spanish_5.mp3</td>\n",
       "      <td>Other_Spanish_2.mp3</td>\n",
       "      <td>1</td>\n",
       "      <td>0.156061</td>\n",
       "    </tr>\n",
       "    <tr>\n",
       "      <th>101</th>\n",
       "      <td>Other_Spanish_5.mp3</td>\n",
       "      <td>Other_Spanish_3.mp3</td>\n",
       "      <td>1</td>\n",
       "      <td>0.296727</td>\n",
       "    </tr>\n",
       "    <tr>\n",
       "      <th>134</th>\n",
       "      <td>Carlos_English_1.m4a</td>\n",
       "      <td>Carlos_Portuguese_1.m4a</td>\n",
       "      <td>1</td>\n",
       "      <td>0.000052</td>\n",
       "    </tr>\n",
       "    <tr>\n",
       "      <th>138</th>\n",
       "      <td>Carlos_English_1.m4a</td>\n",
       "      <td>Carlos_English_3.m4a</td>\n",
       "      <td>1</td>\n",
       "      <td>0.021250</td>\n",
       "    </tr>\n",
       "    <tr>\n",
       "      <th>167</th>\n",
       "      <td>Carlos_English_2.m4a</td>\n",
       "      <td>Carlos_Portuguese_2.m4a</td>\n",
       "      <td>1</td>\n",
       "      <td>0.112935</td>\n",
       "    </tr>\n",
       "    <tr>\n",
       "      <th>174</th>\n",
       "      <td>Carlos_English_2.m4a</td>\n",
       "      <td>Carlos_English_3.m4a</td>\n",
       "      <td>1</td>\n",
       "      <td>0.120106</td>\n",
       "    </tr>\n",
       "    <tr>\n",
       "      <th>198</th>\n",
       "      <td>Carlos_Portuguese_2.m4a</td>\n",
       "      <td>Carlos_Portuguese_3.m4a</td>\n",
       "      <td>1</td>\n",
       "      <td>0.000082</td>\n",
       "    </tr>\n",
       "    <tr>\n",
       "      <th>215</th>\n",
       "      <td>Rose_Portuguese_4.m4a</td>\n",
       "      <td>Rose_Portuguese_5.m4a</td>\n",
       "      <td>1</td>\n",
       "      <td>0.089507</td>\n",
       "    </tr>\n",
       "    <tr>\n",
       "      <th>216</th>\n",
       "      <td>Carlos_Portuguese_1.m4a</td>\n",
       "      <td>Carlos_Portuguese_3.m4a</td>\n",
       "      <td>1</td>\n",
       "      <td>0.004527</td>\n",
       "    </tr>\n",
       "    <tr>\n",
       "      <th>223</th>\n",
       "      <td>Carlos_Portuguese_3.m4a</td>\n",
       "      <td>Carlos_English_3.m4a</td>\n",
       "      <td>1</td>\n",
       "      <td>0.000867</td>\n",
       "    </tr>\n",
       "  </tbody>\n",
       "</table>\n",
       "</div>"
      ],
      "text/plain": [
       "                     voice_a                  voice_b  label    scores\n",
       "3       Xander_English_2.mp3     Xander_English_3.mp3      1  0.155196\n",
       "67      Xander_English_5.m4a     Xander_English_1.mp3      1  0.427906\n",
       "91      Xander_English_3.mp3     Xander_English_6.m4a      1  0.172370\n",
       "98       Other_Spanish_5.mp3      Other_Spanish_2.mp3      1  0.156061\n",
       "101      Other_Spanish_5.mp3      Other_Spanish_3.mp3      1  0.296727\n",
       "134     Carlos_English_1.m4a  Carlos_Portuguese_1.m4a      1  0.000052\n",
       "138     Carlos_English_1.m4a     Carlos_English_3.m4a      1  0.021250\n",
       "167     Carlos_English_2.m4a  Carlos_Portuguese_2.m4a      1  0.112935\n",
       "174     Carlos_English_2.m4a     Carlos_English_3.m4a      1  0.120106\n",
       "198  Carlos_Portuguese_2.m4a  Carlos_Portuguese_3.m4a      1  0.000082\n",
       "215    Rose_Portuguese_4.m4a    Rose_Portuguese_5.m4a      1  0.089507\n",
       "216  Carlos_Portuguese_1.m4a  Carlos_Portuguese_3.m4a      1  0.004527\n",
       "223  Carlos_Portuguese_3.m4a     Carlos_English_3.m4a      1  0.000867"
      ]
     },
     "execution_count": 29,
     "metadata": {},
     "output_type": "execute_result"
    }
   ],
   "source": [
    "false_negatives = (test_df['scores'] < 0.5) & (test_df['label'] == 1)\n",
    "test_df[false_negatives]"
   ]
  },
  {
   "cell_type": "markdown",
   "metadata": {
    "colab_type": "text",
    "id": "nwPTqSfMlur1"
   },
   "source": [
    "### Production"
   ]
  },
  {
   "cell_type": "code",
   "execution_count": null,
   "metadata": {
    "colab": {},
    "colab_type": "code",
    "id": "6qNyjV4hlur1"
   },
   "outputs": [],
   "source": [
    "PROD_PATH = DATA_PATH + 'production/'\n",
    "REF_CLIP = PROD_PATH + 'ref_clip.wav'\n",
    "REF_CLIPS_PICKLE = PROD_PATH + 'ref_clips.pickle'\n",
    "BEST_MODEL_PATH = DATA_PATH + 'production/model/'\n",
    "SCORE_THRESHOLD = 0.5\n",
    "REF_CLIPS = None\n",
    "MODEL = None"
   ]
  },
  {
   "cell_type": "code",
   "execution_count": null,
   "metadata": {
    "colab": {},
    "colab_type": "code",
    "id": "xAsaE9CPlur2"
   },
   "outputs": [],
   "source": [
    "def get_clips(clip_path, recorded_byte_array, min_size=1):    \n",
    "    \"\"\"\n",
    "    Splits a long clip in multiple smaller clips with MFCC length of 400. \n",
    "    Also discards the final part of the audio file the is not a multiple of 400.\n",
    "    \"\"\"\n",
    "    \n",
    "    #TODO: this function should also work with a recorded byte array\n",
    "    # since we don't need to save the user's voice everytime they try to open the door\n",
    "    \n",
    "    pad_length = 400\n",
    "    \n",
    "    wave, sr = librosa.load(clip_path, mono=True)\n",
    "    wave = wave[::3]\n",
    "    mfcc = librosa.feature.mfcc(wave, sr=sr).astype(np.float32)\n",
    "        \n",
    "    n_clips = int(mfcc.shape[1] / pad_length)\n",
    "    \n",
    "    if (n_clips < min_size):\n",
    "        raise Exception('Audio file too short. Expected MFCC equal or greater than {}, but was: {}'.format(\n",
    "            min_size*400, mfcc.shape[1]))\n",
    "    \n",
    "    # cut the recording in smaller clips\n",
    "    ref_clips = []\n",
    "    for i in range(1, n_clips+1):\n",
    "        ref_clips.append(mfcc[:, (i-1)*pad_length:i*pad_length])\n",
    "        \n",
    "    # REMOVED: a tiny part could lead to a bad score\n",
    "    # add the last clip and fill with zeros up to 400\n",
    "    #last = mfcc[:, n_clips*pad_length:mfcc.shape[1]]\n",
    "    #if(last.shape[1] > 0): \n",
    "    #    ref_clips.append(np.pad(\n",
    "    #        last, \n",
    "    #        pad_width = ((0, 0), (0, pad_length - last.shape[1])),\n",
    "    #        mode = 'constant'))\n",
    "    \n",
    "    return ref_clips\n",
    "    "
   ]
  },
  {
   "cell_type": "code",
   "execution_count": null,
   "metadata": {
    "colab": {},
    "colab_type": "code",
    "id": "wV6dL8zqlur4"
   },
   "outputs": [],
   "source": [
    "def setup_voice_system():   \n",
    "    \"\"\"\n",
    "    Records the voice of the user, splits the voice in small clippings and saves\n",
    "    the clippings for later inference.\n",
    "    \"\"\"\n",
    "    \n",
    "    #TODO\n",
    "    #record the voice and save the file in path REF_CLIP\n",
    "    #if time allows, multiple users to open the door\n",
    "    \n",
    "    # expect at least 3 clips from reference recording \n",
    "    ref_clips = get_clips(REF_CLIP, 3)\n",
    "    \n",
    "    with open(REF_CLIPS_PICKLE, 'wb') as handle: \n",
    "        pickle.dump(ref_clips, handle)   "
   ]
  },
  {
   "cell_type": "code",
   "execution_count": null,
   "metadata": {
    "colab": {},
    "colab_type": "code",
    "id": "QTIK91GVlur6"
   },
   "outputs": [],
   "source": [
    "def start_voice_system():\n",
    "    \"\"\"\n",
    "    Loads the reference clippings and the weights of the model.\n",
    "    \"\"\"\n",
    "    \n",
    "    try:\n",
    "        with open(REF_CLIPS_PICKLE, 'rb') as handle:\n",
    "            REF_CLIPS = pickle.load(handle) \n",
    "    except Exception as e:\n",
    "        raise Exception('Could not find reference voice clips. Was the system set up?')\n",
    "\n",
    "        \n",
    "    MODEL = models.load_model(BEST_MODEL_PATH)    \n",
    "        \n",
    "    try:\n",
    "        with open(REF_CLIPS_PICKLE, 'rb') as handle:\n",
    "            ref_clips = pickle.load(handle) \n",
    "    except Exception as e:\n",
    "        raise Exception('Could not find reference voice clips. Was the system set up?')\n",
    "        \n",
    "    return ref_clips, model\n",
    "    "
   ]
  },
  {
   "cell_type": "code",
   "execution_count": null,
   "metadata": {
    "colab": {},
    "colab_type": "code",
    "id": "erLCbg9klur7"
   },
   "outputs": [],
   "source": [
    "def get_user_voice():\n",
    "    \"\"\"\n",
    "    Record the user voice anr return smaller processed MFCC clippings\n",
    "    \"\"\"\n",
    "    # TODO\n",
    "    recorded_byte_array = np.array()\n",
    "    \n",
    "    return get_clips(None, recorded_byte_array, min_size=1):   \n",
    "    "
   ]
  },
  {
   "cell_type": "code",
   "execution_count": null,
   "metadata": {
    "colab": {},
    "colab_type": "code",
    "id": "-2YSGETzlur-"
   },
   "outputs": [],
   "source": [
    "def get_inference_dataset(actual_clips):\n",
    "    left = []\n",
    "    right = []\n",
    "    \n",
    "    for ref in REF_CLIPS:\n",
    "        for actual in actual_clips:\n",
    "            left.append([ref]) \n",
    "            right.append([actual]) \n",
    "    \n",
    "    left = np.array(left).astype(np.float32)\n",
    "    right = np.array(right).astype(np.float32)\n",
    "\n",
    "    left = np.rollaxis(np.rollaxis(left, 3, 1), 3, 1)\n",
    "    right = np.rollaxis(np.rollaxis(right, 3, 1), 3, 1)\n",
    "\n",
    "    return left, right"
   ]
  },
  {
   "cell_type": "code",
   "execution_count": null,
   "metadata": {
    "colab": {},
    "colab_type": "code",
    "id": "29Fwpce-lusA"
   },
   "outputs": [],
   "source": [
    "def speech_unlock(left, right):\n",
    "    return np.mean(MODEL.predict([left, right])) > SCORE_THRESHOLD"
   ]
  },
  {
   "cell_type": "code",
   "execution_count": null,
   "metadata": {
    "colab": {},
    "colab_type": "code",
    "id": "1sZZtZHilusD"
   },
   "outputs": [],
   "source": [
    "# main.py in TX2 should contain something like this\n",
    "\n",
    "setup_voice_system()\n",
    "\n",
    "start_voice_system()\n",
    "\n",
    "actual_clips = get_user_voice()\n",
    "\n",
    "left, right = get_inference_dataset(ref_clips, actual_clips)\n",
    "\n",
    "unlock = speech_unlock(left, right)\n",
    "\n",
    "if (unlock):\n",
    "    #do something"
   ]
  },
  {
   "cell_type": "code",
   "execution_count": null,
   "metadata": {
    "colab": {},
    "colab_type": "code",
    "id": "4Lmc1CYRlusG"
   },
   "outputs": [],
   "source": []
  }
 ],
 "metadata": {
  "accelerator": "GPU",
  "colab": {
   "name": "OneShot_Speech_Carlos_EN.ipynb",
   "provenance": []
  },
  "kernelspec": {
   "display_name": "Python 3",
   "language": "python",
   "name": "python3"
  },
  "language_info": {
   "codemirror_mode": {
    "name": "ipython",
    "version": 3
   },
   "file_extension": ".py",
   "mimetype": "text/x-python",
   "name": "python",
   "nbconvert_exporter": "python",
   "pygments_lexer": "ipython3",
   "version": "3.5.3"
  }
 },
 "nbformat": 4,
 "nbformat_minor": 1
}