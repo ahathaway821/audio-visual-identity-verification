{
 "cells": [
  {
   "cell_type": "markdown",
   "metadata": {},
   "source": [
    "### Housekeeping"
   ]
  },
  {
   "cell_type": "code",
   "execution_count": 134,
   "metadata": {},
   "outputs": [],
   "source": [
    "import pandas as pd\n",
    "import random\n",
    "import numpy as np\n",
    "import librosa\n",
    "import glob\n",
    "from tqdm.notebook import tqdm\n",
    "import matplotlib.pyplot as plt"
   ]
  },
  {
   "cell_type": "code",
   "execution_count": 2,
   "metadata": {},
   "outputs": [],
   "source": [
    "DATA_PATH = \"D:\\\\Datasets\\\\mozilla\\\\\"\n",
    "CLIPS_PATH = \"D:\\\\Datasets\\\\mozilla\\\\clips\\\\\"\n",
    "TRAIN_DATA = \"validated.tsv\""
   ]
  },
  {
   "cell_type": "markdown",
   "metadata": {},
   "source": [
    "### EDA"
   ]
  },
  {
   "cell_type": "code",
   "execution_count": 3,
   "metadata": {},
   "outputs": [],
   "source": [
    "df = pd.read_csv(DATA_PATH + TRAIN_DATA, sep='\\t')"
   ]
  },
  {
   "cell_type": "code",
   "execution_count": 4,
   "metadata": {},
   "outputs": [
    {
     "data": {
      "text/html": [
       "<div>\n",
       "<style scoped>\n",
       "    .dataframe tbody tr th:only-of-type {\n",
       "        vertical-align: middle;\n",
       "    }\n",
       "\n",
       "    .dataframe tbody tr th {\n",
       "        vertical-align: top;\n",
       "    }\n",
       "\n",
       "    .dataframe thead th {\n",
       "        text-align: right;\n",
       "    }\n",
       "</style>\n",
       "<table border=\"1\" class=\"dataframe\">\n",
       "  <thead>\n",
       "    <tr style=\"text-align: right;\">\n",
       "      <th></th>\n",
       "      <th>client_id</th>\n",
       "      <th>path</th>\n",
       "      <th>sentence</th>\n",
       "      <th>up_votes</th>\n",
       "      <th>down_votes</th>\n",
       "      <th>age</th>\n",
       "      <th>gender</th>\n",
       "      <th>accent</th>\n",
       "    </tr>\n",
       "  </thead>\n",
       "  <tbody>\n",
       "    <tr>\n",
       "      <th>0</th>\n",
       "      <td>235bfe76c2f0aa72f8f217c70ade4fd10d7b8aa2f9707a...</td>\n",
       "      <td>common_voice_pt_19484624.mp3</td>\n",
       "      <td>Pedir dinheiro emprestado às pessoas da aldeia</td>\n",
       "      <td>2</td>\n",
       "      <td>1</td>\n",
       "      <td>NaN</td>\n",
       "      <td>NaN</td>\n",
       "      <td>NaN</td>\n",
       "    </tr>\n",
       "    <tr>\n",
       "      <th>1</th>\n",
       "      <td>25b96b97ba7e13e1cdb7696ddb8d0a214f7deb52839025...</td>\n",
       "      <td>common_voice_pt_19405032.mp3</td>\n",
       "      <td>Trancá-los</td>\n",
       "      <td>2</td>\n",
       "      <td>0</td>\n",
       "      <td>NaN</td>\n",
       "      <td>NaN</td>\n",
       "      <td>NaN</td>\n",
       "    </tr>\n",
       "    <tr>\n",
       "      <th>2</th>\n",
       "      <td>30291b4b87476b9d6503d7ae8cffa126a5143541de66c9...</td>\n",
       "      <td>common_voice_pt_19522569.mp3</td>\n",
       "      <td>O Youtube ainda é a melhor plataforma de vídeos.</td>\n",
       "      <td>2</td>\n",
       "      <td>0</td>\n",
       "      <td>NaN</td>\n",
       "      <td>NaN</td>\n",
       "      <td>NaN</td>\n",
       "    </tr>\n",
       "    <tr>\n",
       "      <th>3</th>\n",
       "      <td>31849d479fec44f97d7fc323ba25e29bc043acbd371514...</td>\n",
       "      <td>common_voice_pt_19665686.mp3</td>\n",
       "      <td>Menina e menino beijando nas sombras</td>\n",
       "      <td>2</td>\n",
       "      <td>0</td>\n",
       "      <td>NaN</td>\n",
       "      <td>NaN</td>\n",
       "      <td>NaN</td>\n",
       "    </tr>\n",
       "    <tr>\n",
       "      <th>4</th>\n",
       "      <td>32de5e96080644cc94bc1b86d8eec8fc23297f8d7432ed...</td>\n",
       "      <td>common_voice_pt_20183194.mp3</td>\n",
       "      <td>Particularmente, meu cuscuz cortado eu gosto d...</td>\n",
       "      <td>2</td>\n",
       "      <td>0</td>\n",
       "      <td>NaN</td>\n",
       "      <td>NaN</td>\n",
       "      <td>NaN</td>\n",
       "    </tr>\n",
       "  </tbody>\n",
       "</table>\n",
       "</div>"
      ],
      "text/plain": [
       "                                           client_id  \\\n",
       "0  235bfe76c2f0aa72f8f217c70ade4fd10d7b8aa2f9707a...   \n",
       "1  25b96b97ba7e13e1cdb7696ddb8d0a214f7deb52839025...   \n",
       "2  30291b4b87476b9d6503d7ae8cffa126a5143541de66c9...   \n",
       "3  31849d479fec44f97d7fc323ba25e29bc043acbd371514...   \n",
       "4  32de5e96080644cc94bc1b86d8eec8fc23297f8d7432ed...   \n",
       "\n",
       "                           path  \\\n",
       "0  common_voice_pt_19484624.mp3   \n",
       "1  common_voice_pt_19405032.mp3   \n",
       "2  common_voice_pt_19522569.mp3   \n",
       "3  common_voice_pt_19665686.mp3   \n",
       "4  common_voice_pt_20183194.mp3   \n",
       "\n",
       "                                            sentence  up_votes  down_votes  \\\n",
       "0     Pedir dinheiro emprestado às pessoas da aldeia         2           1   \n",
       "1                                         Trancá-los         2           0   \n",
       "2   O Youtube ainda é a melhor plataforma de vídeos.         2           0   \n",
       "3               Menina e menino beijando nas sombras         2           0   \n",
       "4  Particularmente, meu cuscuz cortado eu gosto d...         2           0   \n",
       "\n",
       "   age gender  accent  \n",
       "0  NaN    NaN     NaN  \n",
       "1  NaN    NaN     NaN  \n",
       "2  NaN    NaN     NaN  \n",
       "3  NaN    NaN     NaN  \n",
       "4  NaN    NaN     NaN  "
      ]
     },
     "execution_count": 4,
     "metadata": {},
     "output_type": "execute_result"
    }
   ],
   "source": [
    "df.head()"
   ]
  },
  {
   "cell_type": "code",
   "execution_count": 5,
   "metadata": {},
   "outputs": [
    {
     "data": {
      "text/html": [
       "<div>\n",
       "<style scoped>\n",
       "    .dataframe tbody tr th:only-of-type {\n",
       "        vertical-align: middle;\n",
       "    }\n",
       "\n",
       "    .dataframe tbody tr th {\n",
       "        vertical-align: top;\n",
       "    }\n",
       "\n",
       "    .dataframe thead th {\n",
       "        text-align: right;\n",
       "    }\n",
       "</style>\n",
       "<table border=\"1\" class=\"dataframe\">\n",
       "  <thead>\n",
       "    <tr style=\"text-align: right;\">\n",
       "      <th></th>\n",
       "      <th>up_votes</th>\n",
       "      <th>down_votes</th>\n",
       "      <th>accent</th>\n",
       "    </tr>\n",
       "  </thead>\n",
       "  <tbody>\n",
       "    <tr>\n",
       "      <th>count</th>\n",
       "      <td>22131.000000</td>\n",
       "      <td>22131.000000</td>\n",
       "      <td>0.0</td>\n",
       "    </tr>\n",
       "    <tr>\n",
       "      <th>mean</th>\n",
       "      <td>2.002576</td>\n",
       "      <td>0.057521</td>\n",
       "      <td>NaN</td>\n",
       "    </tr>\n",
       "    <tr>\n",
       "      <th>std</th>\n",
       "      <td>0.050686</td>\n",
       "      <td>0.233616</td>\n",
       "      <td>NaN</td>\n",
       "    </tr>\n",
       "    <tr>\n",
       "      <th>min</th>\n",
       "      <td>2.000000</td>\n",
       "      <td>0.000000</td>\n",
       "      <td>NaN</td>\n",
       "    </tr>\n",
       "    <tr>\n",
       "      <th>25%</th>\n",
       "      <td>2.000000</td>\n",
       "      <td>0.000000</td>\n",
       "      <td>NaN</td>\n",
       "    </tr>\n",
       "    <tr>\n",
       "      <th>50%</th>\n",
       "      <td>2.000000</td>\n",
       "      <td>0.000000</td>\n",
       "      <td>NaN</td>\n",
       "    </tr>\n",
       "    <tr>\n",
       "      <th>75%</th>\n",
       "      <td>2.000000</td>\n",
       "      <td>0.000000</td>\n",
       "      <td>NaN</td>\n",
       "    </tr>\n",
       "    <tr>\n",
       "      <th>max</th>\n",
       "      <td>3.000000</td>\n",
       "      <td>2.000000</td>\n",
       "      <td>NaN</td>\n",
       "    </tr>\n",
       "  </tbody>\n",
       "</table>\n",
       "</div>"
      ],
      "text/plain": [
       "           up_votes    down_votes  accent\n",
       "count  22131.000000  22131.000000     0.0\n",
       "mean       2.002576      0.057521     NaN\n",
       "std        0.050686      0.233616     NaN\n",
       "min        2.000000      0.000000     NaN\n",
       "25%        2.000000      0.000000     NaN\n",
       "50%        2.000000      0.000000     NaN\n",
       "75%        2.000000      0.000000     NaN\n",
       "max        3.000000      2.000000     NaN"
      ]
     },
     "execution_count": 5,
     "metadata": {},
     "output_type": "execute_result"
    }
   ],
   "source": [
    "df.describe()"
   ]
  },
  {
   "cell_type": "code",
   "execution_count": 6,
   "metadata": {},
   "outputs": [
    {
     "data": {
      "text/plain": [
       "22131"
      ]
     },
     "execution_count": 6,
     "metadata": {},
     "output_type": "execute_result"
    }
   ],
   "source": [
    "len(df)"
   ]
  },
  {
   "cell_type": "code",
   "execution_count": 7,
   "metadata": {},
   "outputs": [
    {
     "data": {
      "text/plain": [
       "client_id         0\n",
       "path              0\n",
       "sentence          0\n",
       "up_votes          0\n",
       "down_votes        0\n",
       "age            1816\n",
       "gender         1816\n",
       "accent        22131\n",
       "dtype: int64"
      ]
     },
     "execution_count": 7,
     "metadata": {},
     "output_type": "execute_result"
    }
   ],
   "source": [
    "df.isna().sum()"
   ]
  },
  {
   "cell_type": "code",
   "execution_count": 8,
   "metadata": {},
   "outputs": [
    {
     "data": {
      "text/plain": [
       "client_id       319\n",
       "path          22131\n",
       "sentence      13355\n",
       "up_votes          2\n",
       "down_votes        3\n",
       "age               7\n",
       "gender            3\n",
       "accent            0\n",
       "dtype: int64"
      ]
     },
     "execution_count": 8,
     "metadata": {},
     "output_type": "execute_result"
    }
   ],
   "source": [
    "# mozilla site says 354 voices, assuming 319 validated\n",
    "df.nunique()"
   ]
  },
  {
   "cell_type": "code",
   "execution_count": 9,
   "metadata": {},
   "outputs": [
    {
     "data": {
      "text/plain": [
       "0.9426596177307849"
      ]
     },
     "execution_count": 9,
     "metadata": {},
     "output_type": "execute_result"
    }
   ],
   "source": [
    "len(df[df.down_votes == 0]) / len(df)"
   ]
  },
  {
   "cell_type": "markdown",
   "metadata": {},
   "source": [
    "### Pairing Data"
   ]
  },
  {
   "cell_type": "code",
   "execution_count": 10,
   "metadata": {},
   "outputs": [
    {
     "data": {
      "text/plain": [
       "client_id       316\n",
       "path          20862\n",
       "sentence      13018\n",
       "up_votes          2\n",
       "down_votes        1\n",
       "age               7\n",
       "gender            3\n",
       "accent            0\n",
       "dtype: int64"
      ]
     },
     "execution_count": 10,
     "metadata": {},
     "output_type": "execute_result"
    }
   ],
   "source": [
    "data = df[df.down_votes == 0]\n",
    "data.nunique()"
   ]
  },
  {
   "cell_type": "code",
   "execution_count": 11,
   "metadata": {},
   "outputs": [],
   "source": [
    "voices_sorted = data.sort_values(by=['client_id'], ascending=True)[['client_id', 'path']].values.tolist()\n",
    "voices_reversed = data.sort_values(by=['client_id'], ascending=False)[['client_id', 'path']].values.tolist()"
   ]
  },
  {
   "cell_type": "code",
   "execution_count": 12,
   "metadata": {},
   "outputs": [],
   "source": [
    "positive_pairs = []\n",
    "negative_pairs = []\n",
    "\n",
    "# reads a record from the ordered list by client id\n",
    "current_item = voices_sorted.pop(0)\n",
    "\n",
    "while len(voices_sorted) != 0:\n",
    "    \n",
    "    #gets the following record\n",
    "    next_item = voices_sorted.pop(0) \n",
    "    \n",
    "    if(current_item[0] == next_item[0]):\n",
    "        \n",
    "        # if is the same voice, adds to pairing dataset\n",
    "        positive_pairs.append([\n",
    "            current_item[0], \n",
    "            current_item[1], \n",
    "            next_item[1], \n",
    "            1])\n",
    "        \n",
    "        # to mismatch voices, pop from the reversed sorted list\n",
    "        mismatched = voices_reversed.pop(0)\n",
    "        \n",
    "        if(mismatched[0] == current_item[0]):\n",
    "            continue\n",
    "        \n",
    "        negative_pairs.append([\n",
    "            current_item[0], \n",
    "            current_item[1], \n",
    "            mismatched[1], \n",
    "            0])\n",
    "        \n",
    "    else:\n",
    "        # if is other voice, saves for the next iteration\n",
    "        current_item = next_item    "
   ]
  },
  {
   "cell_type": "code",
   "execution_count": 13,
   "metadata": {},
   "outputs": [
    {
     "data": {
      "text/html": [
       "<div>\n",
       "<style scoped>\n",
       "    .dataframe tbody tr th:only-of-type {\n",
       "        vertical-align: middle;\n",
       "    }\n",
       "\n",
       "    .dataframe tbody tr th {\n",
       "        vertical-align: top;\n",
       "    }\n",
       "\n",
       "    .dataframe thead th {\n",
       "        text-align: right;\n",
       "    }\n",
       "</style>\n",
       "<table border=\"1\" class=\"dataframe\">\n",
       "  <thead>\n",
       "    <tr style=\"text-align: right;\">\n",
       "      <th></th>\n",
       "      <th>client_id</th>\n",
       "      <th>path_a</th>\n",
       "      <th>path_b</th>\n",
       "      <th>label</th>\n",
       "    </tr>\n",
       "  </thead>\n",
       "  <tbody>\n",
       "    <tr>\n",
       "      <th>0</th>\n",
       "      <td>002f45018a3ad61b9e56032deadd6f8dcab70a6169ca33...</td>\n",
       "      <td>common_voice_pt_19449894.mp3</td>\n",
       "      <td>common_voice_pt_19791515.mp3</td>\n",
       "      <td>1</td>\n",
       "    </tr>\n",
       "    <tr>\n",
       "      <th>1</th>\n",
       "      <td>002f45018a3ad61b9e56032deadd6f8dcab70a6169ca33...</td>\n",
       "      <td>common_voice_pt_19449894.mp3</td>\n",
       "      <td>common_voice_pt_19791512.mp3</td>\n",
       "      <td>1</td>\n",
       "    </tr>\n",
       "    <tr>\n",
       "      <th>2</th>\n",
       "      <td>002f45018a3ad61b9e56032deadd6f8dcab70a6169ca33...</td>\n",
       "      <td>common_voice_pt_19449894.mp3</td>\n",
       "      <td>common_voice_pt_19791511.mp3</td>\n",
       "      <td>1</td>\n",
       "    </tr>\n",
       "    <tr>\n",
       "      <th>3</th>\n",
       "      <td>002f45018a3ad61b9e56032deadd6f8dcab70a6169ca33...</td>\n",
       "      <td>common_voice_pt_19449894.mp3</td>\n",
       "      <td>common_voice_pt_19581695.mp3</td>\n",
       "      <td>1</td>\n",
       "    </tr>\n",
       "    <tr>\n",
       "      <th>4</th>\n",
       "      <td>002f45018a3ad61b9e56032deadd6f8dcab70a6169ca33...</td>\n",
       "      <td>common_voice_pt_19449894.mp3</td>\n",
       "      <td>common_voice_pt_19581694.mp3</td>\n",
       "      <td>1</td>\n",
       "    </tr>\n",
       "  </tbody>\n",
       "</table>\n",
       "</div>"
      ],
      "text/plain": [
       "                                           client_id  \\\n",
       "0  002f45018a3ad61b9e56032deadd6f8dcab70a6169ca33...   \n",
       "1  002f45018a3ad61b9e56032deadd6f8dcab70a6169ca33...   \n",
       "2  002f45018a3ad61b9e56032deadd6f8dcab70a6169ca33...   \n",
       "3  002f45018a3ad61b9e56032deadd6f8dcab70a6169ca33...   \n",
       "4  002f45018a3ad61b9e56032deadd6f8dcab70a6169ca33...   \n",
       "\n",
       "                         path_a                        path_b  label  \n",
       "0  common_voice_pt_19449894.mp3  common_voice_pt_19791515.mp3      1  \n",
       "1  common_voice_pt_19449894.mp3  common_voice_pt_19791512.mp3      1  \n",
       "2  common_voice_pt_19449894.mp3  common_voice_pt_19791511.mp3      1  \n",
       "3  common_voice_pt_19449894.mp3  common_voice_pt_19581695.mp3      1  \n",
       "4  common_voice_pt_19449894.mp3  common_voice_pt_19581694.mp3      1  "
      ]
     },
     "execution_count": 13,
     "metadata": {},
     "output_type": "execute_result"
    }
   ],
   "source": [
    "pd.DataFrame(positive_pairs, columns=['client_id', 'path_a', 'path_b', 'label']).head()"
   ]
  },
  {
   "cell_type": "code",
   "execution_count": 14,
   "metadata": {},
   "outputs": [
    {
     "data": {
      "text/html": [
       "<div>\n",
       "<style scoped>\n",
       "    .dataframe tbody tr th:only-of-type {\n",
       "        vertical-align: middle;\n",
       "    }\n",
       "\n",
       "    .dataframe tbody tr th {\n",
       "        vertical-align: top;\n",
       "    }\n",
       "\n",
       "    .dataframe thead th {\n",
       "        text-align: right;\n",
       "    }\n",
       "</style>\n",
       "<table border=\"1\" class=\"dataframe\">\n",
       "  <thead>\n",
       "    <tr style=\"text-align: right;\">\n",
       "      <th></th>\n",
       "      <th>client_id</th>\n",
       "      <th>path_a</th>\n",
       "      <th>path_b</th>\n",
       "      <th>label</th>\n",
       "    </tr>\n",
       "  </thead>\n",
       "  <tbody>\n",
       "    <tr>\n",
       "      <th>0</th>\n",
       "      <td>002f45018a3ad61b9e56032deadd6f8dcab70a6169ca33...</td>\n",
       "      <td>common_voice_pt_19449894.mp3</td>\n",
       "      <td>common_voice_pt_19399168.mp3</td>\n",
       "      <td>0</td>\n",
       "    </tr>\n",
       "    <tr>\n",
       "      <th>1</th>\n",
       "      <td>002f45018a3ad61b9e56032deadd6f8dcab70a6169ca33...</td>\n",
       "      <td>common_voice_pt_19449894.mp3</td>\n",
       "      <td>common_voice_pt_19399110.mp3</td>\n",
       "      <td>0</td>\n",
       "    </tr>\n",
       "    <tr>\n",
       "      <th>2</th>\n",
       "      <td>002f45018a3ad61b9e56032deadd6f8dcab70a6169ca33...</td>\n",
       "      <td>common_voice_pt_19449894.mp3</td>\n",
       "      <td>common_voice_pt_19399154.mp3</td>\n",
       "      <td>0</td>\n",
       "    </tr>\n",
       "    <tr>\n",
       "      <th>3</th>\n",
       "      <td>002f45018a3ad61b9e56032deadd6f8dcab70a6169ca33...</td>\n",
       "      <td>common_voice_pt_19449894.mp3</td>\n",
       "      <td>common_voice_pt_19399155.mp3</td>\n",
       "      <td>0</td>\n",
       "    </tr>\n",
       "    <tr>\n",
       "      <th>4</th>\n",
       "      <td>002f45018a3ad61b9e56032deadd6f8dcab70a6169ca33...</td>\n",
       "      <td>common_voice_pt_19449894.mp3</td>\n",
       "      <td>common_voice_pt_19399156.mp3</td>\n",
       "      <td>0</td>\n",
       "    </tr>\n",
       "  </tbody>\n",
       "</table>\n",
       "</div>"
      ],
      "text/plain": [
       "                                           client_id  \\\n",
       "0  002f45018a3ad61b9e56032deadd6f8dcab70a6169ca33...   \n",
       "1  002f45018a3ad61b9e56032deadd6f8dcab70a6169ca33...   \n",
       "2  002f45018a3ad61b9e56032deadd6f8dcab70a6169ca33...   \n",
       "3  002f45018a3ad61b9e56032deadd6f8dcab70a6169ca33...   \n",
       "4  002f45018a3ad61b9e56032deadd6f8dcab70a6169ca33...   \n",
       "\n",
       "                         path_a                        path_b  label  \n",
       "0  common_voice_pt_19449894.mp3  common_voice_pt_19399168.mp3      0  \n",
       "1  common_voice_pt_19449894.mp3  common_voice_pt_19399110.mp3      0  \n",
       "2  common_voice_pt_19449894.mp3  common_voice_pt_19399154.mp3      0  \n",
       "3  common_voice_pt_19449894.mp3  common_voice_pt_19399155.mp3      0  \n",
       "4  common_voice_pt_19449894.mp3  common_voice_pt_19399156.mp3      0  "
      ]
     },
     "execution_count": 14,
     "metadata": {},
     "output_type": "execute_result"
    }
   ],
   "source": [
    "pd.DataFrame(negative_pairs, columns=['client_id', 'path_a', 'path_b', 'label']).head()"
   ]
  },
  {
   "cell_type": "code",
   "execution_count": 15,
   "metadata": {},
   "outputs": [
    {
     "name": "stdout",
     "output_type": "stream",
     "text": [
      "20546 19957\n"
     ]
    }
   ],
   "source": [
    "print(len(positive_pairs), len(negative_pairs))"
   ]
  },
  {
   "cell_type": "code",
   "execution_count": 24,
   "metadata": {},
   "outputs": [
    {
     "data": {
      "text/plain": [
       "['a9a5b0da1aadab7621f6ff144245201cafbe186e8871008f87abf78d1f6291c5fc94e7904d54390209efb537ab7dc4fc46c600e40afecd8b52c96ac3e69abf2a',\n",
       " 'common_voice_pt_19464758.mp3',\n",
       " 'common_voice_pt_19893271.mp3',\n",
       " 0]"
      ]
     },
     "execution_count": 24,
     "metadata": {},
     "output_type": "execute_result"
    }
   ],
   "source": [
    "all_pairs = positive_pairs + negative_pairs\n",
    "random.shuffle(all_pairs)\n",
    "all_pairs[0]"
   ]
  },
  {
   "cell_type": "markdown",
   "metadata": {},
   "source": [
    "### Loading MP3 files\n",
    "\n"
   ]
  },
  {
   "cell_type": "code",
   "execution_count": 53,
   "metadata": {},
   "outputs": [],
   "source": [
    "def get_clip(file_name, max_pad_len=400):\n",
    "    wave, sr = librosa.load(file_name, mono=True)#, sr=None)\n",
    "    wave = wave[::3]\n",
    "    mfcc = librosa.feature.mfcc(wave, sr=sr) #16000)\n",
    "    #print(mfcc.shape)\n",
    "    pad_width = max_pad_len - mfcc.shape[1]\n",
    "    mfcc = np.pad(mfcc, pad_width=((0, 0), (0, pad_width)), mode='constant')\n",
    "    return mfcc"
   ]
  },
  {
   "cell_type": "code",
   "execution_count": 124,
   "metadata": {},
   "outputs": [
    {
     "data": {
      "application/vnd.jupyter.widget-view+json": {
       "model_id": "5df6fcd51cbe404ea6cee9199b6ed5d1",
       "version_major": 2,
       "version_minor": 0
      },
      "text/plain": [
       "HBox(children=(FloatProgress(value=0.0, max=1103.0), HTML(value='')))"
      ]
     },
     "metadata": {},
     "output_type": "display_data"
    },
    {
     "name": "stdout",
     "output_type": "stream",
     "text": [
      "\n"
     ]
    }
   ],
   "source": [
    "test = True\n",
    "\n",
    "if(test):\n",
    "    test_pairs = all_pairs[0:1000]\n",
    "    test_filenames = set(pd.DataFrame(\n",
    "        test_pairs, \n",
    "        columns=['client_id', 'path_a', 'path_b', 'label']\n",
    "    )[['path_a', 'path_b']].values.ravel().tolist())\n",
    "    test_filenames = list(test_filenames)\n",
    "    \n",
    "    clips = {}\n",
    "    for i in tqdm(range(len(test_filenames))):\n",
    "        f = CLIPS_PATH + test_filenames[i]\n",
    "        clips.update({f: get_clip(f)})\n",
    "else:\n",
    "    clips = {}\n",
    "    filenames = glob.glob(CLIPS_PATH + '*.mp3')\n",
    "    for i in tqdm(range(len(filenames))):\n",
    "        clips.update({filenames[i]: get_clip(filenames[i])})"
   ]
  },
  {
   "cell_type": "code",
   "execution_count": 125,
   "metadata": {},
   "outputs": [],
   "source": [
    "def get_dataset():\n",
    "    pairs = []\n",
    "    labels = []  \n",
    "    \n",
    "    if(test):\n",
    "        p = test_pairs\n",
    "    else:\n",
    "        p = all_pairs\n",
    "\n",
    "    for pair in p:     \n",
    "        pairs.append([\n",
    "            clips.get(CLIPS_PATH + pair[1]), \n",
    "            clips.get(CLIPS_PATH + pair[2])])\n",
    "        labels.append(pair[3])\n",
    "    \n",
    "    dataset_size = len(p)\n",
    "    train_size = int(dataset_size*0.8)\n",
    "    \n",
    "    pairs = np.array(pairs)\n",
    "    labels = np.array(labels)\n",
    "    print(pairs.shape, labels.shape)\n",
    "    \n",
    "    return pairs[0:train_size], pairs[train_size:dataset_size], labels[0:train_size], labels[train_size:dataset_size]"
   ]
  },
  {
   "cell_type": "code",
   "execution_count": 126,
   "metadata": {},
   "outputs": [
    {
     "name": "stdout",
     "output_type": "stream",
     "text": [
      "(1000, 2, 20, 400) (1000,)\n"
     ]
    }
   ],
   "source": [
    "train_pairs, val_pairs, train_labels, val_labels = get_dataset()"
   ]
  },
  {
   "cell_type": "code",
   "execution_count": 127,
   "metadata": {},
   "outputs": [
    {
     "name": "stdout",
     "output_type": "stream",
     "text": [
      "(800, 2, 20, 400) (200, 2, 20, 400) (800,) (200,)\n"
     ]
    }
   ],
   "source": [
    "print(train_pairs.shape, val_pairs.shape, train_labels.shape, val_labels.shape)"
   ]
  },
  {
   "cell_type": "code",
   "execution_count": 128,
   "metadata": {},
   "outputs": [
    {
     "data": {
      "text/plain": [
       "(20, 400)"
      ]
     },
     "execution_count": 128,
     "metadata": {},
     "output_type": "execute_result"
    }
   ],
   "source": [
    "INPUT_SHAPE = train_pairs.shape[2:]\n",
    "INPUT_SHAPE"
   ]
  },
  {
   "cell_type": "markdown",
   "metadata": {},
   "source": [
    "### Create Model"
   ]
  },
  {
   "cell_type": "code",
   "execution_count": 129,
   "metadata": {},
   "outputs": [
    {
     "name": "stdout",
     "output_type": "stream",
     "text": [
      "Model: \"model_6\"\n",
      "__________________________________________________________________________________________________\n",
      "Layer (type)                    Output Shape         Param #     Connected to                     \n",
      "==================================================================================================\n",
      "input_33 (InputLayer)           [(None, 20, 400)]    0                                            \n",
      "__________________________________________________________________________________________________\n",
      "input_34 (InputLayer)           [(None, 20, 400)]    0                                            \n",
      "__________________________________________________________________________________________________\n",
      "sequential_11 (Sequential)      (None, 128)          1057152     input_33[0][0]                   \n",
      "                                                                 input_34[0][0]                   \n",
      "__________________________________________________________________________________________________\n",
      "lambda_7 (Lambda)               (None, 1)            0           sequential_11[1][0]              \n",
      "                                                                 sequential_11[2][0]              \n",
      "==================================================================================================\n",
      "Total params: 1,057,152\n",
      "Trainable params: 1,057,152\n",
      "Non-trainable params: 0\n",
      "__________________________________________________________________________________________________\n"
     ]
    }
   ],
   "source": [
    "import tensorflow as tf\n",
    "from tensorflow.keras import layers, models, Input, optimizers, metrics\n",
    "from tensorflow.keras import backend as K\n",
    "\n",
    "def euclidean_distance(vects):\n",
    "    x, y = vects\n",
    "    return K.sqrt(K.maximum(K.sum(K.square(x - y), axis=1, keepdims=True), K.epsilon()))\n",
    "\n",
    "def eucl_dist_output_shape(shapes):\n",
    "    shape1, shape2 = shapes\n",
    "    return (shape1[0], 1)\n",
    "\n",
    "def contrastive_loss(y_true, y_pred):\n",
    "    '''Contrastive loss from Hadsell-et-al.'06\n",
    "    http://yann.lecun.com/exdb/publis/pdf/hadsell-chopra-lecun-06.pdf\n",
    "    '''\n",
    "    margin = 1\n",
    "    return K.mean(y_true * K.square(y_pred) + (1 - y_true) * K.square(K.maximum(margin - y_pred, 0)))\n",
    "\n",
    "def accuracy(y_true, y_pred):\n",
    "    '''Compute classification accuracy with a fixed threshold on distances.\n",
    "    '''\n",
    "    return K.mean(K.equal(y_true, K.cast(y_pred < 0.5, y_true.dtype)))\n",
    "\n",
    "def create_base_network():\n",
    "    '''Base network to be shared (eq. to feature extraction).\n",
    "    '''\n",
    "    model = models.Sequential()\n",
    "    model.add(layers.Input(shape=INPUT_SHAPE))\n",
    "    model.add(layers.Flatten())\n",
    "    model.add(layers.Dense(128, activation='relu'))\n",
    "    model.add(layers.Dropout(0.1))\n",
    "    model.add(layers.Dense(128, activation='relu'))\n",
    "    model.add(layers.Dropout(0.1))\n",
    "    model.add(layers.Dense(128, activation='relu'))\n",
    "    model.add(layers.Dropout(0.1))\n",
    "    \n",
    "    return model\n",
    "    \n",
    "def get_model():\n",
    "    base_network = create_base_network()\n",
    "    input_a = Input(shape=INPUT_SHAPE)\n",
    "    input_b = Input(shape=INPUT_SHAPE)\n",
    "    \n",
    "    # because we re-use the same instance `base_network`, the weights of the network will be shared across the two branches\n",
    "    processed_a = base_network(input_a)\n",
    "    processed_b = base_network(input_b)\n",
    "    \n",
    "    distance = layers.Lambda(\n",
    "        euclidean_distance, \n",
    "        output_shape = eucl_dist_output_shape)([processed_a, processed_b])\n",
    "    \n",
    "    model = models.Model([input_a, input_b], distance)\n",
    "    return base_network, model\n",
    "\n",
    "base_network, model = get_model()\n",
    "\n",
    "model.summary()"
   ]
  },
  {
   "cell_type": "code",
   "execution_count": 130,
   "metadata": {},
   "outputs": [],
   "source": [
    "EPOCHS = 40\n",
    "BATCH = 32\n",
    "\n",
    "model.compile(\n",
    "    loss = contrastive_loss, \n",
    "    optimizer = optimizers.RMSprop(), \n",
    "    metrics=[accuracy])"
   ]
  },
  {
   "cell_type": "code",
   "execution_count": 131,
   "metadata": {},
   "outputs": [
    {
     "name": "stdout",
     "output_type": "stream",
     "text": [
      "Train on 800 samples, validate on 200 samples\n",
      "Epoch 1/40\n",
      "800/800 [==============================] - 1s 1ms/sample - loss: 1018.9963 - accuracy: 0.5263 - val_loss: 6.0786 - val_accuracy: 0.5089\n",
      "Epoch 2/40\n",
      "800/800 [==============================] - 0s 561us/sample - loss: 8.4376 - accuracy: 0.5288 - val_loss: 1.7303 - val_accuracy: 0.4955\n",
      "Epoch 3/40\n",
      "800/800 [==============================] - 0s 583us/sample - loss: 1.1712 - accuracy: 0.5587 - val_loss: 1.1586 - val_accuracy: 0.4777\n",
      "Epoch 4/40\n",
      "800/800 [==============================] - 0s 547us/sample - loss: 1.0048 - accuracy: 0.5587 - val_loss: 0.8639 - val_accuracy: 0.4955\n",
      "Epoch 5/40\n",
      "800/800 [==============================] - 0s 608us/sample - loss: 1.0942 - accuracy: 0.5462 - val_loss: 0.6693 - val_accuracy: 0.5179\n",
      "Epoch 6/40\n",
      "800/800 [==============================] - 0s 577us/sample - loss: 0.5080 - accuracy: 0.5250 - val_loss: 4.7463 - val_accuracy: 0.5089\n",
      "Epoch 7/40\n",
      "800/800 [==============================] - 0s 600us/sample - loss: 1.5273 - accuracy: 0.5288 - val_loss: 0.5976 - val_accuracy: 0.5000\n",
      "Epoch 8/40\n",
      "800/800 [==============================] - 0s 615us/sample - loss: 1.0443 - accuracy: 0.5288 - val_loss: 0.5428 - val_accuracy: 0.5357\n",
      "Epoch 9/40\n",
      "800/800 [==============================] - 0s 582us/sample - loss: 1.5038 - accuracy: 0.5225 - val_loss: 0.5242 - val_accuracy: 0.5089\n",
      "Epoch 10/40\n",
      "800/800 [==============================] - 1s 641us/sample - loss: 1.0081 - accuracy: 0.5138 - val_loss: 0.5422 - val_accuracy: 0.5089\n",
      "Epoch 11/40\n",
      "800/800 [==============================] - 0s 606us/sample - loss: 1.8193 - accuracy: 0.5400 - val_loss: 0.5279 - val_accuracy: 0.4777\n",
      "Epoch 12/40\n",
      "800/800 [==============================] - 1s 651us/sample - loss: 1.3266 - accuracy: 0.5250 - val_loss: 0.9649 - val_accuracy: 0.4866\n",
      "Epoch 13/40\n",
      "800/800 [==============================] - 0s 607us/sample - loss: 0.6514 - accuracy: 0.5300 - val_loss: 0.5293 - val_accuracy: 0.4732\n",
      "Epoch 14/40\n",
      "800/800 [==============================] - 1s 645us/sample - loss: 0.7156 - accuracy: 0.5213 - val_loss: 0.5257 - val_accuracy: 0.4866\n",
      "Epoch 15/40\n",
      "800/800 [==============================] - 0s 593us/sample - loss: 1.1736 - accuracy: 0.5263 - val_loss: 0.5605 - val_accuracy: 0.4777\n",
      "Epoch 16/40\n",
      "800/800 [==============================] - 0s 618us/sample - loss: 0.7295 - accuracy: 0.5250 - val_loss: 0.5188 - val_accuracy: 0.4866\n",
      "Epoch 17/40\n",
      "800/800 [==============================] - 0s 596us/sample - loss: 1.6465 - accuracy: 0.5512 - val_loss: 0.4892 - val_accuracy: 0.5134\n",
      "Epoch 18/40\n",
      "800/800 [==============================] - 0s 593us/sample - loss: 0.5525 - accuracy: 0.5512 - val_loss: 0.4773 - val_accuracy: 0.5000\n",
      "Epoch 19/40\n",
      "800/800 [==============================] - 0s 607us/sample - loss: 0.5466 - accuracy: 0.5238 - val_loss: 0.4673 - val_accuracy: 0.4911\n",
      "Epoch 20/40\n",
      "800/800 [==============================] - 0s 590us/sample - loss: 0.7475 - accuracy: 0.5350 - val_loss: 0.5019 - val_accuracy: 0.4554\n",
      "Epoch 21/40\n",
      "800/800 [==============================] - 0s 615us/sample - loss: 0.5447 - accuracy: 0.5350 - val_loss: 0.4938 - val_accuracy: 0.5134\n",
      "Epoch 22/40\n",
      "800/800 [==============================] - 0s 597us/sample - loss: 0.8047 - accuracy: 0.5263 - val_loss: 0.4465 - val_accuracy: 0.4598\n",
      "Epoch 23/40\n",
      "800/800 [==============================] - 0s 615us/sample - loss: 0.4622 - accuracy: 0.5200 - val_loss: 0.6277 - val_accuracy: 0.4777\n",
      "Epoch 24/40\n",
      "800/800 [==============================] - 0s 590us/sample - loss: 1.1161 - accuracy: 0.5275 - val_loss: 0.4884 - val_accuracy: 0.5357\n",
      "Epoch 25/40\n",
      "800/800 [==============================] - 0s 612us/sample - loss: 0.6894 - accuracy: 0.5487 - val_loss: 0.4896 - val_accuracy: 0.5089\n",
      "Epoch 26/40\n",
      "800/800 [==============================] - 0s 597us/sample - loss: 0.3756 - accuracy: 0.5412 - val_loss: 0.4692 - val_accuracy: 0.4821\n",
      "Epoch 27/40\n",
      "800/800 [==============================] - 0s 611us/sample - loss: 0.4144 - accuracy: 0.5788 - val_loss: 0.4721 - val_accuracy: 0.4554\n",
      "Epoch 28/40\n",
      "800/800 [==============================] - 0s 591us/sample - loss: 0.2738 - accuracy: 0.5788 - val_loss: 0.5998 - val_accuracy: 0.4911\n",
      "Epoch 29/40\n",
      "800/800 [==============================] - 0s 577us/sample - loss: 0.3713 - accuracy: 0.5788 - val_loss: 0.4417 - val_accuracy: 0.5134\n",
      "Epoch 30/40\n",
      "800/800 [==============================] - 0s 625us/sample - loss: 0.2771 - accuracy: 0.5675 - val_loss: 0.4319 - val_accuracy: 0.5223\n",
      "Epoch 31/40\n",
      "800/800 [==============================] - 0s 582us/sample - loss: 0.4169 - accuracy: 0.5725 - val_loss: 0.4775 - val_accuracy: 0.5312\n",
      "Epoch 32/40\n",
      "800/800 [==============================] - 0s 617us/sample - loss: 0.8752 - accuracy: 0.5850 - val_loss: 0.4618 - val_accuracy: 0.4911\n",
      "Epoch 33/40\n",
      "800/800 [==============================] - 0s 575us/sample - loss: 0.2805 - accuracy: 0.5663 - val_loss: 0.4640 - val_accuracy: 0.5491\n",
      "Epoch 34/40\n",
      "800/800 [==============================] - 0s 608us/sample - loss: 0.2661 - accuracy: 0.5587 - val_loss: 0.4662 - val_accuracy: 0.5000\n",
      "Epoch 35/40\n",
      "800/800 [==============================] - 0s 577us/sample - loss: 0.2462 - accuracy: 0.5600 - val_loss: 0.4875 - val_accuracy: 0.5000\n",
      "Epoch 36/40\n",
      "800/800 [==============================] - 0s 618us/sample - loss: 0.2977 - accuracy: 0.5638 - val_loss: 0.4882 - val_accuracy: 0.5000\n",
      "Epoch 37/40\n",
      "800/800 [==============================] - 0s 581us/sample - loss: 0.2546 - accuracy: 0.5725 - val_loss: 0.4680 - val_accuracy: 0.4911\n",
      "Epoch 38/40\n",
      "800/800 [==============================] - 0s 577us/sample - loss: 0.2443 - accuracy: 0.5562 - val_loss: 0.4593 - val_accuracy: 0.5536\n",
      "Epoch 39/40\n",
      "800/800 [==============================] - 0s 610us/sample - loss: 0.3964 - accuracy: 0.5537 - val_loss: 0.5400 - val_accuracy: 0.4643\n",
      "Epoch 40/40\n",
      "800/800 [==============================] - 0s 583us/sample - loss: 0.2600 - accuracy: 0.5500 - val_loss: 0.4975 - val_accuracy: 0.4866\n"
     ]
    }
   ],
   "source": [
    "history = model.fit(\n",
    "    [train_pairs[:, 0], train_pairs[:, 1]], \n",
    "    train_labels, \n",
    "    batch_size = BATCH, \n",
    "    epochs = EPOCHS,\n",
    "    validation_data = ([val_pairs[:, 0], val_pairs[:, 1]], val_labels))"
   ]
  },
  {
   "cell_type": "code",
   "execution_count": 132,
   "metadata": {},
   "outputs": [
    {
     "name": "stdout",
     "output_type": "stream",
     "text": [
      "dict_keys(['loss', 'accuracy', 'val_loss', 'val_accuracy'])\n"
     ]
    }
   ],
   "source": [
    "print(history.history.keys())"
   ]
  },
  {
   "cell_type": "code",
   "execution_count": 135,
   "metadata": {},
   "outputs": [
    {
     "data": {
      "image/png": "[encoded data removed]",
      "text/plain": [
       "<Figure size 432x288 with 1 Axes>"
      ]
     },
     "metadata": {
      "needs_background": "light"
     },
     "output_type": "display_data"
    }
   ],
   "source": [
    "plt.plot(history.history['loss'])\n",
    "plt.plot(history.history['val_loss'])\n",
    "plt.title('Training Loss')\n",
    "plt.ylabel('Loss')\n",
    "plt.xlabel('epoch')\n",
    "plt.legend(['train', 'validation'], loc='upper left')\n",
    "plt.show()"
   ]
  },
  {
   "cell_type": "code",
   "execution_count": 136,
   "metadata": {},
   "outputs": [
    {
     "data": {
      "image/png": "[encoded data removed]",
      "text/plain": [
       "<Figure size 432x288 with 1 Axes>"
      ]
     },
     "metadata": {
      "needs_background": "light"
     },
     "output_type": "display_data"
    }
   ],
   "source": [
    "plt.plot(history.history['accuracy'])\n",
    "plt.plot(history.history['val_accuracy'])\n",
    "plt.title('Training Accuracy')\n",
    "plt.ylabel('Loss')\n",
    "plt.xlabel('epoch')\n",
    "plt.legend(['train', 'validation'], loc='upper left')\n",
    "plt.show()"
   ]
  }
 ],
 "metadata": {
  "kernelspec": {
   "display_name": "Python 3",
   "language": "python",
   "name": "python3"
  },
  "language_info": {
   "codemirror_mode": {
    "name": "ipython",
    "version": 3
   },
   "file_extension": ".py",
   "mimetype": "text/x-python",
   "name": "python",
   "nbconvert_exporter": "python",
   "pygments_lexer": "ipython3",
   "version": "3.7.6"
  }
 },
 "nbformat": 4,
 "nbformat_minor": 4
}
