{
 "cells": [
  {
   "cell_type": "markdown",
   "metadata": {},
   "source": [
    "### Housekeeping"
   ]
  },
  {
   "cell_type": "code",
   "execution_count": 1,
   "metadata": {},
   "outputs": [
    {
     "name": "stdout",
     "output_type": "stream",
     "text": [
      "2.1.0\n"
     ]
    }
   ],
   "source": [
    "import os\n",
    "import pandas as pd\n",
    "import random\n",
    "import numpy as np\n",
    "import librosa\n",
    "import glob\n",
    "from tqdm.notebook import tqdm\n",
    "import matplotlib.pyplot as plt\n",
    "import pickle\n",
    "import datetime as datetime\n",
    "import itertools\n",
    "from collections import defaultdict\n",
    "import random\n",
    "from sklearn.metrics import accuracy_score, roc_curve, auc, precision_recall_curve, precision_score, average_precision_score\n",
    "\n",
    "import ibm_boto3\n",
    "from ibm_botocore.client import Config, ClientError\n",
    "\n",
    "import tensorflow as tf\n",
    "from tensorflow.keras import layers, models, Input, optimizers, metrics, regularizers\n",
    "from tensorflow.keras import backend as K\n",
    "\n",
    "SEED = 101\n",
    "random.seed(SEED)\n",
    "\n",
    "print(tf.__version__)"
   ]
  },
  {
   "cell_type": "markdown",
   "metadata": {},
   "source": [
    "### Loading files from bucket"
   ]
  },
  {
   "cell_type": "code",
   "execution_count": 136,
   "metadata": {},
   "outputs": [],
   "source": [
    "DATA_PATH = '/home/csancini/w251-data/'\n",
    "BUCKET_NAME = 'cv-audio'\n",
    "DEV_FILE = 'dev.tsv'\n",
    "AUDIO_FILE = 'dev-clips.tgz'\n",
    "MFCC_PICKLE = 'mfcc.bin'\n",
    "CLIPS_PATH = DATA_PATH + 'dev-clips/'\n",
    "TEST_CLIPS = DATA_PATH + 'test-clips/'\n",
    "BEST_MODEL_FILE = 'model-EN-20200329-133052.tgz'\n",
    "TEST_RECORDINGS = 'test-clips.tgz'"
   ]
  },
  {
   "cell_type": "code",
   "execution_count": 134,
   "metadata": {},
   "outputs": [],
   "source": [
    "# Constants for IBM S3 values\n",
    "COS_ENDPOINT = ''\n",
    "COS_API_KEY_ID = ''\n",
    "COS_AUTH_ENDPOINT = ''\n",
    "COS_RESOURCE_CRN = ''\n",
    "\n",
    "# Create resource\n",
    "cos = ibm_boto3.resource(\"s3\",\n",
    "    ibm_api_key_id=COS_API_KEY_ID,\n",
    "    ibm_service_instance_id=COS_RESOURCE_CRN,\n",
    "    ibm_auth_endpoint=COS_AUTH_ENDPOINT,\n",
    "    config=Config(signature_version=\"oauth\"),\n",
    "    endpoint_url=COS_ENDPOINT\n",
    ")"
   ]
  },
  {
   "cell_type": "code",
   "execution_count": null,
   "metadata": {},
   "outputs": [],
   "source": [
    "bucket = cos.Bucket(BUCKET_NAME)\n",
    "obj = bucket.Object(DEV_FILE)\n",
    "\n",
    "with open(DATA_PATH + DEV_FILE, 'wb') as data:\n",
    "    obj.download_fileobj(data)"
   ]
  },
  {
   "cell_type": "code",
   "execution_count": null,
   "metadata": {},
   "outputs": [],
   "source": [
    "bucket = cos.Bucket(BUCKET_NAME)\n",
    "obj = bucket.Object(AUDIO_FILE)\n",
    "\n",
    "with open(DATA_PATH + AUDIO_FILE, 'wb') as data:\n",
    "    obj.download_fileobj(data)"
   ]
  },
  {
   "cell_type": "markdown",
   "metadata": {},
   "source": [
    "### Save files to the bucket"
   ]
  },
  {
   "cell_type": "code",
   "execution_count": 138,
   "metadata": {},
   "outputs": [],
   "source": [
    "# Create resource\n",
    "cos = ibm_boto3.client(\n",
    "    service_name=\"s3\",\n",
    "    ibm_api_key_id=COS_API_KEY_ID,\n",
    "    ibm_service_instance_id=COS_RESOURCE_CRN,\n",
    "    ibm_auth_endpoint=COS_AUTH_ENDPOINT,\n",
    "    config=Config(signature_version=\"oauth\"),\n",
    "    endpoint_url=COS_ENDPOINT\n",
    ")\n",
    "\n",
    "with open(DATA_PATH + TEST_RECORDINGS, 'rb') as data:\n",
    "    cos.upload_fileobj(data, BUCKET_NAME, TEST_RECORDINGS)\n",
    "    \n",
    "with open(DATA_PATH + 'checkpoints/' + BEST_MODEL_FILE, 'rb') as data:\n",
    "    cos.upload_fileobj(data, BUCKET_NAME, BEST_MODEL_FILE)\n",
    "    \n",
    "with open(DATA_PATH + MFCC_PICKLE, 'rb') as data:\n",
    "    cos.upload_fileobj(data, BUCKET_NAME, MFCC_PICKLE)"
   ]
  },
  {
   "cell_type": "code",
   "execution_count": 141,
   "metadata": {},
   "outputs": [
    {
     "name": "stdout",
     "output_type": "stream",
     "text": [
      "Item: dev-clips-wav.tgz (372144992 bytes).\n",
      "Item: dev-clips.tgz (729032372 bytes).\n",
      "Item: dev.tsv (3555470 bytes).\n",
      "Item: mfcc.bin (499906808 bytes).\n",
      "Item: model-EN-20200329-133052.tgz (152577527 bytes).\n",
      "Item: test-clips.tgz (992056 bytes).\n",
      "Item: test.tsv (3401154 bytes).\n",
      "Item: test.txt (4 bytes).\n",
      "Item: train.tsv (55941783 bytes).\n"
     ]
    }
   ],
   "source": [
    "cos = ibm_boto3.resource(\"s3\",\n",
    "    ibm_api_key_id=COS_API_KEY_ID,\n",
    "    ibm_service_instance_id=COS_RESOURCE_CRN,\n",
    "    ibm_auth_endpoint=COS_AUTH_ENDPOINT,\n",
    "    config=Config(signature_version=\"oauth\"),\n",
    "    endpoint_url=COS_ENDPOINT\n",
    ")\n",
    "\n",
    "for file in cos.Bucket(BUCKET_NAME).objects.all():\n",
    "    print(\"Item: {0} ({1} bytes).\".format(file.key, file.size))"
   ]
  },
  {
   "cell_type": "markdown",
   "metadata": {},
   "source": [
    "### EDA"
   ]
  },
  {
   "cell_type": "code",
   "execution_count": null,
   "metadata": {},
   "outputs": [],
   "source": [
    "df = pd.read_csv(DATA_PATH + DEV_FILE, sep='\\t')"
   ]
  },
  {
   "cell_type": "code",
   "execution_count": null,
   "metadata": {},
   "outputs": [],
   "source": [
    "df.head()"
   ]
  },
  {
   "cell_type": "code",
   "execution_count": null,
   "metadata": {},
   "outputs": [],
   "source": [
    "len(df)"
   ]
  },
  {
   "cell_type": "code",
   "execution_count": null,
   "metadata": {},
   "outputs": [],
   "source": [
    "# check for unique voices \n",
    "df.nunique()"
   ]
  },
  {
   "cell_type": "code",
   "execution_count": null,
   "metadata": {},
   "outputs": [],
   "source": [
    "# check for voices up_votes only\n",
    "len(df[df.down_votes == 0]) / len(df)"
   ]
  },
  {
   "cell_type": "code",
   "execution_count": null,
   "metadata": {},
   "outputs": [],
   "source": [
    "df[df.down_votes == 0].nunique()"
   ]
  },
  {
   "cell_type": "code",
   "execution_count": null,
   "metadata": {},
   "outputs": [],
   "source": [
    "df.up_votes.unique().tolist()"
   ]
  },
  {
   "cell_type": "code",
   "execution_count": null,
   "metadata": {},
   "outputs": [],
   "source": [
    "df.down_votes.unique().tolist()"
   ]
  },
  {
   "cell_type": "code",
   "execution_count": null,
   "metadata": {},
   "outputs": [],
   "source": [
    "(df.up_votes < df.down_votes).sum()"
   ]
  },
  {
   "cell_type": "code",
   "execution_count": null,
   "metadata": {},
   "outputs": [],
   "source": [
    "df.gender.value_counts()"
   ]
  },
  {
   "cell_type": "code",
   "execution_count": null,
   "metadata": {},
   "outputs": [],
   "source": [
    "df.accent.value_counts()"
   ]
  },
  {
   "cell_type": "markdown",
   "metadata": {},
   "source": [
    "### Pairing Data"
   ]
  },
  {
   "cell_type": "code",
   "execution_count": null,
   "metadata": {},
   "outputs": [],
   "source": [
    "voices_by_path = {}\n",
    "voices_by_id = defaultdict(lambda: list())\n",
    "for x in df[['client_id', 'path']].values.tolist():\n",
    "    voices_by_path.update({x[1]: x[0]})\n",
    "    voices_by_id[x[0]].append(x[1])"
   ]
  },
  {
   "cell_type": "code",
   "execution_count": null,
   "metadata": {},
   "outputs": [],
   "source": [
    "next(iter(voices_by_path.items()))"
   ]
  },
  {
   "cell_type": "code",
   "execution_count": null,
   "metadata": {},
   "outputs": [],
   "source": [
    "next(iter(voices_by_id.items()))"
   ]
  },
  {
   "cell_type": "code",
   "execution_count": null,
   "metadata": {},
   "outputs": [],
   "source": [
    "positive_pairs = []\n",
    "sample_voices = []\n",
    "for voices in voices_by_id.values():\n",
    "    \n",
    "    # saves one recording of each person to create negative pairs later\n",
    "    sample_voices.append(voices[0])\n",
    "    \n",
    "    if(len(voices) < 2): continue\n",
    "    # create all combinations of voices of the same person\n",
    "    for left, right in itertools.combinations(voices, 2):\n",
    "        positive_pairs.append([left, right, 1])    "
   ]
  },
  {
   "cell_type": "code",
   "execution_count": null,
   "metadata": {},
   "outputs": [],
   "source": [
    "len(positive_pairs), len(sample_voices)"
   ]
  },
  {
   "cell_type": "code",
   "execution_count": null,
   "metadata": {},
   "outputs": [],
   "source": [
    "positive_pairs[0:2]"
   ]
  },
  {
   "cell_type": "code",
   "execution_count": null,
   "metadata": {},
   "outputs": [],
   "source": [
    "voices_by_id[voices_by_path['common_voice_en_20002398.mp3']]"
   ]
  },
  {
   "cell_type": "code",
   "execution_count": null,
   "metadata": {},
   "outputs": [],
   "source": [
    "negative_pairs = []\n",
    "for left, right in itertools.combinations(sample_voices, 2):\n",
    "    negative_pairs.append([left, right, 0])"
   ]
  },
  {
   "cell_type": "code",
   "execution_count": null,
   "metadata": {},
   "outputs": [],
   "source": [
    "len(negative_pairs)"
   ]
  },
  {
   "cell_type": "code",
   "execution_count": null,
   "metadata": {},
   "outputs": [],
   "source": [
    "# sample a few negative pairs as there too many of them\n",
    "negative_pairs = random.sample(negative_pairs, len(positive_pairs)*2)"
   ]
  },
  {
   "cell_type": "code",
   "execution_count": null,
   "metadata": {},
   "outputs": [],
   "source": [
    "len(negative_pairs)"
   ]
  },
  {
   "cell_type": "code",
   "execution_count": null,
   "metadata": {},
   "outputs": [],
   "source": [
    "all_pairs = positive_pairs + negative_pairs\n",
    "random.shuffle(all_pairs)\n",
    "all_pairs[0:10]"
   ]
  },
  {
   "cell_type": "markdown",
   "metadata": {},
   "source": [
    "### Loading MP3 files"
   ]
  },
  {
   "cell_type": "code",
   "execution_count": 37,
   "metadata": {},
   "outputs": [],
   "source": [
    "def get_clip(file_name, max_pad_len=400):\n",
    "    wave, sr = librosa.load(file_name, mono=True)\n",
    "    wave = wave[::3]\n",
    "    mfcc = librosa.feature.mfcc(wave, sr=sr) \n",
    "\n",
    "    pad_width = max_pad_len - mfcc.shape[1]\n",
    "    \n",
    "    if (pad_width < 0): \n",
    "        pad_width = 0\n",
    "        mfcc = mfcc[:, 0:max_pad_len]\n",
    "    \n",
    "    mfcc = np.pad(mfcc, pad_width=((0, 0), (0, pad_width)), mode='constant')\n",
    "    return mfcc.astype(np.float32)"
   ]
  },
  {
   "cell_type": "code",
   "execution_count": null,
   "metadata": {},
   "outputs": [],
   "source": [
    "all_filenames = df['path'].values.tolist()"
   ]
  },
  {
   "cell_type": "code",
   "execution_count": null,
   "metadata": {},
   "outputs": [],
   "source": [
    "len(all_filenames)"
   ]
  },
  {
   "cell_type": "code",
   "execution_count": null,
   "metadata": {},
   "outputs": [],
   "source": [
    "clips = {}\n",
    "for i in tqdm(range(len(all_filenames))):  \n",
    "    path = CLIPS_PATH + all_filenames[i]\n",
    "    clips.update({all_filenames[i]: get_clip(path)})"
   ]
  },
  {
   "cell_type": "code",
   "execution_count": null,
   "metadata": {},
   "outputs": [],
   "source": [
    "with open(DATA_PATH + MFCC_PICKLE, 'wb') as f:\n",
    "    pickle.dump((clips, all_pairs) , f)"
   ]
  },
  {
   "cell_type": "code",
   "execution_count": null,
   "metadata": {},
   "outputs": [],
   "source": [
    "for i in clips.items():\n",
    "    print(i[0])\n",
    "    print(i[1])\n",
    "    print(i[1].shape)\n",
    "    break"
   ]
  },
  {
   "cell_type": "markdown",
   "metadata": {},
   "source": [
    "### Creating the Dataset"
   ]
  },
  {
   "cell_type": "code",
   "execution_count": 3,
   "metadata": {},
   "outputs": [],
   "source": [
    "with open(DATA_PATH + MFCC_PICKLE, 'rb') as f:\n",
    "    clips, all_pairs = pickle.load(f)"
   ]
  },
  {
   "cell_type": "code",
   "execution_count": 4,
   "metadata": {},
   "outputs": [],
   "source": [
    "def get_dataset():\n",
    "    left = []\n",
    "    right = []\n",
    "    labels = []  \n",
    "    \n",
    "    for pair in all_pairs:       \n",
    "        left.append([clips.get(pair[0])])\n",
    "        right.append([clips.get(pair[1])])\n",
    "        labels.append(pair[2])        \n",
    "    \n",
    "    left = np.array(left)\n",
    "    right = np.array(right)\n",
    "    labels = np.array(labels)\n",
    "\n",
    "    left = np.rollaxis(np.rollaxis(left, 3, 1), 3, 1)\n",
    "    right = np.rollaxis(np.rollaxis(right, 3, 1), 3, 1)\n",
    "\n",
    "    dataset_size = len(all_pairs)\n",
    "    train_size = int(dataset_size*0.7)    \n",
    "   \n",
    "    return left[0:train_size], \\\n",
    "           left[train_size:dataset_size], \\\n",
    "           right[0:train_size], \\\n",
    "           right[train_size:dataset_size], \\\n",
    "           labels[0:train_size], \\\n",
    "           labels[train_size:dataset_size]"
   ]
  },
  {
   "cell_type": "code",
   "execution_count": 5,
   "metadata": {},
   "outputs": [],
   "source": [
    "left_train, left_val, right_train, right_val, labels_train, labels_val = get_dataset()"
   ]
  },
  {
   "cell_type": "code",
   "execution_count": 6,
   "metadata": {},
   "outputs": [
    {
     "name": "stdout",
     "output_type": "stream",
     "text": [
      "(48892, 20, 400, 1) (48892, 20, 400, 1)\n"
     ]
    }
   ],
   "source": [
    "print(left_train.shape, right_train.shape)"
   ]
  },
  {
   "cell_type": "code",
   "execution_count": 7,
   "metadata": {},
   "outputs": [
    {
     "name": "stdout",
     "output_type": "stream",
     "text": [
      "(20954, 20, 400, 1) (20954, 20, 400, 1)\n"
     ]
    }
   ],
   "source": [
    "print(left_val.shape, right_val.shape)"
   ]
  },
  {
   "cell_type": "code",
   "execution_count": 8,
   "metadata": {},
   "outputs": [
    {
     "name": "stdout",
     "output_type": "stream",
     "text": [
      "(48892,) (20954,)\n"
     ]
    }
   ],
   "source": [
    "print(labels_train.shape, labels_val.shape)"
   ]
  },
  {
   "cell_type": "code",
   "execution_count": 9,
   "metadata": {},
   "outputs": [],
   "source": [
    "del(clips)"
   ]
  },
  {
   "cell_type": "markdown",
   "metadata": {},
   "source": [
    "### Create Model"
   ]
  },
  {
   "cell_type": "code",
   "execution_count": 10,
   "metadata": {},
   "outputs": [],
   "source": [
    "def get_siamese_model():\n",
    "  \n",
    "    # Define the tensors for the two input images\n",
    "    left_input = Input((20, 400, 1))\n",
    "    right_input = Input((20, 400, 1))\n",
    "    \n",
    "    # Convolutional Neural Network\n",
    "    model = models.Sequential()    \n",
    "    model.add(layers.Conv2D(\n",
    "        32, \n",
    "        (10,10), \n",
    "        padding = 'same',\n",
    "        activation='relu', \n",
    "        input_shape=(20, 400, 1), \n",
    "        kernel_regularizer=regularizers.l2(2e-4)))\n",
    "    model.add(layers.MaxPooling2D())\n",
    "    \n",
    "    model.add(layers.Conv2D(\n",
    "        64, \n",
    "        (7,7),  \n",
    "        padding = 'same',\n",
    "        activation='relu',\n",
    "        kernel_regularizer=regularizers.l2(2e-4)))    \n",
    "    model.add(layers.MaxPooling2D())\n",
    "    \n",
    "    model.add(layers.Conv2D(\n",
    "        64, \n",
    "        (4,4), \n",
    "        padding = 'same', \n",
    "        activation='relu', \n",
    "        kernel_regularizer=regularizers.l2(2e-4)))\n",
    "    model.add(layers.MaxPooling2D())\n",
    "    \n",
    "    model.add(layers.Conv2D(\n",
    "        128, \n",
    "        (4,4),  \n",
    "        padding = 'same',\n",
    "        activation='relu', \n",
    "        kernel_regularizer=regularizers.l2(2e-4)))\n",
    "    \n",
    "    model.add(layers.Flatten())\n",
    "    \n",
    "    model.add(layers.Dense(\n",
    "        1024, \n",
    "        activation='sigmoid',\n",
    "        kernel_regularizer=regularizers.l2(1e-3)))\n",
    "    \n",
    "    # Generate the encodings (feature vectors) for the two images\n",
    "    encoded_l = model(left_input)\n",
    "    encoded_r = model(right_input)\n",
    "    \n",
    "    # Add a customized layer to compute the absolute difference between the encodings\n",
    "    L1_layer = layers.Lambda(lambda tensors:K.abs(tensors[0] - tensors[1]))\n",
    "    L1_distance = L1_layer([encoded_l, encoded_r])\n",
    "    \n",
    "    # Add a dense layer with a sigmoid unit to generate the similarity score\n",
    "    prediction = layers.Dense(1, activation='sigmoid')(L1_distance)\n",
    "    \n",
    "    # Connect the inputs with the outputs\n",
    "    siamese_net = models.Model(inputs=[left_input, right_input],outputs=prediction)\n",
    "    \n",
    "    # return the model\n",
    "    return siamese_net"
   ]
  },
  {
   "cell_type": "markdown",
   "metadata": {},
   "source": [
    "### Training"
   ]
  },
  {
   "cell_type": "code",
   "execution_count": 11,
   "metadata": {},
   "outputs": [
    {
     "name": "stdout",
     "output_type": "stream",
     "text": [
      "Model: \"model\"\n",
      "__________________________________________________________________________________________________\n",
      "Layer (type)                    Output Shape         Param #     Connected to                     \n",
      "==================================================================================================\n",
      "input_1 (InputLayer)            [(None, 20, 400, 1)] 0                                            \n",
      "__________________________________________________________________________________________________\n",
      "input_2 (InputLayer)            [(None, 20, 400, 1)] 0                                            \n",
      "__________________________________________________________________________________________________\n",
      "sequential (Sequential)         (None, 1024)         13408672    input_1[0][0]                    \n",
      "                                                                 input_2[0][0]                    \n",
      "__________________________________________________________________________________________________\n",
      "lambda (Lambda)                 (None, 1024)         0           sequential[1][0]                 \n",
      "                                                                 sequential[2][0]                 \n",
      "__________________________________________________________________________________________________\n",
      "dense_1 (Dense)                 (None, 1)            1025        lambda[0][0]                     \n",
      "==================================================================================================\n",
      "Total params: 13,409,697\n",
      "Trainable params: 13,409,697\n",
      "Non-trainable params: 0\n",
      "__________________________________________________________________________________________________\n"
     ]
    }
   ],
   "source": [
    "model = get_siamese_model()\n",
    "model.summary()"
   ]
  },
  {
   "cell_type": "code",
   "execution_count": 12,
   "metadata": {},
   "outputs": [],
   "source": [
    "LR = 1e-4\n",
    "model.compile(loss=\"binary_crossentropy\", optimizer = optimizers.Adam(lr = LR))"
   ]
  },
  {
   "cell_type": "code",
   "execution_count": 13,
   "metadata": {},
   "outputs": [],
   "source": [
    "now = datetime.datetime.now().strftime(\"%Y%m%d-%H%M%S\")\n",
    "\n",
    "log_dir = DATA_PATH + 'logs/EN-' + now\n",
    "tensorboard_callback = tf.keras.callbacks.TensorBoard(log_dir=log_dir, histogram_freq=1)\n",
    "\n",
    "checkpoint_path = DATA_PATH + 'checkpoints/EN-' + now\n",
    "checkpoints_callback = tf.keras.callbacks.ModelCheckpoint(\n",
    "    filepath = checkpoint_path,\n",
    "    save_best_only = True)"
   ]
  },
  {
   "cell_type": "code",
   "execution_count": 14,
   "metadata": {},
   "outputs": [
    {
     "name": "stdout",
     "output_type": "stream",
     "text": [
      "/home/csancini/w251-data/checkpoints/EN-20200329-133052\n",
      "/home/csancini/w251-data/logs/EN-20200329-133052\n"
     ]
    }
   ],
   "source": [
    "print(checkpoint_path)\n",
    "print(log_dir)"
   ]
  },
  {
   "cell_type": "code",
   "execution_count": 15,
   "metadata": {},
   "outputs": [
    {
     "name": "stdout",
     "output_type": "stream",
     "text": [
      "Train on 48892 samples, validate on 20954 samples\n",
      "Epoch 1/200\n",
      "48640/48892 [============================>.] - ETA: 0s - loss: 1.6168WARNING:tensorflow:From /usr/local/lib/python3.5/dist-packages/tensorflow_core/python/ops/resource_variable_ops.py:1786: calling BaseResourceVariable.__init__ (from tensorflow.python.ops.resource_variable_ops) with constraint is deprecated and will be removed in a future version.\n",
      "Instructions for updating:\n",
      "If using Keras pass *_constraint arguments to layers.\n",
      "INFO:tensorflow:Assets written to: /home/csancini/w251-data/checkpoints/EN-20200329-133052/assets\n",
      "48892/48892 [==============================] - 38s 777us/sample - loss: 1.6138 - val_loss: 0.9905\n",
      "Epoch 2/200\n",
      "48640/48892 [============================>.] - ETA: 0s - loss: 0.7628INFO:tensorflow:Assets written to: /home/csancini/w251-data/checkpoints/EN-20200329-133052/assets\n",
      "48892/48892 [==============================] - 34s 688us/sample - loss: 0.7620 - val_loss: 0.6187\n",
      "Epoch 3/200\n",
      "48640/48892 [============================>.] - ETA: 0s - loss: 0.5265INFO:tensorflow:Assets written to: /home/csancini/w251-data/checkpoints/EN-20200329-133052/assets\n",
      "48892/48892 [==============================] - 34s 686us/sample - loss: 0.5260 - val_loss: 0.4749\n",
      "Epoch 4/200\n",
      "48640/48892 [============================>.] - ETA: 0s - loss: 0.4216INFO:tensorflow:Assets written to: /home/csancini/w251-data/checkpoints/EN-20200329-133052/assets\n",
      "48892/48892 [==============================] - 34s 696us/sample - loss: 0.4214 - val_loss: 0.4088\n",
      "Epoch 5/200\n",
      "48640/48892 [============================>.] - ETA: 0s - loss: 0.3605INFO:tensorflow:Assets written to: /home/csancini/w251-data/checkpoints/EN-20200329-133052/assets\n",
      "48892/48892 [==============================] - 34s 691us/sample - loss: 0.3604 - val_loss: 0.3640\n",
      "Epoch 6/200\n",
      "48640/48892 [============================>.] - ETA: 0s - loss: 0.3163INFO:tensorflow:Assets written to: /home/csancini/w251-data/checkpoints/EN-20200329-133052/assets\n",
      "48892/48892 [==============================] - 33s 681us/sample - loss: 0.3163 - val_loss: 0.3296\n",
      "Epoch 7/200\n",
      "48640/48892 [============================>.] - ETA: 0s - loss: 0.2781INFO:tensorflow:Assets written to: /home/csancini/w251-data/checkpoints/EN-20200329-133052/assets\n",
      "48892/48892 [==============================] - 34s 689us/sample - loss: 0.2780 - val_loss: 0.2976\n",
      "Epoch 8/200\n",
      "48640/48892 [============================>.] - ETA: 0s - loss: 0.2453INFO:tensorflow:Assets written to: /home/csancini/w251-data/checkpoints/EN-20200329-133052/assets\n",
      "48892/48892 [==============================] - 33s 678us/sample - loss: 0.2452 - val_loss: 0.2797\n",
      "Epoch 9/200\n",
      "48640/48892 [============================>.] - ETA: 0s - loss: 0.2187INFO:tensorflow:Assets written to: /home/csancini/w251-data/checkpoints/EN-20200329-133052/assets\n",
      "48892/48892 [==============================] - 33s 677us/sample - loss: 0.2187 - val_loss: 0.2557\n",
      "Epoch 10/200\n",
      "48640/48892 [============================>.] - ETA: 0s - loss: 0.1958INFO:tensorflow:Assets written to: /home/csancini/w251-data/checkpoints/EN-20200329-133052/assets\n",
      "48892/48892 [==============================] - 34s 698us/sample - loss: 0.1958 - val_loss: 0.2391\n",
      "Epoch 11/200\n",
      "48640/48892 [============================>.] - ETA: 0s - loss: 0.1744INFO:tensorflow:Assets written to: /home/csancini/w251-data/checkpoints/EN-20200329-133052/assets\n",
      "48892/48892 [==============================] - 34s 694us/sample - loss: 0.1744 - val_loss: 0.2264\n",
      "Epoch 12/200\n",
      "48640/48892 [============================>.] - ETA: 0s - loss: 0.1571INFO:tensorflow:Assets written to: /home/csancini/w251-data/checkpoints/EN-20200329-133052/assets\n",
      "48892/48892 [==============================] - 34s 696us/sample - loss: 0.1570 - val_loss: 0.2124\n",
      "Epoch 13/200\n",
      "48640/48892 [============================>.] - ETA: 0s - loss: 0.1408INFO:tensorflow:Assets written to: /home/csancini/w251-data/checkpoints/EN-20200329-133052/assets\n",
      "48892/48892 [==============================] - 34s 692us/sample - loss: 0.1408 - val_loss: 0.2010\n",
      "Epoch 14/200\n",
      "48640/48892 [============================>.] - ETA: 0s - loss: 0.1277INFO:tensorflow:Assets written to: /home/csancini/w251-data/checkpoints/EN-20200329-133052/assets\n",
      "48892/48892 [==============================] - 34s 689us/sample - loss: 0.1276 - val_loss: 0.1867\n",
      "Epoch 15/200\n",
      "48640/48892 [============================>.] - ETA: 0s - loss: 0.1143INFO:tensorflow:Assets written to: /home/csancini/w251-data/checkpoints/EN-20200329-133052/assets\n",
      "48892/48892 [==============================] - 33s 683us/sample - loss: 0.1144 - val_loss: 0.1764\n",
      "Epoch 16/200\n",
      "48640/48892 [============================>.] - ETA: 0s - loss: 0.1041INFO:tensorflow:Assets written to: /home/csancini/w251-data/checkpoints/EN-20200329-133052/assets\n",
      "48892/48892 [==============================] - 34s 696us/sample - loss: 0.1041 - val_loss: 0.1712\n",
      "Epoch 17/200\n",
      "48640/48892 [============================>.] - ETA: 0s - loss: 0.0959INFO:tensorflow:Assets written to: /home/csancini/w251-data/checkpoints/EN-20200329-133052/assets\n",
      "48892/48892 [==============================] - 33s 679us/sample - loss: 0.0959 - val_loss: 0.1633\n",
      "Epoch 18/200\n",
      "48640/48892 [============================>.] - ETA: 0s - loss: 0.0894INFO:tensorflow:Assets written to: /home/csancini/w251-data/checkpoints/EN-20200329-133052/assets\n",
      "48892/48892 [==============================] - 33s 677us/sample - loss: 0.0894 - val_loss: 0.1583\n",
      "Epoch 19/200\n",
      "48640/48892 [============================>.] - ETA: 0s - loss: 0.0829INFO:tensorflow:Assets written to: /home/csancini/w251-data/checkpoints/EN-20200329-133052/assets\n",
      "48892/48892 [==============================] - 33s 676us/sample - loss: 0.0829 - val_loss: 0.1542\n",
      "Epoch 20/200\n",
      "48640/48892 [============================>.] - ETA: 0s - loss: 0.0784INFO:tensorflow:Assets written to: /home/csancini/w251-data/checkpoints/EN-20200329-133052/assets\n",
      "48892/48892 [==============================] - 34s 697us/sample - loss: 0.0784 - val_loss: 0.1479\n",
      "Epoch 21/200\n",
      "48640/48892 [============================>.] - ETA: 0s - loss: 0.0732INFO:tensorflow:Assets written to: /home/csancini/w251-data/checkpoints/EN-20200329-133052/assets\n",
      "48892/48892 [==============================] - 34s 697us/sample - loss: 0.0732 - val_loss: 0.1413\n",
      "Epoch 22/200\n",
      "48640/48892 [============================>.] - ETA: 0s - loss: 0.0675INFO:tensorflow:Assets written to: /home/csancini/w251-data/checkpoints/EN-20200329-133052/assets\n",
      "48892/48892 [==============================] - 34s 687us/sample - loss: 0.0675 - val_loss: 0.1397\n",
      "Epoch 23/200\n",
      "48640/48892 [============================>.] - ETA: 0s - loss: 0.0620INFO:tensorflow:Assets written to: /home/csancini/w251-data/checkpoints/EN-20200329-133052/assets\n",
      "48892/48892 [==============================] - 34s 690us/sample - loss: 0.0620 - val_loss: 0.1334\n",
      "Epoch 24/200\n",
      "48640/48892 [============================>.] - ETA: 0s - loss: 0.0585INFO:tensorflow:Assets written to: /home/csancini/w251-data/checkpoints/EN-20200329-133052/assets\n",
      "48892/48892 [==============================] - 34s 686us/sample - loss: 0.0585 - val_loss: 0.1294\n",
      "Epoch 25/200\n",
      "48892/48892 [==============================] - 31s 642us/sample - loss: 0.0599 - val_loss: 0.1351\n",
      "Epoch 26/200\n",
      "48892/48892 [==============================] - 31s 642us/sample - loss: 0.0940 - val_loss: 0.1646\n",
      "Epoch 27/200\n",
      "48892/48892 [==============================] - 31s 642us/sample - loss: 0.0926 - val_loss: 0.1469\n",
      "Epoch 28/200\n",
      "48892/48892 [==============================] - 31s 642us/sample - loss: 0.0704 - val_loss: 0.1309\n",
      "Epoch 29/200\n",
      "48640/48892 [============================>.] - ETA: 0s - loss: 0.0584INFO:tensorflow:Assets written to: /home/csancini/w251-data/checkpoints/EN-20200329-133052/assets\n",
      "48892/48892 [==============================] - 34s 695us/sample - loss: 0.0584 - val_loss: 0.1251\n",
      "Epoch 30/200\n",
      "48640/48892 [============================>.] - ETA: 0s - loss: 0.0522INFO:tensorflow:Assets written to: /home/csancini/w251-data/checkpoints/EN-20200329-133052/assets\n",
      "48892/48892 [==============================] - 34s 689us/sample - loss: 0.0522 - val_loss: 0.1192\n",
      "Epoch 31/200\n",
      "48640/48892 [============================>.] - ETA: 0s - loss: 0.0478INFO:tensorflow:Assets written to: /home/csancini/w251-data/checkpoints/EN-20200329-133052/assets\n",
      "48892/48892 [==============================] - 34s 688us/sample - loss: 0.0478 - val_loss: 0.1161\n",
      "Epoch 32/200\n",
      "48640/48892 [============================>.] - ETA: 0s - loss: 0.0443INFO:tensorflow:Assets written to: /home/csancini/w251-data/checkpoints/EN-20200329-133052/assets\n",
      "48892/48892 [==============================] - 33s 673us/sample - loss: 0.0443 - val_loss: 0.1122\n",
      "Epoch 33/200\n",
      "48640/48892 [============================>.] - ETA: 0s - loss: 0.0420INFO:tensorflow:Assets written to: /home/csancini/w251-data/checkpoints/EN-20200329-133052/assets\n",
      "48892/48892 [==============================] - 33s 674us/sample - loss: 0.0420 - val_loss: 0.1113\n",
      "Epoch 34/200\n",
      "48640/48892 [============================>.] - ETA: 0s - loss: 0.0399INFO:tensorflow:Assets written to: /home/csancini/w251-data/checkpoints/EN-20200329-133052/assets\n",
      "48892/48892 [==============================] - 33s 673us/sample - loss: 0.0399 - val_loss: 0.1087\n",
      "Epoch 35/200\n",
      "48892/48892 [==============================] - 31s 641us/sample - loss: 0.0387 - val_loss: 0.1100\n",
      "Epoch 36/200\n",
      "48892/48892 [==============================] - 31s 642us/sample - loss: 0.0668 - val_loss: 0.1811\n",
      "Epoch 37/200\n",
      "48892/48892 [==============================] - 31s 641us/sample - loss: 0.1025 - val_loss: 0.1474\n",
      "Epoch 38/200\n",
      "48892/48892 [==============================] - 31s 641us/sample - loss: 0.0726 - val_loss: 0.1306\n",
      "Epoch 39/200\n",
      "48892/48892 [==============================] - 31s 641us/sample - loss: 0.0568 - val_loss: 0.1215\n",
      "Epoch 40/200\n",
      "48892/48892 [==============================] - 31s 642us/sample - loss: 0.0494 - val_loss: 0.1159\n",
      "Epoch 41/200\n",
      "48892/48892 [==============================] - 31s 642us/sample - loss: 0.0446 - val_loss: 0.1139\n",
      "Epoch 42/200\n",
      "48892/48892 [==============================] - 31s 641us/sample - loss: 0.0410 - val_loss: 0.1091\n",
      "Epoch 43/200\n",
      "48640/48892 [============================>.] - ETA: 0s - loss: 0.0382INFO:tensorflow:Assets written to: /home/csancini/w251-data/checkpoints/EN-20200329-133052/assets\n",
      "48892/48892 [==============================] - 33s 677us/sample - loss: 0.0382 - val_loss: 0.1078\n",
      "Epoch 44/200\n",
      "48640/48892 [============================>.] - ETA: 0s - loss: 0.0370INFO:tensorflow:Assets written to: /home/csancini/w251-data/checkpoints/EN-20200329-133052/assets\n",
      "48892/48892 [==============================] - 33s 674us/sample - loss: 0.0370 - val_loss: 0.1023\n",
      "Epoch 45/200\n",
      "48892/48892 [==============================] - 31s 642us/sample - loss: 0.0357 - val_loss: 0.1028\n",
      "Epoch 46/200\n",
      "48640/48892 [============================>.] - ETA: 0s - loss: 0.0330INFO:tensorflow:Assets written to: /home/csancini/w251-data/checkpoints/EN-20200329-133052/assets\n",
      "48892/48892 [==============================] - 33s 674us/sample - loss: 0.0330 - val_loss: 0.1008\n",
      "Epoch 47/200\n",
      "48892/48892 [==============================] - 31s 641us/sample - loss: 0.0336 - val_loss: 0.1048\n",
      "Epoch 48/200\n",
      "48892/48892 [==============================] - 31s 642us/sample - loss: 0.0641 - val_loss: 0.1471\n",
      "Epoch 49/200\n",
      "48892/48892 [==============================] - 31s 642us/sample - loss: 0.0837 - val_loss: 0.1403\n",
      "Epoch 50/200\n",
      "48892/48892 [==============================] - 31s 642us/sample - loss: 0.0614 - val_loss: 0.1214\n",
      "Epoch 51/200\n",
      "48892/48892 [==============================] - 31s 642us/sample - loss: 0.0491 - val_loss: 0.1154\n",
      "Epoch 52/200\n",
      "48892/48892 [==============================] - 31s 641us/sample - loss: 0.0431 - val_loss: 0.1107\n",
      "Epoch 53/200\n",
      "48892/48892 [==============================] - 31s 641us/sample - loss: 0.0390 - val_loss: 0.1074\n",
      "Epoch 54/200\n",
      "48892/48892 [==============================] - 31s 641us/sample - loss: 0.0358 - val_loss: 0.1045\n",
      "Epoch 55/200\n",
      "48892/48892 [==============================] - 31s 641us/sample - loss: 0.0332 - val_loss: 0.1025\n",
      "Epoch 56/200\n",
      "48640/48892 [============================>.] - ETA: 0s - loss: 0.0310INFO:tensorflow:Assets written to: /home/csancini/w251-data/checkpoints/EN-20200329-133052/assets\n",
      "48892/48892 [==============================] - 33s 673us/sample - loss: 0.0310 - val_loss: 0.1004\n",
      "Epoch 57/200\n",
      "48640/48892 [============================>.] - ETA: 0s - loss: 0.0293INFO:tensorflow:Assets written to: /home/csancini/w251-data/checkpoints/EN-20200329-133052/assets\n",
      "48892/48892 [==============================] - 33s 677us/sample - loss: 0.0293 - val_loss: 0.0983\n",
      "Epoch 58/200\n",
      "48640/48892 [============================>.] - ETA: 0s - loss: 0.0279INFO:tensorflow:Assets written to: /home/csancini/w251-data/checkpoints/EN-20200329-133052/assets\n",
      "48892/48892 [==============================] - 33s 673us/sample - loss: 0.0279 - val_loss: 0.0977\n",
      "Epoch 59/200\n",
      "48892/48892 [==============================] - 31s 641us/sample - loss: 0.0412 - val_loss: 0.1471\n",
      "Epoch 60/200\n",
      "48892/48892 [==============================] - 31s 642us/sample - loss: 0.0906 - val_loss: 0.1380\n",
      "Epoch 61/200\n",
      "48892/48892 [==============================] - 31s 641us/sample - loss: 0.0624 - val_loss: 0.1230\n",
      "Epoch 62/200\n",
      "48892/48892 [==============================] - 31s 642us/sample - loss: 0.0482 - val_loss: 0.1119\n",
      "Epoch 63/200\n",
      "48892/48892 [==============================] - 31s 644us/sample - loss: 0.0419 - val_loss: 0.1094\n",
      "Epoch 64/200\n",
      "48892/48892 [==============================] - 31s 642us/sample - loss: 0.0377 - val_loss: 0.1058\n",
      "Epoch 65/200\n",
      "48892/48892 [==============================] - 31s 642us/sample - loss: 0.0344 - val_loss: 0.1039\n",
      "Epoch 66/200\n",
      "48892/48892 [==============================] - 31s 642us/sample - loss: 0.0318 - val_loss: 0.1017\n",
      "Epoch 67/200\n",
      "48892/48892 [==============================] - 31s 641us/sample - loss: 0.0296 - val_loss: 0.0998\n",
      "Epoch 68/200\n",
      "48640/48892 [============================>.] - ETA: 0s - loss: 0.0277INFO:tensorflow:Assets written to: /home/csancini/w251-data/checkpoints/EN-20200329-133052/assets\n",
      "48892/48892 [==============================] - 33s 674us/sample - loss: 0.0277 - val_loss: 0.0972\n",
      "Epoch 69/200\n",
      "48892/48892 [==============================] - 31s 642us/sample - loss: 0.0267 - val_loss: 0.0982\n",
      "Epoch 70/200\n",
      "48640/48892 [============================>.] - ETA: 0s - loss: 0.0275INFO:tensorflow:Assets written to: /home/csancini/w251-data/checkpoints/EN-20200329-133052/assets\n",
      "48892/48892 [==============================] - 33s 677us/sample - loss: 0.0275 - val_loss: 0.0952\n",
      "Epoch 71/200\n",
      "48892/48892 [==============================] - 31s 641us/sample - loss: 0.0259 - val_loss: 0.0964\n",
      "Epoch 72/200\n",
      "48892/48892 [==============================] - 31s 640us/sample - loss: 0.0468 - val_loss: 0.1505\n",
      "Epoch 73/200\n",
      "48892/48892 [==============================] - 31s 640us/sample - loss: 0.0798 - val_loss: 0.1392\n",
      "Epoch 74/200\n",
      "48892/48892 [==============================] - 31s 641us/sample - loss: 0.0564 - val_loss: 0.1205\n",
      "Epoch 75/200\n",
      "48892/48892 [==============================] - 31s 640us/sample - loss: 0.0443 - val_loss: 0.1104\n",
      "Epoch 76/200\n",
      "48892/48892 [==============================] - 31s 640us/sample - loss: 0.0386 - val_loss: 0.1071\n",
      "Epoch 77/200\n",
      "48892/48892 [==============================] - 31s 640us/sample - loss: 0.0346 - val_loss: 0.1036\n",
      "Epoch 78/200\n",
      "48892/48892 [==============================] - 31s 640us/sample - loss: 0.0316 - val_loss: 0.1014\n",
      "Epoch 79/200\n",
      "48892/48892 [==============================] - 31s 640us/sample - loss: 0.0291 - val_loss: 0.0986\n",
      "Epoch 80/200\n",
      "48892/48892 [==============================] - 31s 640us/sample - loss: 0.0270 - val_loss: 0.0967\n",
      "Epoch 81/200\n",
      "48892/48892 [==============================] - 31s 640us/sample - loss: 0.0253 - val_loss: 0.0967\n",
      "Epoch 82/200\n",
      "48640/48892 [============================>.] - ETA: 0s - loss: 0.0238INFO:tensorflow:Assets written to: /home/csancini/w251-data/checkpoints/EN-20200329-133052/assets\n",
      "48892/48892 [==============================] - 33s 673us/sample - loss: 0.0238 - val_loss: 0.0944\n",
      "Epoch 83/200\n",
      "48640/48892 [============================>.] - ETA: 0s - loss: 0.0228INFO:tensorflow:Assets written to: /home/csancini/w251-data/checkpoints/EN-20200329-133052/assets\n",
      "48892/48892 [==============================] - 33s 672us/sample - loss: 0.0228 - val_loss: 0.0932\n",
      "Epoch 84/200\n",
      "48892/48892 [==============================] - 31s 640us/sample - loss: 0.0308 - val_loss: 0.1346\n",
      "Epoch 85/200\n",
      "48892/48892 [==============================] - 31s 641us/sample - loss: 0.0767 - val_loss: 0.1375\n",
      "Epoch 86/200\n",
      "48892/48892 [==============================] - 31s 640us/sample - loss: 0.0562 - val_loss: 0.1165\n",
      "Epoch 87/200\n",
      "48892/48892 [==============================] - 31s 640us/sample - loss: 0.0424 - val_loss: 0.1094\n",
      "Epoch 88/200\n",
      "48892/48892 [==============================] - 31s 639us/sample - loss: 0.0364 - val_loss: 0.1040\n",
      "Epoch 89/200\n",
      "48892/48892 [==============================] - 31s 640us/sample - loss: 0.0326 - val_loss: 0.1018\n",
      "Epoch 90/200\n",
      "48892/48892 [==============================] - 31s 640us/sample - loss: 0.0297 - val_loss: 0.0992\n",
      "Epoch 91/200\n",
      "48892/48892 [==============================] - 31s 639us/sample - loss: 0.0273 - val_loss: 0.0971\n",
      "Epoch 92/200\n",
      "48892/48892 [==============================] - 31s 640us/sample - loss: 0.0253 - val_loss: 0.0953\n",
      "Epoch 93/200\n",
      "48892/48892 [==============================] - 31s 640us/sample - loss: 0.0236 - val_loss: 0.0938\n",
      "Epoch 94/200\n",
      "48640/48892 [============================>.] - ETA: 0s - loss: 0.0222INFO:tensorflow:Assets written to: /home/csancini/w251-data/checkpoints/EN-20200329-133052/assets\n",
      "48892/48892 [==============================] - 33s 672us/sample - loss: 0.0222 - val_loss: 0.0925\n",
      "Epoch 95/200\n",
      "48640/48892 [============================>.] - ETA: 0s - loss: 0.0209INFO:tensorflow:Assets written to: /home/csancini/w251-data/checkpoints/EN-20200329-133052/assets\n",
      "48892/48892 [==============================] - 33s 676us/sample - loss: 0.0209 - val_loss: 0.0915\n",
      "Epoch 96/200\n",
      "48640/48892 [============================>.] - ETA: 0s - loss: 0.0199INFO:tensorflow:Assets written to: /home/csancini/w251-data/checkpoints/EN-20200329-133052/assets\n",
      "48892/48892 [==============================] - 33s 672us/sample - loss: 0.0199 - val_loss: 0.0903\n",
      "Epoch 97/200\n",
      "48640/48892 [============================>.] - ETA: 0s - loss: 0.0190INFO:tensorflow:Assets written to: /home/csancini/w251-data/checkpoints/EN-20200329-133052/assets\n",
      "48892/48892 [==============================] - 33s 674us/sample - loss: 0.0190 - val_loss: 0.0882\n",
      "Epoch 98/200\n",
      "48640/48892 [============================>.] - ETA: 0s - loss: 0.0183INFO:tensorflow:Assets written to: /home/csancini/w251-data/checkpoints/EN-20200329-133052/assets\n",
      "48892/48892 [==============================] - 33s 676us/sample - loss: 0.0183 - val_loss: 0.0881\n",
      "Epoch 99/200\n",
      "48892/48892 [==============================] - 31s 642us/sample - loss: 0.0242 - val_loss: 0.1389\n",
      "Epoch 100/200\n",
      "48892/48892 [==============================] - 31s 641us/sample - loss: 0.0988 - val_loss: 0.1398\n",
      "Epoch 101/200\n",
      "48892/48892 [==============================] - 31s 641us/sample - loss: 0.0626 - val_loss: 0.1189\n",
      "Epoch 102/200\n",
      "48892/48892 [==============================] - 31s 641us/sample - loss: 0.0448 - val_loss: 0.1094\n",
      "Epoch 103/200\n",
      "48892/48892 [==============================] - 31s 640us/sample - loss: 0.0378 - val_loss: 0.1067\n",
      "Epoch 104/200\n",
      "48892/48892 [==============================] - 31s 640us/sample - loss: 0.0335 - val_loss: 0.1034\n",
      "Epoch 105/200\n",
      "48892/48892 [==============================] - 31s 640us/sample - loss: 0.0303 - val_loss: 0.1012\n",
      "Epoch 106/200\n",
      "48892/48892 [==============================] - 31s 639us/sample - loss: 0.0277 - val_loss: 0.0991\n",
      "Epoch 107/200\n",
      "48892/48892 [==============================] - 31s 640us/sample - loss: 0.0256 - val_loss: 0.0979\n",
      "Epoch 108/200\n",
      "48892/48892 [==============================] - 31s 641us/sample - loss: 0.0238 - val_loss: 0.0965\n",
      "Epoch 109/200\n",
      "48892/48892 [==============================] - 31s 640us/sample - loss: 0.0222 - val_loss: 0.0956\n",
      "Epoch 110/200\n",
      "48892/48892 [==============================] - 31s 640us/sample - loss: 0.0219 - val_loss: 0.0946\n",
      "Epoch 111/200\n",
      "48892/48892 [==============================] - 31s 640us/sample - loss: 0.0204 - val_loss: 0.0926\n",
      "Epoch 112/200\n",
      "48892/48892 [==============================] - 31s 640us/sample - loss: 0.0189 - val_loss: 0.0915\n",
      "Epoch 113/200\n",
      "48892/48892 [==============================] - 31s 641us/sample - loss: 0.0179 - val_loss: 0.0909\n",
      "Epoch 114/200\n",
      "48892/48892 [==============================] - 31s 640us/sample - loss: 0.0171 - val_loss: 0.0892\n",
      "Epoch 115/200\n",
      "48892/48892 [==============================] - 31s 639us/sample - loss: 0.0164 - val_loss: 0.0896\n",
      "Epoch 116/200\n",
      "48892/48892 [==============================] - 31s 639us/sample - loss: 0.0159 - val_loss: 0.0888\n",
      "Epoch 117/200\n",
      "48892/48892 [==============================] - 31s 640us/sample - loss: 0.0743 - val_loss: 0.1472\n",
      "Epoch 118/200\n",
      "48892/48892 [==============================] - 31s 643us/sample - loss: 0.0685 - val_loss: 0.1252\n",
      "Epoch 119/200\n",
      "48892/48892 [==============================] - 31s 642us/sample - loss: 0.0441 - val_loss: 0.1076\n",
      "Epoch 120/200\n",
      "48892/48892 [==============================] - 31s 641us/sample - loss: 0.0355 - val_loss: 0.1023\n",
      "Epoch 121/200\n",
      "48892/48892 [==============================] - 31s 639us/sample - loss: 0.0312 - val_loss: 0.1005\n",
      "Epoch 122/200\n",
      "48892/48892 [==============================] - 31s 639us/sample - loss: 0.0281 - val_loss: 0.0985\n",
      "Epoch 123/200\n",
      "48892/48892 [==============================] - 31s 638us/sample - loss: 0.0257 - val_loss: 0.0970\n",
      "Epoch 124/200\n",
      "48892/48892 [==============================] - 31s 639us/sample - loss: 0.0237 - val_loss: 0.0951\n",
      "Epoch 125/200\n",
      "48892/48892 [==============================] - 31s 640us/sample - loss: 0.0220 - val_loss: 0.0936\n",
      "Epoch 126/200\n",
      "48892/48892 [==============================] - 31s 639us/sample - loss: 0.0205 - val_loss: 0.0929\n",
      "Epoch 127/200\n",
      "48892/48892 [==============================] - 31s 640us/sample - loss: 0.0193 - val_loss: 0.0918\n",
      "Epoch 128/200\n",
      "48892/48892 [==============================] - 31s 640us/sample - loss: 0.0182 - val_loss: 0.0911\n",
      "Epoch 129/200\n",
      "48892/48892 [==============================] - 31s 640us/sample - loss: 0.0172 - val_loss: 0.0900\n",
      "Epoch 130/200\n",
      "48892/48892 [==============================] - 31s 640us/sample - loss: 0.0164 - val_loss: 0.0894\n",
      "Epoch 131/200\n",
      "48892/48892 [==============================] - 31s 640us/sample - loss: 0.0163 - val_loss: 0.0916\n",
      "Epoch 132/200\n",
      "48892/48892 [==============================] - 31s 640us/sample - loss: 0.0180 - val_loss: 0.1032\n",
      "Epoch 133/200\n",
      "48892/48892 [==============================] - 31s 641us/sample - loss: 0.0678 - val_loss: 0.1431\n",
      "Epoch 134/200\n",
      "48892/48892 [==============================] - 31s 641us/sample - loss: 0.0554 - val_loss: 0.1106\n",
      "Epoch 135/200\n",
      "48892/48892 [==============================] - 31s 641us/sample - loss: 0.0371 - val_loss: 0.1041\n",
      "Epoch 136/200\n",
      "48892/48892 [==============================] - 31s 639us/sample - loss: 0.0309 - val_loss: 0.0994\n",
      "Epoch 137/200\n",
      "48892/48892 [==============================] - 31s 640us/sample - loss: 0.0274 - val_loss: 0.0975\n",
      "Epoch 138/200\n",
      "48892/48892 [==============================] - 31s 639us/sample - loss: 0.0249 - val_loss: 0.0951\n",
      "Epoch 139/200\n",
      "48892/48892 [==============================] - 31s 640us/sample - loss: 0.0228 - val_loss: 0.0946\n",
      "Epoch 140/200\n",
      "48892/48892 [==============================] - 31s 639us/sample - loss: 0.0211 - val_loss: 0.0929\n",
      "Epoch 141/200\n",
      "48892/48892 [==============================] - 31s 639us/sample - loss: 0.0196 - val_loss: 0.0919\n",
      "Epoch 142/200\n",
      "48892/48892 [==============================] - 31s 639us/sample - loss: 0.0184 - val_loss: 0.0909\n",
      "Epoch 143/200\n",
      "48892/48892 [==============================] - 31s 639us/sample - loss: 0.0196 - val_loss: 0.0942\n",
      "Epoch 144/200\n",
      "48892/48892 [==============================] - 31s 640us/sample - loss: 0.0181 - val_loss: 0.0897\n",
      "Epoch 145/200\n",
      "48892/48892 [==============================] - 31s 640us/sample - loss: 0.0162 - val_loss: 0.0890\n",
      "Epoch 146/200\n",
      "48640/48892 [============================>.] - ETA: 0s - loss: 0.0152INFO:tensorflow:Assets written to: /home/csancini/w251-data/checkpoints/EN-20200329-133052/assets\n",
      "48892/48892 [==============================] - 33s 672us/sample - loss: 0.0152 - val_loss: 0.0875\n",
      "Epoch 147/200\n",
      "48640/48892 [============================>.] - ETA: 0s - loss: 0.0144INFO:tensorflow:Assets written to: /home/csancini/w251-data/checkpoints/EN-20200329-133052/assets\n",
      "48892/48892 [==============================] - 33s 673us/sample - loss: 0.0144 - val_loss: 0.0867\n",
      "Epoch 148/200\n",
      "48640/48892 [============================>.] - ETA: 0s - loss: 0.0137INFO:tensorflow:Assets written to: /home/csancini/w251-data/checkpoints/EN-20200329-133052/assets\n",
      "48892/48892 [==============================] - 33s 673us/sample - loss: 0.0137 - val_loss: 0.0866\n",
      "Epoch 149/200\n",
      "48640/48892 [============================>.] - ETA: 0s - loss: 0.0131INFO:tensorflow:Assets written to: /home/csancini/w251-data/checkpoints/EN-20200329-133052/assets\n",
      "48892/48892 [==============================] - 33s 676us/sample - loss: 0.0131 - val_loss: 0.0852\n",
      "Epoch 150/200\n",
      "48640/48892 [============================>.] - ETA: 0s - loss: 0.0127INFO:tensorflow:Assets written to: /home/csancini/w251-data/checkpoints/EN-20200329-133052/assets\n",
      "48892/48892 [==============================] - 33s 672us/sample - loss: 0.0127 - val_loss: 0.0841\n",
      "Epoch 151/200\n",
      "48892/48892 [==============================] - 31s 640us/sample - loss: 0.0593 - val_loss: 0.1332\n",
      "Epoch 152/200\n",
      "48892/48892 [==============================] - 31s 640us/sample - loss: 0.0664 - val_loss: 0.1201\n",
      "Epoch 153/200\n",
      "48892/48892 [==============================] - 31s 640us/sample - loss: 0.0400 - val_loss: 0.1062\n",
      "Epoch 154/200\n",
      "48892/48892 [==============================] - 31s 640us/sample - loss: 0.0315 - val_loss: 0.1027\n",
      "Epoch 155/200\n",
      "48892/48892 [==============================] - 31s 639us/sample - loss: 0.0275 - val_loss: 0.1005\n",
      "Epoch 156/200\n",
      "48892/48892 [==============================] - 31s 639us/sample - loss: 0.0248 - val_loss: 0.0990\n",
      "Epoch 157/200\n",
      "48892/48892 [==============================] - 31s 638us/sample - loss: 0.0227 - val_loss: 0.0977\n",
      "Epoch 158/200\n",
      "48892/48892 [==============================] - 31s 639us/sample - loss: 0.0209 - val_loss: 0.0971\n",
      "Epoch 159/200\n",
      "48892/48892 [==============================] - 31s 640us/sample - loss: 0.0194 - val_loss: 0.0951\n",
      "Epoch 160/200\n",
      "48892/48892 [==============================] - 31s 639us/sample - loss: 0.0181 - val_loss: 0.0941\n",
      "Epoch 161/200\n",
      "48892/48892 [==============================] - 31s 639us/sample - loss: 0.0170 - val_loss: 0.0928\n",
      "Epoch 162/200\n",
      "48892/48892 [==============================] - 31s 640us/sample - loss: 0.0160 - val_loss: 0.0926\n",
      "Epoch 163/200\n",
      "48892/48892 [==============================] - 31s 639us/sample - loss: 0.0151 - val_loss: 0.0924\n",
      "Epoch 164/200\n",
      "48892/48892 [==============================] - 31s 639us/sample - loss: 0.0146 - val_loss: 0.0945\n",
      "Epoch 165/200\n",
      "48892/48892 [==============================] - 31s 639us/sample - loss: 0.0160 - val_loss: 0.0971\n",
      "Epoch 166/200\n",
      "48892/48892 [==============================] - 31s 639us/sample - loss: 0.0263 - val_loss: 0.1226\n",
      "Epoch 167/200\n",
      "48892/48892 [==============================] - 31s 639us/sample - loss: 0.0528 - val_loss: 0.1284\n",
      "Epoch 168/200\n",
      "48892/48892 [==============================] - 31s 640us/sample - loss: 0.0380 - val_loss: 0.1049\n",
      "Epoch 169/200\n",
      "48892/48892 [==============================] - 31s 639us/sample - loss: 0.0280 - val_loss: 0.1006\n",
      "Epoch 170/200\n",
      "48892/48892 [==============================] - 31s 639us/sample - loss: 0.0240 - val_loss: 0.0983\n",
      "Epoch 171/200\n",
      "48892/48892 [==============================] - 31s 638us/sample - loss: 0.0217 - val_loss: 0.0962\n",
      "Epoch 172/200\n",
      "48892/48892 [==============================] - 31s 639us/sample - loss: 0.0198 - val_loss: 0.0951\n",
      "Epoch 173/200\n",
      "48892/48892 [==============================] - 31s 639us/sample - loss: 0.0183 - val_loss: 0.0941\n",
      "Epoch 174/200\n",
      "48892/48892 [==============================] - 31s 639us/sample - loss: 0.0170 - val_loss: 0.0929\n",
      "Epoch 175/200\n",
      "48892/48892 [==============================] - 31s 639us/sample - loss: 0.0159 - val_loss: 0.0920\n",
      "Epoch 176/200\n",
      "48892/48892 [==============================] - 31s 640us/sample - loss: 0.0149 - val_loss: 0.0916\n",
      "Epoch 177/200\n",
      "48892/48892 [==============================] - 31s 640us/sample - loss: 0.0141 - val_loss: 0.0903\n",
      "Epoch 178/200\n",
      "48892/48892 [==============================] - 31s 641us/sample - loss: 0.0133 - val_loss: 0.0899\n",
      "Epoch 179/200\n",
      "48892/48892 [==============================] - 31s 641us/sample - loss: 0.0127 - val_loss: 0.0899\n",
      "Epoch 180/200\n",
      "48892/48892 [==============================] - 31s 640us/sample - loss: 0.0121 - val_loss: 0.0881\n",
      "Epoch 181/200\n",
      "48892/48892 [==============================] - 31s 640us/sample - loss: 0.0116 - val_loss: 0.0887\n",
      "Epoch 182/200\n",
      "48892/48892 [==============================] - 31s 640us/sample - loss: 0.0111 - val_loss: 0.0866\n",
      "Epoch 183/200\n",
      "48892/48892 [==============================] - 31s 640us/sample - loss: 0.0108 - val_loss: 0.0864\n",
      "Epoch 184/200\n",
      "48892/48892 [==============================] - 31s 640us/sample - loss: 0.0104 - val_loss: 0.0853\n",
      "Epoch 185/200\n",
      "48892/48892 [==============================] - 31s 639us/sample - loss: 0.0617 - val_loss: 0.1365\n",
      "Epoch 186/200\n",
      "48892/48892 [==============================] - 31s 640us/sample - loss: 0.0655 - val_loss: 0.1135\n",
      "Epoch 187/200\n",
      "48892/48892 [==============================] - 31s 640us/sample - loss: 0.0362 - val_loss: 0.1050\n",
      "Epoch 188/200\n",
      "48892/48892 [==============================] - 31s 640us/sample - loss: 0.0284 - val_loss: 0.0993\n",
      "Epoch 189/200\n",
      "48892/48892 [==============================] - 31s 639us/sample - loss: 0.0248 - val_loss: 0.0983\n",
      "Epoch 190/200\n",
      "48892/48892 [==============================] - 31s 639us/sample - loss: 0.0225 - val_loss: 0.0967\n",
      "Epoch 191/200\n",
      "48892/48892 [==============================] - 31s 638us/sample - loss: 0.0206 - val_loss: 0.0965\n",
      "Epoch 192/200\n",
      "48892/48892 [==============================] - 31s 639us/sample - loss: 0.0191 - val_loss: 0.0951\n",
      "Epoch 193/200\n",
      "48892/48892 [==============================] - 31s 638us/sample - loss: 0.0177 - val_loss: 0.0945\n",
      "Epoch 194/200\n",
      "48892/48892 [==============================] - 31s 639us/sample - loss: 0.0166 - val_loss: 0.0926\n",
      "Epoch 195/200\n",
      "48892/48892 [==============================] - 31s 638us/sample - loss: 0.0156 - val_loss: 0.0928\n",
      "Epoch 196/200\n",
      "48892/48892 [==============================] - 31s 639us/sample - loss: 0.0147 - val_loss: 0.0914\n",
      "Epoch 197/200\n",
      "48892/48892 [==============================] - 31s 639us/sample - loss: 0.0139 - val_loss: 0.0918\n",
      "Epoch 198/200\n",
      "48892/48892 [==============================] - 31s 639us/sample - loss: 0.0132 - val_loss: 0.0902\n",
      "Epoch 199/200\n",
      "48892/48892 [==============================] - 31s 639us/sample - loss: 0.0126 - val_loss: 0.0901\n",
      "Epoch 200/200\n",
      "48892/48892 [==============================] - 31s 639us/sample - loss: 0.0120 - val_loss: 0.0903\n"
     ]
    }
   ],
   "source": [
    "BATCH = 512\n",
    "EPOCHS = 200\n",
    "\n",
    "history = model.fit(\n",
    "   [left_train, right_train], \n",
    "    labels_train, \n",
    "    batch_size = BATCH, \n",
    "    epochs = EPOCHS,\n",
    "    validation_data = ([left_val, right_val], labels_val),\n",
    "    callbacks=[checkpoints_callback, tensorboard_callback])"
   ]
  },
  {
   "cell_type": "code",
   "execution_count": 132,
   "metadata": {},
   "outputs": [
    {
     "name": "stdout",
     "output_type": "stream",
     "text": [
      "dict_keys(['loss', 'val_loss'])\n"
     ]
    }
   ],
   "source": [
    "print(history.history.keys())"
   ]
  },
  {
   "cell_type": "code",
   "execution_count": 17,
   "metadata": {},
   "outputs": [
    {
     "data": {
      "image/png": "[encoded data removed]",
      "text/plain": [
       "<Figure size 432x288 with 1 Axes>"
      ]
     },
     "metadata": {
      "needs_background": "light"
     },
     "output_type": "display_data"
    }
   ],
   "source": [
    "plt.plot(history.history['loss'])\n",
    "plt.plot(history.history['val_loss'])\n",
    "plt.title('Training Loss')\n",
    "plt.ylabel('Loss')\n",
    "plt.xlabel('epoch')\n",
    "plt.legend(['train', 'validation'], loc='upper right')\n",
    "plt.show()"
   ]
  },
  {
   "cell_type": "markdown",
   "metadata": {},
   "source": [
    "### Inference"
   ]
  },
  {
   "cell_type": "code",
   "execution_count": 18,
   "metadata": {},
   "outputs": [],
   "source": [
    "def get_accuracy(labels, predicted_scores, threshold=0.5):\n",
    "    predicted = predicted_scores > threshold\n",
    "    predicted = predicted.astype(int).ravel()\n",
    "    return np.round(100*accuracy_score(labels, predicted), 2)"
   ]
  },
  {
   "cell_type": "code",
   "execution_count": 20,
   "metadata": {},
   "outputs": [],
   "source": [
    "def plot_roc_auc(actual, predictions):\n",
    "    fpr, tpr, roc_thresholds = roc_curve(actual, predictions)\n",
    "    auc_value = auc(fpr, tpr)\n",
    "    plt.plot(fpr, tpr, label='AUC  = {:.3f}'.format(auc_value))\n",
    "    plt.xlabel('False positive rate')\n",
    "    plt.ylabel('True positive rate')\n",
    "    plt.title('ROC curve')\n",
    "    plt.legend(loc='best')\n",
    "    plt.show()"
   ]
  },
  {
   "cell_type": "code",
   "execution_count": 21,
   "metadata": {},
   "outputs": [],
   "source": [
    "def plot_precision_recall(actual, predictions):\n",
    "    precision, recall, pr_thresholds = precision_recall_curve(actual, predictions)\n",
    "    avg_precision = average_precision_score(actual, predictions)\n",
    "    plt.plot(recall, precision, label='Avg Precision  = {:.3f}'.format(avg_precision))\n",
    "    plt.ylabel('Precision')\n",
    "    plt.xlabel('Recall')\n",
    "    plt.title('Precision-Recall curve')\n",
    "    plt.legend(loc='best')\n",
    "    plt.show()"
   ]
  },
  {
   "cell_type": "code",
   "execution_count": null,
   "metadata": {},
   "outputs": [],
   "source": [
    "#saved_model = get_siamese_model()\n",
    "#saved_model.load_weights(checkpoint_path + '/variables/variables')"
   ]
  },
  {
   "cell_type": "markdown",
   "metadata": {},
   "source": [
    "#### Validation Set"
   ]
  },
  {
   "cell_type": "code",
   "execution_count": 22,
   "metadata": {},
   "outputs": [],
   "source": [
    "predicted_val = model.predict([left_val, right_val]).ravel()"
   ]
  },
  {
   "cell_type": "code",
   "execution_count": 23,
   "metadata": {},
   "outputs": [
    {
     "name": "stdout",
     "output_type": "stream",
     "text": [
      "accuracy: 97.54\n"
     ]
    }
   ],
   "source": [
    "#accuracy is a misleading metric here, we should look for the precision-recall\n",
    "#plot and select a threshold that priviledges precision but do not causes a \n",
    "#too low recall\n",
    "print('accuracy:', get_accuracy(labels_val, predicted_val))"
   ]
  },
  {
   "cell_type": "code",
   "execution_count": 24,
   "metadata": {},
   "outputs": [
    {
     "data": {
      "image/png": "[encoded data removed]",
      "text/plain": [
       "<Figure size 432x288 with 1 Axes>"
      ]
     },
     "metadata": {
      "needs_background": "light"
     },
     "output_type": "display_data"
    }
   ],
   "source": [
    "plot_roc_auc(labels_val, predicted_val)"
   ]
  },
  {
   "cell_type": "code",
   "execution_count": 25,
   "metadata": {},
   "outputs": [
    {
     "data": {
      "image/png": "[encoded data removed]",
      "text/plain": [
       "<Figure size 432x288 with 1 Axes>"
      ]
     },
     "metadata": {
      "needs_background": "light"
     },
     "output_type": "display_data"
    }
   ],
   "source": [
    "plot_precision_recall(labels_val, predicted_val)"
   ]
  },
  {
   "cell_type": "markdown",
   "metadata": {},
   "source": [
    "#### Test Set"
   ]
  },
  {
   "cell_type": "code",
   "execution_count": 29,
   "metadata": {},
   "outputs": [
    {
     "data": {
      "text/plain": [
       "['Xander_English_2.mp3',\n",
       " 'Rose_Portuguese_3.m4a',\n",
       " 'Other_Spanish_4.mp3',\n",
       " 'Xander_English_5.m4a',\n",
       " 'Xander_English_3.mp3',\n",
       " 'Other_Spanish_5.mp3',\n",
       " 'Xander_English_4.mp3',\n",
       " 'Carlos_English_1.m4a',\n",
       " 'Rose_Portuguese_1.m4a',\n",
       " 'Other_Spanish_2.mp3',\n",
       " 'Carlos_English_2.m4a',\n",
       " 'Xander_English_1.mp3',\n",
       " 'Other_Spanish_3.mp3',\n",
       " 'Carlos_Portuguese_2.m4a',\n",
       " 'Rose_Portuguese_2.m4a',\n",
       " 'Rose_Portuguese_4.m4a',\n",
       " 'Carlos_Portuguese_1.m4a',\n",
       " 'Carlos_Portuguese_3.m4a',\n",
       " 'Xander_English_6.m4a',\n",
       " 'Other_Spanish_1.mp3',\n",
       " 'Carlos_English_3.m4a',\n",
       " 'Rose_Portuguese_5.m4a']"
      ]
     },
     "execution_count": 29,
     "metadata": {},
     "output_type": "execute_result"
    }
   ],
   "source": [
    "test_filenames = os.listdir(TEST_CLIPS)\n",
    "test_filenames"
   ]
  },
  {
   "cell_type": "code",
   "execution_count": 32,
   "metadata": {},
   "outputs": [
    {
     "data": {
      "text/plain": [
       "['Xander_English_2.mp3', 'Rose_Portuguese_3.m4a', 0]"
      ]
     },
     "execution_count": 32,
     "metadata": {},
     "output_type": "execute_result"
    }
   ],
   "source": [
    "test_pairs = []\n",
    "for a, b in itertools.combinations(test_filenames, 2):\n",
    "    test_pairs.append([a, b, int(a[0:a.find('_')] == b[0:b.find('_')])])\n",
    "test_pairs[0]"
   ]
  },
  {
   "cell_type": "code",
   "execution_count": 35,
   "metadata": {},
   "outputs": [],
   "source": [
    "def get_test_dataset():\n",
    "    left = []\n",
    "    right = []\n",
    "    labels = [] \n",
    "\n",
    "    test_clips = {}\n",
    "    for r in os.listdir(TEST_CLIPS):  \n",
    "        test_path = TEST_CLIPS + r\n",
    "        test_clips.update({r: get_clip(test_path)})\n",
    "    \n",
    "    for pair in test_pairs:       \n",
    "        left.append([test_clips.get(pair[0])]) \n",
    "        right.append([test_clips.get(pair[1])])\n",
    "        labels.append(pair[2])        \n",
    "    \n",
    "    left = np.array(left).astype(np.float32)\n",
    "    right = np.array(right).astype(np.float32)\n",
    "    labels = np.array(labels).astype(int)\n",
    "\n",
    "    left = np.rollaxis(np.rollaxis(left, 3, 1), 3, 1)\n",
    "    right = np.rollaxis(np.rollaxis(right, 3, 1), 3, 1)\n",
    "\n",
    "    return left, right, labels"
   ]
  },
  {
   "cell_type": "code",
   "execution_count": 38,
   "metadata": {},
   "outputs": [
    {
     "data": {
      "text/plain": [
       "((231, 20, 400, 1), (231, 20, 400, 1), (231,))"
      ]
     },
     "execution_count": 38,
     "metadata": {},
     "output_type": "execute_result"
    }
   ],
   "source": [
    "test_left, test_right, labels_test = get_test_dataset()\n",
    "test_left.shape, test_right.shape, labels_test.shape"
   ]
  },
  {
   "cell_type": "code",
   "execution_count": 41,
   "metadata": {},
   "outputs": [],
   "source": [
    "predicted_test = model.predict([test_left, test_right]).ravel()"
   ]
  },
  {
   "cell_type": "code",
   "execution_count": 42,
   "metadata": {},
   "outputs": [
    {
     "name": "stdout",
     "output_type": "stream",
     "text": [
      "accuracy: 87.45\n"
     ]
    }
   ],
   "source": [
    "print('accuracy:', get_accuracy(labels_test, predicted_test))"
   ]
  },
  {
   "cell_type": "code",
   "execution_count": 44,
   "metadata": {},
   "outputs": [
    {
     "data": {
      "image/png": "[encoded data removed]",
      "text/plain": [
       "<Figure size 432x288 with 1 Axes>"
      ]
     },
     "metadata": {
      "needs_background": "light"
     },
     "output_type": "display_data"
    }
   ],
   "source": [
    "plot_roc_auc(labels_test, predicted_test)"
   ]
  },
  {
   "cell_type": "code",
   "execution_count": 45,
   "metadata": {},
   "outputs": [
    {
     "data": {
      "image/png": "[encoded data removed]",
      "text/plain": [
       "<Figure size 432x288 with 1 Axes>"
      ]
     },
     "metadata": {
      "needs_background": "light"
     },
     "output_type": "display_data"
    }
   ],
   "source": [
    "plot_precision_recall(labels_test, predicted_test)"
   ]
  },
  {
   "cell_type": "code",
   "execution_count": 46,
   "metadata": {},
   "outputs": [
    {
     "data": {
      "text/html": [
       "<div>\n",
       "<style scoped>\n",
       "    .dataframe tbody tr th:only-of-type {\n",
       "        vertical-align: middle;\n",
       "    }\n",
       "\n",
       "    .dataframe tbody tr th {\n",
       "        vertical-align: top;\n",
       "    }\n",
       "\n",
       "    .dataframe thead th {\n",
       "        text-align: right;\n",
       "    }\n",
       "</style>\n",
       "<table border=\"1\" class=\"dataframe\">\n",
       "  <thead>\n",
       "    <tr style=\"text-align: right;\">\n",
       "      <th></th>\n",
       "      <th>voice_a</th>\n",
       "      <th>voice_b</th>\n",
       "      <th>label</th>\n",
       "      <th>scores</th>\n",
       "    </tr>\n",
       "  </thead>\n",
       "  <tbody>\n",
       "    <tr>\n",
       "      <th>0</th>\n",
       "      <td>Xander_English_2.mp3</td>\n",
       "      <td>Rose_Portuguese_3.m4a</td>\n",
       "      <td>0</td>\n",
       "      <td>0.000087</td>\n",
       "    </tr>\n",
       "    <tr>\n",
       "      <th>1</th>\n",
       "      <td>Xander_English_2.mp3</td>\n",
       "      <td>Other_Spanish_4.mp3</td>\n",
       "      <td>0</td>\n",
       "      <td>0.057352</td>\n",
       "    </tr>\n",
       "    <tr>\n",
       "      <th>2</th>\n",
       "      <td>Xander_English_2.mp3</td>\n",
       "      <td>Xander_English_5.m4a</td>\n",
       "      <td>1</td>\n",
       "      <td>0.745713</td>\n",
       "    </tr>\n",
       "    <tr>\n",
       "      <th>3</th>\n",
       "      <td>Xander_English_2.mp3</td>\n",
       "      <td>Xander_English_3.mp3</td>\n",
       "      <td>1</td>\n",
       "      <td>0.569276</td>\n",
       "    </tr>\n",
       "    <tr>\n",
       "      <th>4</th>\n",
       "      <td>Xander_English_2.mp3</td>\n",
       "      <td>Other_Spanish_5.mp3</td>\n",
       "      <td>0</td>\n",
       "      <td>0.000053</td>\n",
       "    </tr>\n",
       "  </tbody>\n",
       "</table>\n",
       "</div>"
      ],
      "text/plain": [
       "                voice_a                voice_b  label    scores\n",
       "0  Xander_English_2.mp3  Rose_Portuguese_3.m4a      0  0.000087\n",
       "1  Xander_English_2.mp3    Other_Spanish_4.mp3      0  0.057352\n",
       "2  Xander_English_2.mp3   Xander_English_5.m4a      1  0.745713\n",
       "3  Xander_English_2.mp3   Xander_English_3.mp3      1  0.569276\n",
       "4  Xander_English_2.mp3    Other_Spanish_5.mp3      0  0.000053"
      ]
     },
     "execution_count": 46,
     "metadata": {},
     "output_type": "execute_result"
    }
   ],
   "source": [
    "test_df = pd.DataFrame(test_pairs, columns=['voice_a', 'voice_b', 'label'])\n",
    "test_df['scores'] = predicted_test\n",
    "test_df.head()"
   ]
  },
  {
   "cell_type": "code",
   "execution_count": 48,
   "metadata": {},
   "outputs": [
    {
     "data": {
      "text/html": [
       "<div>\n",
       "<style scoped>\n",
       "    .dataframe tbody tr th:only-of-type {\n",
       "        vertical-align: middle;\n",
       "    }\n",
       "\n",
       "    .dataframe tbody tr th {\n",
       "        vertical-align: top;\n",
       "    }\n",
       "\n",
       "    .dataframe thead th {\n",
       "        text-align: right;\n",
       "    }\n",
       "</style>\n",
       "<table border=\"1\" class=\"dataframe\">\n",
       "  <thead>\n",
       "    <tr style=\"text-align: right;\">\n",
       "      <th></th>\n",
       "      <th>voice_a</th>\n",
       "      <th>voice_b</th>\n",
       "      <th>label</th>\n",
       "      <th>scores</th>\n",
       "    </tr>\n",
       "  </thead>\n",
       "  <tbody>\n",
       "    <tr>\n",
       "      <th>21</th>\n",
       "      <td>Rose_Portuguese_3.m4a</td>\n",
       "      <td>Other_Spanish_4.mp3</td>\n",
       "      <td>0</td>\n",
       "      <td>0.969830</td>\n",
       "    </tr>\n",
       "    <tr>\n",
       "      <th>24</th>\n",
       "      <td>Rose_Portuguese_3.m4a</td>\n",
       "      <td>Other_Spanish_5.mp3</td>\n",
       "      <td>0</td>\n",
       "      <td>0.535046</td>\n",
       "    </tr>\n",
       "    <tr>\n",
       "      <th>31</th>\n",
       "      <td>Rose_Portuguese_3.m4a</td>\n",
       "      <td>Other_Spanish_3.mp3</td>\n",
       "      <td>0</td>\n",
       "      <td>0.582624</td>\n",
       "    </tr>\n",
       "    <tr>\n",
       "      <th>41</th>\n",
       "      <td>Other_Spanish_4.mp3</td>\n",
       "      <td>Xander_English_5.m4a</td>\n",
       "      <td>0</td>\n",
       "      <td>0.681694</td>\n",
       "    </tr>\n",
       "    <tr>\n",
       "      <th>46</th>\n",
       "      <td>Other_Spanish_4.mp3</td>\n",
       "      <td>Rose_Portuguese_1.m4a</td>\n",
       "      <td>0</td>\n",
       "      <td>0.785764</td>\n",
       "    </tr>\n",
       "    <tr>\n",
       "      <th>52</th>\n",
       "      <td>Other_Spanish_4.mp3</td>\n",
       "      <td>Rose_Portuguese_2.m4a</td>\n",
       "      <td>0</td>\n",
       "      <td>0.998242</td>\n",
       "    </tr>\n",
       "    <tr>\n",
       "      <th>53</th>\n",
       "      <td>Other_Spanish_4.mp3</td>\n",
       "      <td>Rose_Portuguese_4.m4a</td>\n",
       "      <td>0</td>\n",
       "      <td>0.999282</td>\n",
       "    </tr>\n",
       "    <tr>\n",
       "      <th>59</th>\n",
       "      <td>Other_Spanish_4.mp3</td>\n",
       "      <td>Rose_Portuguese_5.m4a</td>\n",
       "      <td>0</td>\n",
       "      <td>0.999613</td>\n",
       "    </tr>\n",
       "    <tr>\n",
       "      <th>111</th>\n",
       "      <td>Xander_English_4.mp3</td>\n",
       "      <td>Carlos_English_1.m4a</td>\n",
       "      <td>0</td>\n",
       "      <td>0.549276</td>\n",
       "    </tr>\n",
       "    <tr>\n",
       "      <th>114</th>\n",
       "      <td>Xander_English_4.mp3</td>\n",
       "      <td>Carlos_English_2.m4a</td>\n",
       "      <td>0</td>\n",
       "      <td>0.761858</td>\n",
       "    </tr>\n",
       "    <tr>\n",
       "      <th>143</th>\n",
       "      <td>Rose_Portuguese_1.m4a</td>\n",
       "      <td>Other_Spanish_3.mp3</td>\n",
       "      <td>0</td>\n",
       "      <td>0.909388</td>\n",
       "    </tr>\n",
       "    <tr>\n",
       "      <th>187</th>\n",
       "      <td>Other_Spanish_3.mp3</td>\n",
       "      <td>Rose_Portuguese_2.m4a</td>\n",
       "      <td>0</td>\n",
       "      <td>0.994732</td>\n",
       "    </tr>\n",
       "    <tr>\n",
       "      <th>188</th>\n",
       "      <td>Other_Spanish_3.mp3</td>\n",
       "      <td>Rose_Portuguese_4.m4a</td>\n",
       "      <td>0</td>\n",
       "      <td>0.994193</td>\n",
       "    </tr>\n",
       "    <tr>\n",
       "      <th>194</th>\n",
       "      <td>Other_Spanish_3.mp3</td>\n",
       "      <td>Rose_Portuguese_5.m4a</td>\n",
       "      <td>0</td>\n",
       "      <td>0.977708</td>\n",
       "    </tr>\n",
       "    <tr>\n",
       "      <th>207</th>\n",
       "      <td>Rose_Portuguese_2.m4a</td>\n",
       "      <td>Other_Spanish_1.mp3</td>\n",
       "      <td>0</td>\n",
       "      <td>0.949333</td>\n",
       "    </tr>\n",
       "    <tr>\n",
       "      <th>213</th>\n",
       "      <td>Rose_Portuguese_4.m4a</td>\n",
       "      <td>Other_Spanish_1.mp3</td>\n",
       "      <td>0</td>\n",
       "      <td>0.937781</td>\n",
       "    </tr>\n",
       "    <tr>\n",
       "      <th>229</th>\n",
       "      <td>Other_Spanish_1.mp3</td>\n",
       "      <td>Rose_Portuguese_5.m4a</td>\n",
       "      <td>0</td>\n",
       "      <td>0.763048</td>\n",
       "    </tr>\n",
       "  </tbody>\n",
       "</table>\n",
       "</div>"
      ],
      "text/plain": [
       "                   voice_a                voice_b  label    scores\n",
       "21   Rose_Portuguese_3.m4a    Other_Spanish_4.mp3      0  0.969830\n",
       "24   Rose_Portuguese_3.m4a    Other_Spanish_5.mp3      0  0.535046\n",
       "31   Rose_Portuguese_3.m4a    Other_Spanish_3.mp3      0  0.582624\n",
       "41     Other_Spanish_4.mp3   Xander_English_5.m4a      0  0.681694\n",
       "46     Other_Spanish_4.mp3  Rose_Portuguese_1.m4a      0  0.785764\n",
       "52     Other_Spanish_4.mp3  Rose_Portuguese_2.m4a      0  0.998242\n",
       "53     Other_Spanish_4.mp3  Rose_Portuguese_4.m4a      0  0.999282\n",
       "59     Other_Spanish_4.mp3  Rose_Portuguese_5.m4a      0  0.999613\n",
       "111   Xander_English_4.mp3   Carlos_English_1.m4a      0  0.549276\n",
       "114   Xander_English_4.mp3   Carlos_English_2.m4a      0  0.761858\n",
       "143  Rose_Portuguese_1.m4a    Other_Spanish_3.mp3      0  0.909388\n",
       "187    Other_Spanish_3.mp3  Rose_Portuguese_2.m4a      0  0.994732\n",
       "188    Other_Spanish_3.mp3  Rose_Portuguese_4.m4a      0  0.994193\n",
       "194    Other_Spanish_3.mp3  Rose_Portuguese_5.m4a      0  0.977708\n",
       "207  Rose_Portuguese_2.m4a    Other_Spanish_1.mp3      0  0.949333\n",
       "213  Rose_Portuguese_4.m4a    Other_Spanish_1.mp3      0  0.937781\n",
       "229    Other_Spanish_1.mp3  Rose_Portuguese_5.m4a      0  0.763048"
      ]
     },
     "execution_count": 48,
     "metadata": {},
     "output_type": "execute_result"
    }
   ],
   "source": [
    "false_positives = (test_df['scores'] > 0.5) & (test_df['label'] == 0)\n",
    "test_df[false_positives]"
   ]
  },
  {
   "cell_type": "code",
   "execution_count": 49,
   "metadata": {},
   "outputs": [
    {
     "data": {
      "text/html": [
       "<div>\n",
       "<style scoped>\n",
       "    .dataframe tbody tr th:only-of-type {\n",
       "        vertical-align: middle;\n",
       "    }\n",
       "\n",
       "    .dataframe tbody tr th {\n",
       "        vertical-align: top;\n",
       "    }\n",
       "\n",
       "    .dataframe thead th {\n",
       "        text-align: right;\n",
       "    }\n",
       "</style>\n",
       "<table border=\"1\" class=\"dataframe\">\n",
       "  <thead>\n",
       "    <tr style=\"text-align: right;\">\n",
       "      <th></th>\n",
       "      <th>voice_a</th>\n",
       "      <th>voice_b</th>\n",
       "      <th>label</th>\n",
       "      <th>scores</th>\n",
       "    </tr>\n",
       "  </thead>\n",
       "  <tbody>\n",
       "    <tr>\n",
       "      <th>17</th>\n",
       "      <td>Xander_English_2.mp3</td>\n",
       "      <td>Xander_English_6.m4a</td>\n",
       "      <td>1</td>\n",
       "      <td>0.433957</td>\n",
       "    </tr>\n",
       "    <tr>\n",
       "      <th>57</th>\n",
       "      <td>Other_Spanish_4.mp3</td>\n",
       "      <td>Other_Spanish_1.mp3</td>\n",
       "      <td>1</td>\n",
       "      <td>0.468587</td>\n",
       "    </tr>\n",
       "    <tr>\n",
       "      <th>67</th>\n",
       "      <td>Xander_English_5.m4a</td>\n",
       "      <td>Xander_English_1.mp3</td>\n",
       "      <td>1</td>\n",
       "      <td>0.203956</td>\n",
       "    </tr>\n",
       "    <tr>\n",
       "      <th>98</th>\n",
       "      <td>Other_Spanish_5.mp3</td>\n",
       "      <td>Other_Spanish_2.mp3</td>\n",
       "      <td>1</td>\n",
       "      <td>0.212309</td>\n",
       "    </tr>\n",
       "    <tr>\n",
       "      <th>134</th>\n",
       "      <td>Carlos_English_1.m4a</td>\n",
       "      <td>Carlos_Portuguese_1.m4a</td>\n",
       "      <td>1</td>\n",
       "      <td>0.000259</td>\n",
       "    </tr>\n",
       "    <tr>\n",
       "      <th>138</th>\n",
       "      <td>Carlos_English_1.m4a</td>\n",
       "      <td>Carlos_English_3.m4a</td>\n",
       "      <td>1</td>\n",
       "      <td>0.008921</td>\n",
       "    </tr>\n",
       "    <tr>\n",
       "      <th>145</th>\n",
       "      <td>Rose_Portuguese_1.m4a</td>\n",
       "      <td>Rose_Portuguese_2.m4a</td>\n",
       "      <td>1</td>\n",
       "      <td>0.234085</td>\n",
       "    </tr>\n",
       "    <tr>\n",
       "      <th>198</th>\n",
       "      <td>Carlos_Portuguese_2.m4a</td>\n",
       "      <td>Carlos_Portuguese_3.m4a</td>\n",
       "      <td>1</td>\n",
       "      <td>0.000964</td>\n",
       "    </tr>\n",
       "    <tr>\n",
       "      <th>201</th>\n",
       "      <td>Carlos_Portuguese_2.m4a</td>\n",
       "      <td>Carlos_English_3.m4a</td>\n",
       "      <td>1</td>\n",
       "      <td>0.221964</td>\n",
       "    </tr>\n",
       "    <tr>\n",
       "      <th>215</th>\n",
       "      <td>Rose_Portuguese_4.m4a</td>\n",
       "      <td>Rose_Portuguese_5.m4a</td>\n",
       "      <td>1</td>\n",
       "      <td>0.059510</td>\n",
       "    </tr>\n",
       "    <tr>\n",
       "      <th>216</th>\n",
       "      <td>Carlos_Portuguese_1.m4a</td>\n",
       "      <td>Carlos_Portuguese_3.m4a</td>\n",
       "      <td>1</td>\n",
       "      <td>0.000641</td>\n",
       "    </tr>\n",
       "    <tr>\n",
       "      <th>223</th>\n",
       "      <td>Carlos_Portuguese_3.m4a</td>\n",
       "      <td>Carlos_English_3.m4a</td>\n",
       "      <td>1</td>\n",
       "      <td>0.000285</td>\n",
       "    </tr>\n",
       "  </tbody>\n",
       "</table>\n",
       "</div>"
      ],
      "text/plain": [
       "                     voice_a                  voice_b  label    scores\n",
       "17      Xander_English_2.mp3     Xander_English_6.m4a      1  0.433957\n",
       "57       Other_Spanish_4.mp3      Other_Spanish_1.mp3      1  0.468587\n",
       "67      Xander_English_5.m4a     Xander_English_1.mp3      1  0.203956\n",
       "98       Other_Spanish_5.mp3      Other_Spanish_2.mp3      1  0.212309\n",
       "134     Carlos_English_1.m4a  Carlos_Portuguese_1.m4a      1  0.000259\n",
       "138     Carlos_English_1.m4a     Carlos_English_3.m4a      1  0.008921\n",
       "145    Rose_Portuguese_1.m4a    Rose_Portuguese_2.m4a      1  0.234085\n",
       "198  Carlos_Portuguese_2.m4a  Carlos_Portuguese_3.m4a      1  0.000964\n",
       "201  Carlos_Portuguese_2.m4a     Carlos_English_3.m4a      1  0.221964\n",
       "215    Rose_Portuguese_4.m4a    Rose_Portuguese_5.m4a      1  0.059510\n",
       "216  Carlos_Portuguese_1.m4a  Carlos_Portuguese_3.m4a      1  0.000641\n",
       "223  Carlos_Portuguese_3.m4a     Carlos_English_3.m4a      1  0.000285"
      ]
     },
     "execution_count": 49,
     "metadata": {},
     "output_type": "execute_result"
    }
   ],
   "source": [
    "false_negatives = (test_df['scores'] < 0.5) & (test_df['label'] == 1)\n",
    "test_df[false_negatives]"
   ]
  },
  {
   "cell_type": "markdown",
   "metadata": {},
   "source": [
    "### Production"
   ]
  },
  {
   "cell_type": "code",
   "execution_count": null,
   "metadata": {},
   "outputs": [],
   "source": [
    "PROD_PATH = DATA_PATH + 'production/'\n",
    "REF_CLIP = PROD_PATH + 'ref_clip.wav'\n",
    "REF_CLIPS_PICKLE = PROD_PATH + 'ref_clips.pickle'\n",
    "BEST_MODEL_PATH = DATA_PATH + 'production/model/'\n",
    "SCORE_THRESHOLD = 0.5\n",
    "REF_CLIPS = None\n",
    "MODEL = None"
   ]
  },
  {
   "cell_type": "code",
   "execution_count": 123,
   "metadata": {},
   "outputs": [],
   "source": [
    "def get_clips(clip_path, recorded_byte_array, min_size=1):    \n",
    "    \"\"\"\n",
    "    Splits a long clip in multiple smaller clips with MFCC length of 400. \n",
    "    Also discards the final part of the audio file the is not a multiple of 400.\n",
    "    \"\"\"\n",
    "    \n",
    "    #TODO: this function should also work with a recorded byte array\n",
    "    # since we don't need to save the user's voice everytime they try to open the door\n",
    "    \n",
    "    pad_length = 400\n",
    "    \n",
    "    wave, sr = librosa.load(clip_path, mono=True)\n",
    "    wave = wave[::3]\n",
    "    mfcc = librosa.feature.mfcc(wave, sr=sr)\n",
    "        \n",
    "    n_clips = int(mfcc.shape[1] / pad_length)\n",
    "    \n",
    "    if (n_clips < min_size):\n",
    "        raise Exception('Audio file too short. Expected MFCC equal or greater than {}, but was: {}'.format(\n",
    "            min_size*400, mfcc.shape[1]))\n",
    "    \n",
    "    # cut the recording in smaller clips\n",
    "    ref_clips = []\n",
    "    for i in range(1, n_clips+1):\n",
    "        ref_clips.append(mfcc[:, (i-1)*pad_length:i*pad_length])\n",
    "        \n",
    "    # REMOVED: a tiny part could lead to a bad score\n",
    "    # add the last clip and fill with zeros up to 400\n",
    "    #last = mfcc[:, n_clips*pad_length:mfcc.shape[1]]\n",
    "    #if(last.shape[1] > 0): \n",
    "    #    ref_clips.append(np.pad(\n",
    "    #        last, \n",
    "    #        pad_width = ((0, 0), (0, pad_length - last.shape[1])),\n",
    "    #        mode = 'constant'))\n",
    "    \n",
    "    return ref_clips\n",
    "    "
   ]
  },
  {
   "cell_type": "code",
   "execution_count": null,
   "metadata": {},
   "outputs": [],
   "source": [
    "def setup_voice_system():   \n",
    "    \"\"\"\n",
    "    Records the voice of the user, splits the voice in small clippings and saves\n",
    "    the clippings for later inference.\n",
    "    \"\"\"\n",
    "    \n",
    "    #TODO\n",
    "    #record the voice and save the file in path REF_CLIP\n",
    "    #if time allows, multiple users to open the door\n",
    "    \n",
    "    # expect at least 3 clips from reference recording \n",
    "    ref_clips = get_clips(REF_CLIP, 3)\n",
    "    \n",
    "    with open(REF_CLIPS_PICKLE, 'wb') as handle: \n",
    "        pickle.dump(ref_clips, handle)   "
   ]
  },
  {
   "cell_type": "code",
   "execution_count": null,
   "metadata": {},
   "outputs": [],
   "source": [
    "def start_voice_system():\n",
    "    \"\"\"\n",
    "    Loads the reference clippings and the weights of the model.\n",
    "    \"\"\"\n",
    "    \n",
    "    try:\n",
    "        with open(REF_CLIPS_PICKLE, 'rb') as handle:\n",
    "            REF_CLIPS = pickle.load(handle) \n",
    "    except Exception as e:\n",
    "        raise Exception('Could not find reference voice clips. Was the system set up?')\n",
    "\n",
    "        \n",
    "    MODEL = models.load_model(BEST_MODEL_PATH)    \n",
    "        \n",
    "    try:\n",
    "        with open(REF_CLIPS_PICKLE, 'rb') as handle:\n",
    "            ref_clips = pickle.load(handle) \n",
    "    except Exception as e:\n",
    "        raise Exception('Could not find reference voice clips. Was the system set up?')\n",
    "        \n",
    "    return ref_clips, model\n",
    "    "
   ]
  },
  {
   "cell_type": "code",
   "execution_count": null,
   "metadata": {},
   "outputs": [],
   "source": [
    "def get_user_voice():\n",
    "    \"\"\"\n",
    "    Record the user voice anr return smaller processed MFCC clippings\n",
    "    \"\"\"\n",
    "    # TODO\n",
    "    recorded_byte_array = np.array()\n",
    "    \n",
    "    return get_clips(None, recorded_byte_array, min_size=1):   \n",
    "    "
   ]
  },
  {
   "cell_type": "code",
   "execution_count": 131,
   "metadata": {},
   "outputs": [],
   "source": [
    "def get_inference_dataset(actual_clips):\n",
    "    left = []\n",
    "    right = []\n",
    "    \n",
    "    for ref in REF_CLIPS:\n",
    "        for actual in actual_clips:\n",
    "            left.append([ref]) \n",
    "            right.append([actual]) \n",
    "    \n",
    "    left = np.array(left).astype(np.float32)\n",
    "    right = np.array(right).astype(np.float32)\n",
    "\n",
    "    left = np.rollaxis(np.rollaxis(left, 3, 1), 3, 1)\n",
    "    right = np.rollaxis(np.rollaxis(right, 3, 1), 3, 1)\n",
    "\n",
    "    return left, right"
   ]
  },
  {
   "cell_type": "code",
   "execution_count": 128,
   "metadata": {},
   "outputs": [],
   "source": [
    "def speech_unlock(left, right):\n",
    "    return np.mean(MODEL.predict([left, right])) > SCORE_THRESHOLD"
   ]
  },
  {
   "cell_type": "code",
   "execution_count": null,
   "metadata": {},
   "outputs": [],
   "source": [
    "# main.py in TX2 should contain something like this\n",
    "\n",
    "setup_voice_system()\n",
    "\n",
    "start_voice_system()\n",
    "\n",
    "actual_clips = get_user_voice()\n",
    "\n",
    "left, right = get_inference_dataset(ref_clips, actual_clips)\n",
    "\n",
    "unlock = speech_unlock(left, right)\n",
    "\n",
    "if (unlock):\n",
    "    #do something"
   ]
  },
  {
   "cell_type": "code",
   "execution_count": null,
   "metadata": {},
   "outputs": [],
   "source": []
  }
 ],
 "metadata": {
  "kernelspec": {
   "display_name": "Python 3",
   "language": "python",
   "name": "python3"
  },
  "language_info": {
   "codemirror_mode": {
    "name": "ipython",
    "version": 3
   },
   "file_extension": ".py",
   "mimetype": "text/x-python",
   "name": "python",
   "nbconvert_exporter": "python",
   "pygments_lexer": "ipython3",
   "version": "3.5.3"
  }
 },
 "nbformat": 4,
 "nbformat_minor": 4
}